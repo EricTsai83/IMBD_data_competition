{
 "cells": [
  {
   "cell_type": "code",
   "execution_count": 1,
   "id": "923c6d7e",
   "metadata": {},
   "outputs": [],
   "source": [
    "import config\n",
    "import ast\n",
    "\n",
    "import pandas as pd\n",
    "from sklearn.pipeline import Pipeline\n",
    "import matplotlib.pyplot as plt\n",
    "import seaborn as sns\n",
    "import numpy as np\n",
    "import pickle\n",
    "import statistics\n",
    "\n",
    "from utils.pandas_dataframe import grid_display\n",
    "from sklearn.preprocessing import MinMaxScaler\n",
    "from sklearn.preprocessing import StandardScaler\n",
    "from sklearn.preprocessing import LabelEncoder, OneHotEncoder\n",
    "from itertools import permutations\n",
    "import gc\n",
    "\n",
    "# validation\n",
    "from sklearn.model_selection import train_test_split\n",
    "from sklearn.model_selection import cross_val_score\n",
    "from sklearn.model_selection import RepeatedKFold\n",
    "from sklearn.metrics import mean_squared_error\n",
    "from sklearn.metrics import r2_score\n",
    "\n",
    "# model\n",
    "from sklearn.preprocessing import PolynomialFeatures\n",
    "from sklearn.linear_model import LinearRegression\n",
    "from sklearn.linear_model import Lasso\n",
    "from sklearn.linear_model import Ridge\n",
    "import xgboost as xgb\n",
    "from sklearn.ensemble import GradientBoostingRegressor\n",
    "from sklearn.ensemble import AdaBoostRegressor\n",
    "from sklearn.neighbors import KNeighborsRegressor\n",
    "from morfist import MixedRandomForest\n",
    "\n",
    "# grid search\n",
    "from sklearn.linear_model import RidgeCV\n",
    "from sklearn.linear_model import LassoCV\n",
    "from sklearn.linear_model import MultiTaskLassoCV\n",
    "from sklearn.model_selection import GridSearchCV\n",
    "\n",
    "\n",
    "from sklearn.multioutput import RegressorChain\n",
    "from sklearn.multioutput import MultiOutputRegressor\n",
    "\n",
    "from IPython.display import display\n",
    "\n",
    "\n",
    "%matplotlib inline"
   ]
  },
  {
   "cell_type": "code",
   "execution_count": 2,
   "id": "a7ba4e7f",
   "metadata": {},
   "outputs": [],
   "source": [
    "import warnings\n",
    "warnings.filterwarnings('ignore')\n",
    "pd.set_option('display.float_format',lambda x: '%.2f' % x)\n",
    "# pd.set_option('display.max_rows', 5)\n",
    "pd.set_option('display.max_rows', None)"
   ]
  },
  {
   "cell_type": "code",
   "execution_count": 3,
   "id": "811b0ac5",
   "metadata": {},
   "outputs": [],
   "source": [
    "data = pd.read_excel('../Data/2022-train-v2.xlsx')"
   ]
  },
  {
   "cell_type": "code",
   "execution_count": 4,
   "id": "d8f6e8d1",
   "metadata": {},
   "outputs": [],
   "source": [
    "data_y = data[['sensor_point5_i_value', 'sensor_point6_i_value',\\\n",
    "               'sensor_point7_i_value', 'sensor_point8_i_value',\\\n",
    "               'sensor_point9_i_value', 'sensor_point10_i_value']]\n",
    "data_x = data.drop(['sensor_point5_i_value', 'sensor_point6_i_value',\\\n",
    "                    'sensor_point7_i_value', 'sensor_point8_i_value',\\\n",
    "                    'sensor_point9_i_value', 'sensor_point10_i_value'], axis=1)"
   ]
  },
  {
   "cell_type": "code",
   "execution_count": 5,
   "id": "2c7a377d",
   "metadata": {},
   "outputs": [],
   "source": [
    "data_x = data_x.fillna(0)"
   ]
  },
  {
   "cell_type": "code",
   "execution_count": 6,
   "id": "490f3c53",
   "metadata": {},
   "outputs": [],
   "source": [
    "# X變數標準化\n",
    "scaler = StandardScaler().fit(data_x)\n",
    "data_x_S = scaler.transform(data_x)"
   ]
  },
  {
   "cell_type": "code",
   "execution_count": 7,
   "id": "ee75c73d",
   "metadata": {},
   "outputs": [
    {
     "data": {
      "text/plain": [
       "{'learning_rate': 0.2,\n",
       " 'max_depth': 20,\n",
       " 'min_child_weight': 10,\n",
       " 'n_estimators': 30,\n",
       " 'random_state': 1}"
      ]
     },
     "execution_count": 7,
     "metadata": {},
     "output_type": "execute_result"
    }
   ],
   "source": [
    "config.grid_search_xgbm.fit(data_x_S, data_y.loc[:,config.Y_variable])\n",
    "config.grid_search_xgbm.best_params_"
   ]
  },
  {
   "cell_type": "code",
   "execution_count": 8,
   "id": "82743a14",
   "metadata": {},
   "outputs": [
    {
     "data": {
      "text/plain": [
       "array([ 55.978516,  61.164497,  61.164497,  61.164497,  70.46539 ,\n",
       "        70.46539 ,  70.46539 ,  70.46539 ,  70.7698  ,  70.7698  ,\n",
       "        66.48365 ,  66.48365 ,  66.48365 ,  66.48365 ,  69.83103 ,\n",
       "        69.83103 ,  81.830864,  81.830864,  76.255615,  78.48961 ,\n",
       "        78.48961 ,  76.03668 ,  77.71033 ,  77.71033 ,  77.71033 ,\n",
       "        70.35612 ,  74.92504 ,  57.961567,  57.961567,  57.154736,\n",
       "        57.154736,  57.154736,  57.154736,  53.980415,  54.330505,\n",
       "        54.330505,  54.330505,  54.330505,  54.330505,  54.330505,\n",
       "        54.330505,  54.330505,  59.912117,  59.912117,  59.912117,\n",
       "        50.895832,  50.895832,  50.895832,  62.455055,  49.28136 ,\n",
       "        54.029835,  54.029835,  47.518963,  49.712708,  49.712708,\n",
       "        54.89477 ,  54.89477 ,  54.89477 ,  56.332623,  56.332623,\n",
       "        66.81594 ,  66.81594 ,  77.799835,  74.26175 ,  79.7286  ,\n",
       "        68.322495,  68.322495,  82.126854,  61.82033 ,  73.596115,\n",
       "        73.596115,  73.596115,  73.596115,  80.638695,  80.638695,\n",
       "        70.34339 ,  81.17728 ,  61.819435,  61.819435,  61.819435,\n",
       "        69.273705,  69.273705,  69.273705,  70.03281 ,  72.1691  ,\n",
       "        72.1691  ,  70.92353 ,  70.92353 ,  66.94104 ,  66.94104 ,\n",
       "        65.69987 ,  65.69987 ,  65.69987 ,  79.63408 ,  79.63408 ,\n",
       "        81.634125,  89.77689 ,  89.77689 ,  62.15796 ,  65.688095,\n",
       "        65.688095,  66.8568  ,  69.04207 ,  69.04207 ,  69.35733 ,\n",
       "        61.25446 ,  61.25446 ,  75.13348 ,  72.073685,  71.71528 ,\n",
       "        84.58726 ,  84.58726 ,  86.84987 ,  86.84987 ,  93.997375,\n",
       "        93.997375,  85.20516 ,  85.20516 ,  77.63375 ,  94.19627 ,\n",
       "        90.72583 ,  90.72583 ,  83.934135,  83.934135,  83.110535,\n",
       "        76.27789 ,  86.08184 ,  86.08184 ,  91.868256,  91.868256,\n",
       "        76.25397 ,  76.25397 ,  70.08147 ,  80.37736 ,  85.740234,\n",
       "        85.740234,  85.740234,  91.46759 ,  91.46759 ,  86.006386,\n",
       "        74.23632 ,  74.23632 ,  83.66585 ,  83.66585 ,  82.239624,\n",
       "        82.239624,  83.3603  ,  83.3603  ,  77.31048 ,  87.90173 ,\n",
       "        94.90715 ,  94.926056,  86.59887 ,  89.58164 ,  73.82406 ,\n",
       "        87.51479 ,  87.51479 , 119.8178  , 132.33412 , 123.4914  ,\n",
       "       123.4914  , 131.30069 , 131.30069 , 131.30069 , 131.30069 ,\n",
       "       131.30069 , 131.30069 , 123.421   , 109.84505 , 115.86811 ,\n",
       "       114.70969 , 117.6311  ,  94.042755, 113.63344 , 103.470764,\n",
       "       103.470764, 104.00638 , 115.36007 , 115.36007 , 115.36007 ,\n",
       "       122.44513 , 122.44513 , 110.24778 , 110.27376 , 110.27376 ,\n",
       "       110.27376 , 110.27376 , 120.414375, 120.414375, 104.116875,\n",
       "       121.138504, 121.138504, 107.461105, 107.461105, 113.89794 ,\n",
       "       113.89794 , 118.30704 , 115.82138 ,  80.60521 ,  80.60521 ,\n",
       "        74.75527 ,  86.46332 ,  86.46332 , 103.5997  , 103.5997  ,\n",
       "       103.5997  , 103.5997  ,  92.11935 , 107.21419 , 128.74976 ,\n",
       "       128.74976 , 114.7647  , 129.25905 , 129.25905 , 109.9488  ,\n",
       "       109.9488  , 115.99292 , 115.99292 , 115.99292 , 115.24443 ,\n",
       "       114.23957 , 125.97011 , 125.97011 , 125.97011 , 107.078125,\n",
       "       107.078125, 107.078125, 134.11615 ,  74.75494 ,  74.75494 ,\n",
       "        79.79283 ,  79.79283 ,  79.79283 ,  77.92131 ,  77.92131 ,\n",
       "        77.92131 ,  84.74202 ,  84.74202 , 112.34491 , 121.141914,\n",
       "       127.0008  , 127.0008  , 119.76436 , 119.76436 , 119.76436 ,\n",
       "       123.1519  , 123.1519  , 126.61156 , 121.77083 , 121.77083 ,\n",
       "       121.77083 , 121.77083 , 124.30965 , 123.63175 , 123.63175 ,\n",
       "       117.42827 , 117.42827 , 117.42827 , 128.5124  , 128.5124  ,\n",
       "       112.4421  , 115.06899 , 115.06899 , 126.898186, 126.898186,\n",
       "       126.898186, 126.898186, 139.12141 , 113.698456, 113.698456,\n",
       "       113.698456, 113.698456, 113.698456, 121.83435 , 121.83435 ,\n",
       "       130.04047 , 127.47635 , 127.47635 , 137.42795 , 137.42795 ,\n",
       "       131.61534 , 131.61534 , 136.47408 , 133.46382 , 133.46382 ,\n",
       "       133.46382 , 125.1788  , 125.1788  , 125.1788  , 123.78878 ,\n",
       "       123.78878 , 124.52308 , 124.52308 , 144.34071 , 137.32982 ,\n",
       "       136.47408 , 136.47408 , 133.46382 , 133.46382 , 133.46382 ,\n",
       "       125.1788  , 125.1788  , 125.1788  , 123.78878 , 123.78878 ,\n",
       "       124.52308 , 144.34071 , 127.115005, 127.115005, 127.115005,\n",
       "       120.581726, 120.581726, 120.581726, 130.53938 , 130.53938 ,\n",
       "       141.48193 , 141.48193 , 116.97733 , 116.97733 , 110.90356 ,\n",
       "       110.90356 , 118.57727 , 118.57727 , 118.57727 , 129.86026 ,\n",
       "       102.636505,  80.46165 ,  80.46165 ,  76.79759 ,  76.79759 ,\n",
       "        74.59123 ,  74.59123 ,  77.25376 ,  88.6265  ,  88.6265  ,\n",
       "        82.774506,  82.774506,  73.77016 ,  73.77016 ,  82.15616 ,\n",
       "        79.515785,  77.339676,  83.78009 ,  83.78009 ,  82.9525  ,\n",
       "        82.9525  ,  82.9525  ,  81.69492 ,  81.69492 , 103.222725,\n",
       "       103.222725, 109.86978 ,  97.903435, 110.754875, 139.43463 ,\n",
       "       142.90831 , 141.70877 , 141.70877 , 147.03285 , 139.74889 ,\n",
       "       144.7563  , 144.7563  , 139.27992 , 139.27992 , 107.72945 ,\n",
       "       107.72945 , 134.76971 , 146.3042  , 146.3042  , 146.3042  ,\n",
       "       142.58578 , 143.05438 , 143.05438 , 143.05438 , 153.89546 ,\n",
       "       153.89546 , 107.13317 ,  87.66199 ,  84.91529 ,  83.22948 ,\n",
       "        83.22948 , 116.7898  , 109.747025, 107.526794,  91.826294,\n",
       "        88.83349 ,  88.83349 ,  88.83349 ,  88.83349 ,  87.92744 ,\n",
       "        87.92744 ,  89.75391 ,  82.782715,  82.782715,  89.71342 ,\n",
       "        89.71342 ,  89.71342 ,  78.98773 ,  78.98773 ,  85.06255 ,\n",
       "        85.06255 ,  85.06255 ,  82.04599 ,  82.04599 ,  88.440765,\n",
       "        88.440765,  88.440765,  80.81696 ,  85.78364 ,  85.78364 ,\n",
       "        81.55989 ,  81.55989 ,  81.55989 ,  87.68347 ,  87.68347 ,\n",
       "        87.68347 ,  87.68347 ,  87.68347 ,  87.66199 ,  84.91529 ,\n",
       "        84.91529 ,  83.22948 ,  83.22948 ,  63.23532 ,  63.23532 ,\n",
       "        66.330154,  81.309135,  81.309135, 130.93951 , 130.93951 ,\n",
       "       138.46918 , 138.46918 , 136.75313 , 121.5422  , 121.5422  ,\n",
       "       138.77948 , 138.77948 , 138.77948 , 138.77948 , 138.77948 ,\n",
       "       127.94647 , 109.94772 , 109.94772 , 109.94772 , 109.94772 ,\n",
       "       109.94772 ,  84.40465 ,  84.40465 , 131.52505 , 131.52505 ,\n",
       "        92.681816,  92.681816,  93.27026 ,  83.84317 ,  83.84317 ,\n",
       "        83.84317 ,  84.25556 ,  69.71911 ,  69.71911 , 137.33841 ,\n",
       "       137.33841 ,  68.27672 ,  71.41964 ,  71.41964 ,  58.06083 ,\n",
       "        58.06083 ,  64.88152 ,  64.88152 ,  65.46818 ,  65.46818 ,\n",
       "        64.18898 ,  71.470375,  94.17555 ,  94.17555 ,  99.47597 ,\n",
       "        99.47597 ,  99.47597 ,  90.11311 ,  89.683586,  89.683586,\n",
       "        57.894787,  73.73447 ,  76.405495,  76.405495,  91.03962 ,\n",
       "        93.27647 ,  63.85099 ,  58.991486,  58.991486,  79.11882 ,\n",
       "        79.11882 ,  90.900185,  91.656494,  91.656494, 101.2991  ,\n",
       "       111.390396, 111.390396,  87.11119 , 107.601875,  78.76431 ,\n",
       "        98.650215,  98.650215,  81.378204,  81.378204,  86.42197 ,\n",
       "        90.34696 ,  90.34696 ,  90.34696 ,  73.40586 ,  95.39418 ,\n",
       "        95.39418 ,  86.7305  ,  96.172005,  96.172005,  89.90456 ,\n",
       "        89.90456 ,  60.848354,  66.1614  ,  66.1614  ,  64.10663 ,\n",
       "        61.857815,  61.857815,  62.515602,  91.78678 ,  65.6512  ,\n",
       "        65.6512  ,  76.30664 ,  76.30664 ,  76.30664 ,  76.30664 ,\n",
       "        76.30664 ,  76.30664 ,  76.30664 ,  62.06915 ,  62.06915 ,\n",
       "        62.06915 ,  60.906673,  60.906673,  60.906673,  60.906673,\n",
       "        58.17406 ,  58.17406 ,  66.27463 ,  64.95018 ,  64.95018 ,\n",
       "        96.75427 ,  96.75427 ,  96.75427 ,  96.262886,  96.262886,\n",
       "        96.262886,  96.262886,  97.1907  ,  97.1907  , 121.7617  ,\n",
       "       116.93169 , 116.93169 , 116.93169 , 101.56868 ,  99.38055 ,\n",
       "        95.17361 ,  95.17361 ,  95.17361 ,  95.17361 ,  95.17361 ,\n",
       "        95.17361 ,  95.17361 , 103.82879 , 103.82879 , 103.82879 ,\n",
       "       103.82879 , 103.82879 ,  56.70646 ,  61.297173,  61.297173,\n",
       "        61.297173,  61.297173,  64.519005,  64.519005,  64.519005,\n",
       "        62.925743,  62.925743,  62.925743,  68.417404,  68.417404,\n",
       "        66.12291 ,  66.12291 ,  63.91304 ,  63.91304 ,  62.925743,\n",
       "        62.925743,  62.925743,  62.925743,  68.417404,  66.12291 ,\n",
       "        66.12291 ,  63.91304 ,  63.91304 ,  63.91304 ,  66.77353 ,\n",
       "        66.77353 ,  60.444622,  60.444622,  60.444622,  60.444622,\n",
       "        60.444622,  60.444622,  67.58217 ,  67.58217 ,  67.58217 ,\n",
       "        67.58217 ,  67.58217 ,  67.58217 ,  75.018456,  75.018456,\n",
       "        75.018456,  75.018456,  75.018456,  75.018456,  75.018456,\n",
       "       111.12053 , 111.12053 , 111.12053 , 111.12053 , 111.12053 ,\n",
       "       111.12053 , 111.12053 , 170.37965 ,  96.206276,  96.206276,\n",
       "        96.206276,  88.38786 ,  88.38786 , 104.7559  , 104.7559  ],\n",
       "      dtype=float32)"
      ]
     },
     "execution_count": 8,
     "metadata": {},
     "output_type": "execute_result"
    }
   ],
   "source": [
    "model_select = Pipeline([('poly',PolynomialFeatures(degree = 2)),\n",
    "                         ('std_scaler', StandardScaler()),\n",
    "                         ('mod', config.model_info['XGB']['Model'])  # 修改model\n",
    "                        ])\n",
    "\n",
    "model_select.fit(data_x, data_y.loc[:,config.Y_variable])\n",
    "\n",
    "y_predict = model_select.predict(data_x)\n",
    "y_predict"
   ]
  },
  {
   "cell_type": "code",
   "execution_count": 9,
   "id": "57c9202f",
   "metadata": {},
   "outputs": [
    {
     "name": "stdout",
     "output_type": "stream",
     "text": [
      "RMSE:25.79\n"
     ]
    }
   ],
   "source": [
    "k_fold_RMSE = -cross_val_score(model_select, \n",
    "                               data_x,\n",
    "                               data_y.loc[:,config.Y_variable], \n",
    "                               cv = 5, \n",
    "                               scoring = 'neg_root_mean_squared_error').mean()\n",
    "\n",
    "print('RMSE:' + str(round(k_fold_RMSE,2)))"
   ]
  },
  {
   "cell_type": "code",
   "execution_count": 10,
   "id": "fd383524",
   "metadata": {},
   "outputs": [
    {
     "data": {
      "image/png": "[encoded data removed]",
      "text/plain": [
       "<Figure size 648x288 with 2 Axes>"
      ]
     },
     "metadata": {
      "needs_background": "light"
     },
     "output_type": "display_data"
    }
   ],
   "source": [
    "y_predict_diff = data_y.loc[:,config.Y_variable] - y_predict\n",
    "\n",
    "model_result = pd.DataFrame({'y_predict_diff':y_predict_diff,\n",
    "                             'y_actual':data_y.loc[:,config.Y_variable],\n",
    "                             'y_predict':y_predict})\n",
    "# display(Y_predict_diff)\n",
    "\n",
    "# seaborn呈現結果\n",
    "fig, axes = plt.subplots(1, 2, figsize=(9, 4))\n",
    "\n",
    "# 預測值跟實際值分布狀況\n",
    "sns.regplot(x = 'y_actual', \n",
    "            y = 'y_predict',\n",
    "            data = model_result, \n",
    "            ax=axes[0])\n",
    "    \n",
    "    # 每筆資料的差異\n",
    "sns.scatterplot(x = model_result.index,\n",
    "                y = 'y_predict_diff',\n",
    "                data = model_result, \n",
    "                ax=axes[1])\n",
    "    \n",
    "    \n",
    "plt.tight_layout()"
   ]
  },
  {
   "cell_type": "code",
   "execution_count": null,
   "id": "c069f29f",
   "metadata": {},
   "outputs": [],
   "source": []
  }
 ],
 "metadata": {
  "kernelspec": {
   "display_name": "Python 3",
   "language": "python",
   "name": "python3"
  },
  "language_info": {
   "codemirror_mode": {
    "name": "ipython",
    "version": 3
   },
   "file_extension": ".py",
   "mimetype": "text/x-python",
   "name": "python",
   "nbconvert_exporter": "python",
   "pygments_lexer": "ipython3",
   "version": "3.7.10"
  }
 },
 "nbformat": 4,
 "nbformat_minor": 5
}
