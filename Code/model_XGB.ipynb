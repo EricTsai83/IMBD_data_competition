{
 "cells": [
  {
   "cell_type": "code",
   "execution_count": 1,
   "id": "923c6d7e",
   "metadata": {},
   "outputs": [],
   "source": [
    "import config\n",
    "import ast\n",
    "\n",
    "import pandas as pd\n",
    "from sklearn.pipeline import Pipeline\n",
    "import matplotlib.pyplot as plt\n",
    "import seaborn as sns\n",
    "import numpy as np\n",
    "import pickle\n",
    "import statistics\n",
    "\n",
    "from utils.pandas_dataframe import grid_display\n",
    "from sklearn.preprocessing import MinMaxScaler\n",
    "from sklearn.preprocessing import StandardScaler\n",
    "from sklearn.preprocessing import LabelEncoder, OneHotEncoder\n",
    "from itertools import permutations\n",
    "import gc\n",
    "\n",
    "# validation\n",
    "from sklearn.model_selection import train_test_split\n",
    "from sklearn.model_selection import cross_val_score\n",
    "from sklearn.model_selection import RepeatedKFold\n",
    "from sklearn.metrics import mean_squared_error\n",
    "from sklearn.metrics import r2_score\n",
    "\n",
    "# model\n",
    "from sklearn.preprocessing import PolynomialFeatures\n",
    "from sklearn.linear_model import LinearRegression\n",
    "from sklearn.linear_model import Lasso\n",
    "from sklearn.linear_model import Ridge\n",
    "import xgboost as xgb\n",
    "from sklearn.ensemble import GradientBoostingRegressor\n",
    "from sklearn.ensemble import AdaBoostRegressor\n",
    "from sklearn.neighbors import KNeighborsRegressor\n",
    "from morfist import MixedRandomForest\n",
    "\n",
    "# grid search\n",
    "from sklearn.linear_model import RidgeCV\n",
    "from sklearn.linear_model import LassoCV\n",
    "from sklearn.linear_model import MultiTaskLassoCV\n",
    "from sklearn.model_selection import GridSearchCV\n",
    "\n",
    "\n",
    "from sklearn.multioutput import RegressorChain\n",
    "from sklearn.multioutput import MultiOutputRegressor\n",
    "\n",
    "from IPython.display import display\n",
    "\n",
    "\n",
    "%matplotlib inline"
   ]
  },
  {
   "cell_type": "code",
   "execution_count": 2,
   "id": "a7ba4e7f",
   "metadata": {},
   "outputs": [],
   "source": [
    "import warnings\n",
    "warnings.filterwarnings('ignore')\n",
    "pd.set_option('display.float_format',lambda x: '%.2f' % x)\n",
    "# pd.set_option('display.max_rows', 5)\n",
    "pd.set_option('display.max_rows', None)"
   ]
  },
  {
   "cell_type": "code",
   "execution_count": 3,
   "id": "811b0ac5",
   "metadata": {},
   "outputs": [],
   "source": [
    "data = pd.read_excel('../Data/2022-train-v2.xlsx')"
   ]
  },
  {
   "cell_type": "code",
   "execution_count": 4,
   "id": "d8f6e8d1",
   "metadata": {},
   "outputs": [],
   "source": [
    "data_y = data[['sensor_point5_i_value', 'sensor_point6_i_value',\\\n",
    "               'sensor_point7_i_value', 'sensor_point8_i_value',\\\n",
    "               'sensor_point9_i_value', 'sensor_point10_i_value']]\n",
    "data_x = data.drop(['sensor_point5_i_value', 'sensor_point6_i_value',\\\n",
    "                    'sensor_point7_i_value', 'sensor_point8_i_value',\\\n",
    "                    'sensor_point9_i_value', 'sensor_point10_i_value'], axis=1)"
   ]
  },
  {
   "cell_type": "code",
   "execution_count": 5,
   "id": "2c7a377d",
   "metadata": {},
   "outputs": [],
   "source": [
    "data_x = data_x.fillna(0)"
   ]
  },
  {
   "cell_type": "code",
   "execution_count": 6,
   "id": "490f3c53",
   "metadata": {},
   "outputs": [],
   "source": [
    "# X變數標準化\n",
    "scaler = StandardScaler().fit(data_x)\n",
    "data_x_S = scaler.transform(data_x)"
   ]
  },
  {
   "cell_type": "code",
   "execution_count": null,
   "id": "ee75c73d",
   "metadata": {},
   "outputs": [],
   "source": [
    "config.grid_search_XGB.fit(data_x_S, data_y.loc[:,config.Y_variable])\n",
    "config.grid_search_XGB.best_params_"
   ]
  },
  {
   "cell_type": "code",
   "execution_count": 7,
   "id": "82743a14",
   "metadata": {},
   "outputs": [
    {
     "data": {
      "text/plain": [
       "array([ 42.65527 ,  37.992508,  37.992508,  37.992508,  48.313374,\n",
       "        48.313374,  48.313374,  48.313374,  43.59167 ,  43.59167 ,\n",
       "        47.375515,  47.375515,  47.375515,  47.375515,  61.941948,\n",
       "        61.941948,  60.625324,  60.625324,  62.787266,  62.32076 ,\n",
       "        62.32076 ,  62.787266,  56.013855,  56.013855,  56.013855,\n",
       "        48.91279 ,  57.414753,  79.74305 ,  79.74305 ,  80.39191 ,\n",
       "        80.39191 ,  80.39191 ,  80.39191 ,  82.03964 ,  78.20598 ,\n",
       "        78.20598 ,  78.20598 ,  78.20598 ,  78.20598 ,  78.20598 ,\n",
       "        78.20598 ,  78.20598 ,  66.88251 ,  66.88251 ,  66.88251 ,\n",
       "        66.74287 ,  66.74287 ,  66.74287 ,  66.98077 ,  63.623882,\n",
       "        61.517387,  61.517387,  61.442993,  59.86263 ,  59.86263 ,\n",
       "        71.81976 ,  71.81976 ,  71.81976 ,  72.44921 ,  72.44921 ,\n",
       "        83.1648  ,  83.1648  ,  85.72117 ,  88.09121 ,  85.72117 ,\n",
       "        88.488144,  88.488144,  87.2151  ,  86.66129 ,  90.07427 ,\n",
       "        90.07427 ,  90.07427 ,  90.07427 ,  80.92736 ,  80.92736 ,\n",
       "        78.700935,  80.26491 ,  79.16781 ,  79.16781 ,  79.16781 ,\n",
       "        82.03716 ,  82.03716 ,  82.03716 ,  79.78035 ,  80.662895,\n",
       "        80.662895,  81.61506 ,  81.61506 ,  73.368645,  73.368645,\n",
       "        71.51522 ,  71.51522 ,  71.51522 ,  89.20102 ,  89.20102 ,\n",
       "        86.02804 ,  75.90714 ,  75.90714 ,  88.6626  ,  84.960335,\n",
       "        84.960335,  89.16789 ,  79.64502 ,  79.64502 ,  80.267654,\n",
       "        89.32135 ,  89.32135 ,  93.232025,  85.60509 ,  72.25491 ,\n",
       "        84.647026,  84.647026,  73.44649 ,  73.44649 ,  80.17696 ,\n",
       "        80.17696 ,  79.3407  ,  79.3407  ,  80.38223 ,  80.11475 ,\n",
       "        85.0283  ,  85.0283  ,  80.59257 ,  80.59257 ,  69.98579 ,\n",
       "        69.98579 ,  72.5887  ,  72.5887  ,  99.461876,  99.461876,\n",
       "       108.13427 , 108.13427 ,  92.68912 ,  91.189804,  92.01105 ,\n",
       "        92.01105 ,  92.01105 ,  96.50679 ,  96.50679 ,  80.474106,\n",
       "        75.61206 ,  75.61206 ,  70.4565  ,  70.4565  ,  68.34554 ,\n",
       "        68.34554 ,  68.34554 ,  68.34554 ,  74.30114 ,  72.34952 ,\n",
       "        84.37656 ,  84.37656 ,  80.1264  ,  74.81115 ,  80.1514  ,\n",
       "        77.55068 ,  77.55068 ,  72.61622 ,  71.65943 ,  74.31495 ,\n",
       "        74.31495 ,  69.39188 ,  69.39188 ,  69.39188 ,  69.39188 ,\n",
       "        69.39188 ,  69.39188 ,  69.39188 ,  68.76774 ,  69.04676 ,\n",
       "        69.04676 ,  63.726933,  65.2845  ,  58.32232 ,  60.600697,\n",
       "        60.600697,  60.22238 ,  61.543453,  61.543453,  61.543453,\n",
       "        68.88237 ,  68.88237 ,  63.658203,  61.312252,  61.312252,\n",
       "        61.312252,  61.312252,  64.91153 ,  64.91153 ,  60.11269 ,\n",
       "        66.13362 ,  66.13362 ,  60.97124 ,  60.97124 ,  67.9458  ,\n",
       "        67.9458  ,  65.659454,  64.43712 ,  58.436195,  58.436195,\n",
       "        57.362873,  58.887127,  58.887127,  74.15267 ,  74.15267 ,\n",
       "        74.15267 ,  74.15267 ,  75.732475,  76.79246 ,  70.7239  ,\n",
       "        70.7239  ,  71.32199 ,  71.017166,  71.017166,  76.0831  ,\n",
       "        76.0831  ,  75.087875,  75.087875,  75.087875,  89.5552  ,\n",
       "        85.93284 ,  80.91353 ,  80.91353 ,  80.91353 ,  77.07464 ,\n",
       "        77.07464 ,  77.07464 ,  84.833534,  66.57217 ,  66.57217 ,\n",
       "        64.27958 ,  64.27958 ,  64.27958 ,  67.4177  ,  67.4177  ,\n",
       "        67.4177  ,  63.772022,  63.772022,  77.48578 ,  70.068275,\n",
       "        72.73554 ,  72.73554 ,  72.43127 ,  72.43127 ,  72.43127 ,\n",
       "        73.860634,  73.860634,  76.91094 ,  77.58444 ,  77.58444 ,\n",
       "        77.58444 ,  77.58444 ,  81.60039 ,  82.41004 ,  82.41004 ,\n",
       "        82.41352 ,  82.41352 ,  82.41352 ,  87.038216,  87.038216,\n",
       "        88.71536 ,  81.828865,  81.828865,  81.763626,  81.763626,\n",
       "        81.763626,  81.763626,  78.939354,  82.52183 ,  82.52183 ,\n",
       "        82.52183 ,  82.52183 ,  82.52183 ,  84.35814 ,  84.35814 ,\n",
       "        78.1108  ,  83.11413 ,  83.11413 ,  76.55568 ,  76.55568 ,\n",
       "        75.57835 ,  75.57835 ,  78.36505 ,  80.776344,  80.776344,\n",
       "        80.776344,  88.03524 ,  88.03524 ,  88.03524 ,  76.89602 ,\n",
       "        76.89602 ,  78.64337 ,  78.64337 ,  82.04026 ,  90.77891 ,\n",
       "        78.36505 ,  78.36505 ,  80.776344,  80.776344,  80.776344,\n",
       "        88.03524 ,  88.03524 ,  88.03524 ,  76.89602 ,  76.89602 ,\n",
       "        78.64337 ,  82.04026 ,  82.92969 ,  82.92969 ,  82.92969 ,\n",
       "        96.65047 ,  96.65047 ,  96.65047 ,  87.817055,  87.817055,\n",
       "        86.27032 ,  86.27032 ,  74.9779  ,  74.9779  ,  77.40812 ,\n",
       "        77.40812 ,  91.96918 ,  91.96918 ,  91.96918 ,  93.12607 ,\n",
       "        84.4954  ,  88.212166,  88.212166,  82.920074,  82.920074,\n",
       "        85.27012 ,  85.27012 ,  79.69908 ,  83.94963 ,  83.94963 ,\n",
       "        83.22558 ,  83.22558 ,  82.174385,  82.174385,  85.47488 ,\n",
       "        85.003456,  84.75381 ,  84.62172 ,  84.62172 ,  86.51436 ,\n",
       "        86.51436 ,  86.51436 ,  82.5517  ,  82.5517  ,  89.81659 ,\n",
       "        89.81659 ,  89.104965,  89.0739  ,  94.28204 ,  89.34286 ,\n",
       "        94.65768 ,  90.818146,  90.818146,  91.977196,  96.60744 ,\n",
       "        92.25302 ,  92.25302 ,  95.94419 ,  95.94419 ,  91.11184 ,\n",
       "        91.11184 ,  92.36864 ,  91.960495,  91.960495,  91.960495,\n",
       "        91.31591 ,  91.33261 ,  91.33261 ,  91.33261 ,  88.42224 ,\n",
       "        88.42224 ,  90.15233 ,  79.96258 ,  81.67174 ,  80.92224 ,\n",
       "        80.92224 ,  88.21424 ,  91.85635 ,  85.61282 ,  81.779976,\n",
       "        80.09794 ,  80.09794 ,  80.09794 ,  80.09794 ,  81.426125,\n",
       "        81.426125,  82.98256 ,  82.371605,  82.371605,  82.60215 ,\n",
       "        82.60215 ,  82.60215 ,  82.57555 ,  82.57555 ,  82.57555 ,\n",
       "        82.57555 ,  82.57555 ,  80.57084 ,  80.57084 ,  81.136055,\n",
       "        81.136055,  81.136055,  77.76735 ,  81.05771 ,  81.05771 ,\n",
       "        80.635315,  80.635315,  80.635315,  80.404755,  80.404755,\n",
       "        80.404755,  80.404755,  80.404755,  79.96258 ,  81.67174 ,\n",
       "        81.67174 ,  80.92224 ,  80.92224 ,  82.01102 ,  82.01102 ,\n",
       "        83.21687 ,  86.84666 ,  86.84666 ,  88.79751 ,  88.79751 ,\n",
       "       106.19772 , 106.19772 ,  98.897316,  92.003494,  92.003494,\n",
       "       103.49907 , 103.49907 , 103.49907 , 103.49907 , 103.49907 ,\n",
       "        94.497986,  82.77187 ,  82.77187 ,  82.77187 ,  82.77187 ,\n",
       "        82.77187 ,  78.88879 ,  78.88879 ,  86.37795 ,  86.37795 ,\n",
       "        74.49647 ,  74.49647 ,  85.687004,  82.37687 ,  82.37687 ,\n",
       "        82.37687 ,  86.62606 ,  91.96164 ,  91.96164 ,  90.565605,\n",
       "        90.565605,  58.775223,  68.37153 ,  68.37153 ,  72.54428 ,\n",
       "        72.54428 ,  74.88369 ,  74.88369 ,  74.634766,  74.634766,\n",
       "        74.87577 ,  81.17892 ,  85.46894 ,  85.46894 ,  87.22134 ,\n",
       "        87.22134 ,  87.22134 ,  84.88293 ,  85.46894 ,  85.46894 ,\n",
       "        80.00851 ,  67.05442 ,  89.059425,  89.059425,  86.19048 ,\n",
       "        84.96918 ,  74.42525 ,  70.16461 ,  70.16461 ,  86.23757 ,\n",
       "        86.23757 ,  91.924614,  87.145706,  87.145706,  85.696   ,\n",
       "        87.605446,  87.605446,  86.85761 ,  90.731   ,  83.30677 ,\n",
       "        89.699936,  89.699936,  85.71561 ,  85.71561 ,  85.14414 ,\n",
       "        85.38768 ,  85.38768 ,  85.38768 ,  82.95322 ,  84.29067 ,\n",
       "        84.29067 ,  84.11    ,  95.68453 ,  95.68453 ,  95.68453 ,\n",
       "        95.68453 ,  66.69102 ,  69.905   ,  69.905   ,  70.711845,\n",
       "        75.59833 ,  75.59833 ,  70.80687 ,  93.62387 ,  77.334114,\n",
       "        77.334114,  83.59777 ,  83.59777 ,  83.59777 ,  83.59777 ,\n",
       "        83.59777 ,  83.59777 ,  83.59777 ,  70.49603 ,  70.49603 ,\n",
       "        70.49603 ,  72.59988 ,  72.59988 ,  72.59988 ,  72.59988 ,\n",
       "        68.08527 ,  68.08527 ,  76.37688 ,  77.39805 ,  77.39805 ,\n",
       "        95.7938  ,  95.7938  ,  95.7938  ,  91.48297 ,  91.48297 ,\n",
       "        91.48297 ,  91.48297 ,  88.24535 ,  88.24535 ,  88.144806,\n",
       "        91.54042 ,  91.54042 ,  91.54042 ,  90.86113 ,  94.50647 ,\n",
       "        87.575195,  87.575195,  87.575195,  87.575195,  87.575195,\n",
       "        87.575195,  87.575195,  88.81328 ,  88.81328 ,  88.81328 ,\n",
       "        88.81328 ,  88.81328 ,  70.50485 ,  74.47931 ,  74.47931 ,\n",
       "        74.47931 ,  74.47931 ,  73.337524,  73.337524,  73.337524,\n",
       "        70.30426 ,  70.30426 ,  70.30426 ,  73.74067 ,  73.74067 ,\n",
       "        74.62819 ,  74.62819 ,  70.50828 ,  70.50828 ,  70.30426 ,\n",
       "        70.30426 ,  70.30426 ,  70.30426 ,  73.74067 ,  74.62819 ,\n",
       "        74.62819 ,  70.50828 ,  70.50828 ,  70.50828 ,  70.800026,\n",
       "        70.800026,  71.372475,  71.372475,  71.372475,  71.372475,\n",
       "        71.372475,  71.372475,  68.053375,  68.053375,  68.053375,\n",
       "        68.053375,  68.053375,  68.053375,  70.340805,  70.340805,\n",
       "        70.340805,  70.340805,  70.340805,  70.340805,  70.340805,\n",
       "        98.83234 ,  98.83234 ,  98.83234 ,  98.83234 ,  98.83234 ,\n",
       "        98.83234 ,  98.83234 ,  98.36203 ,  94.6617  ,  94.6617  ,\n",
       "        94.6617  ,  95.1708  ,  95.1708  , 100.33377 , 100.33377 ],\n",
       "      dtype=float32)"
      ]
     },
     "execution_count": 7,
     "metadata": {},
     "output_type": "execute_result"
    }
   ],
   "source": [
    "model_select = Pipeline([('poly',PolynomialFeatures(degree = 2)),\n",
    "                         ('std_scaler', StandardScaler()),\n",
    "                         ('mod', config.model_info['XGB']['Model'])  # 修改model\n",
    "                        ])\n",
    "\n",
    "model_select.fit(data_x, data_y.loc[:,config.Y_variable])\n",
    "\n",
    "y_predict = model_select.predict(data_x)\n",
    "y_predict"
   ]
  },
  {
   "cell_type": "code",
   "execution_count": 8,
   "id": "57c9202f",
   "metadata": {},
   "outputs": [
    {
     "name": "stdout",
     "output_type": "stream",
     "text": [
      "RMSE:14.82\n"
     ]
    }
   ],
   "source": [
    "k_fold_RMSE = -cross_val_score(model_select, \n",
    "                               data_x,\n",
    "                               data_y.loc[:,config.Y_variable], \n",
    "                               cv = 5, \n",
    "                               scoring = 'neg_root_mean_squared_error').mean()\n",
    "\n",
    "print('RMSE:' + str(round(k_fold_RMSE,2)))"
   ]
  },
  {
   "cell_type": "code",
   "execution_count": 9,
   "id": "fd383524",
   "metadata": {},
   "outputs": [
    {
     "data": {
      "image/png": "[encoded data removed]",
      "text/plain": [
       "<Figure size 648x288 with 2 Axes>"
      ]
     },
     "metadata": {
      "needs_background": "light"
     },
     "output_type": "display_data"
    }
   ],
   "source": [
    "y_predict_diff = data_y.loc[:,config.Y_variable] - y_predict\n",
    "\n",
    "model_result = pd.DataFrame({'y_predict_diff':y_predict_diff,\n",
    "                             'y_actual':data_y.loc[:,config.Y_variable],\n",
    "                             'y_predict':y_predict})\n",
    "# display(Y_predict_diff)\n",
    "\n",
    "# seaborn呈現結果\n",
    "fig, axes = plt.subplots(1, 2, figsize=(9, 4))\n",
    "\n",
    "# 預測值跟實際值分布狀況\n",
    "sns.regplot(x = 'y_actual', \n",
    "            y = 'y_predict',\n",
    "            data = model_result, \n",
    "            ax=axes[0])\n",
    "    \n",
    "    # 每筆資料的差異\n",
    "sns.scatterplot(x = model_result.index,\n",
    "                y = 'y_predict_diff',\n",
    "                data = model_result, \n",
    "                ax=axes[1])\n",
    "    \n",
    "    \n",
    "plt.tight_layout()"
   ]
  },
  {
   "cell_type": "code",
   "execution_count": null,
   "id": "c069f29f",
   "metadata": {},
   "outputs": [],
   "source": []
  }
 ],
 "metadata": {
  "kernelspec": {
   "display_name": "Python 3",
   "language": "python",
   "name": "python3"
  },
  "language_info": {
   "codemirror_mode": {
    "name": "ipython",
    "version": 3
   },
   "file_extension": ".py",
   "mimetype": "text/x-python",
   "name": "python",
   "nbconvert_exporter": "python",
   "pygments_lexer": "ipython3",
   "version": "3.7.10"
  }
 },
 "nbformat": 4,
 "nbformat_minor": 5
}
