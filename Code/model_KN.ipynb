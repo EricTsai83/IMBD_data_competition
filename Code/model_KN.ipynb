{
 "cells": [
  {
   "cell_type": "code",
   "execution_count": 1,
   "id": "923c6d7e",
   "metadata": {},
   "outputs": [],
   "source": [
    "import config\n",
    "import ast\n",
    "\n",
    "import pandas as pd\n",
    "from sklearn.pipeline import Pipeline\n",
    "import matplotlib.pyplot as plt\n",
    "import seaborn as sns\n",
    "import numpy as np\n",
    "import pickle\n",
    "import statistics\n",
    "\n",
    "from utils.pandas_dataframe import grid_display\n",
    "from sklearn.preprocessing import MinMaxScaler\n",
    "from sklearn.preprocessing import StandardScaler\n",
    "from sklearn.preprocessing import LabelEncoder, OneHotEncoder\n",
    "from itertools import permutations\n",
    "import gc\n",
    "\n",
    "# validation\n",
    "from sklearn.model_selection import train_test_split\n",
    "from sklearn.model_selection import cross_val_score\n",
    "from sklearn.model_selection import RepeatedKFold\n",
    "from sklearn.metrics import mean_squared_error\n",
    "from sklearn.metrics import r2_score\n",
    "\n",
    "# model\n",
    "from sklearn.preprocessing import PolynomialFeatures\n",
    "from sklearn.linear_model import LinearRegression\n",
    "from sklearn.linear_model import Lasso\n",
    "from sklearn.linear_model import Ridge\n",
    "import xgboost as xgb\n",
    "from sklearn.ensemble import GradientBoostingRegressor\n",
    "from sklearn.ensemble import AdaBoostRegressor\n",
    "from sklearn.neighbors import KNeighborsRegressor\n",
    "from morfist import MixedRandomForest\n",
    "\n",
    "# grid search\n",
    "from sklearn.linear_model import RidgeCV\n",
    "from sklearn.linear_model import LassoCV\n",
    "from sklearn.linear_model import MultiTaskLassoCV\n",
    "from sklearn.model_selection import GridSearchCV\n",
    "\n",
    "\n",
    "from sklearn.multioutput import RegressorChain\n",
    "from sklearn.multioutput import MultiOutputRegressor\n",
    "\n",
    "from IPython.display import display\n",
    "\n",
    "\n",
    "%matplotlib inline"
   ]
  },
  {
   "cell_type": "code",
   "execution_count": 2,
   "id": "a7ba4e7f",
   "metadata": {},
   "outputs": [],
   "source": [
    "import warnings\n",
    "warnings.filterwarnings('ignore')\n",
    "pd.set_option('display.float_format',lambda x: '%.2f' % x)\n",
    "# pd.set_option('display.max_rows', 5)\n",
    "pd.set_option('display.max_rows', None)"
   ]
  },
  {
   "cell_type": "code",
   "execution_count": 3,
   "id": "811b0ac5",
   "metadata": {},
   "outputs": [],
   "source": [
    "data = pd.read_excel('../Data/2022-train-v2.xlsx')"
   ]
  },
  {
   "cell_type": "code",
   "execution_count": 4,
   "id": "d8f6e8d1",
   "metadata": {},
   "outputs": [],
   "source": [
    "data_y = data[['sensor_point5_i_value', 'sensor_point6_i_value',\\\n",
    "               'sensor_point7_i_value', 'sensor_point8_i_value',\\\n",
    "               'sensor_point9_i_value', 'sensor_point10_i_value']]\n",
    "data_x = data.drop(['sensor_point5_i_value', 'sensor_point6_i_value',\\\n",
    "                    'sensor_point7_i_value', 'sensor_point8_i_value',\\\n",
    "                    'sensor_point9_i_value', 'sensor_point10_i_value'], axis=1)"
   ]
  },
  {
   "cell_type": "code",
   "execution_count": 5,
   "id": "2c7a377d",
   "metadata": {},
   "outputs": [],
   "source": [
    "data_x = data_x.fillna(0)"
   ]
  },
  {
   "cell_type": "code",
   "execution_count": 6,
   "id": "490f3c53",
   "metadata": {},
   "outputs": [],
   "source": [
    "# X變數標準化\n",
    "scaler = StandardScaler().fit(data_x)\n",
    "data_x_S = scaler.transform(data_x)"
   ]
  },
  {
   "cell_type": "code",
   "execution_count": 7,
   "id": "c1e9a081",
   "metadata": {},
   "outputs": [
    {
     "data": {
      "text/plain": [
       "{'leaf_size': 20, 'n_neighbors': 7, 'weights': 'uniform'}"
      ]
     },
     "execution_count": 7,
     "metadata": {},
     "output_type": "execute_result"
    }
   ],
   "source": [
    "config.grid_search_KN.fit(data_x_S, data_y.loc[:,config.Y_variable])\n",
    "config.grid_search_KN.best_params_"
   ]
  },
  {
   "cell_type": "code",
   "execution_count": 8,
   "id": "82743a14",
   "metadata": {},
   "outputs": [
    {
     "data": {
      "text/plain": [
       "array([ 46.42857143,  40.        ,  40.        ,  40.        ,\n",
       "        46.42857143,  46.42857143,  46.42857143,  46.42857143,\n",
       "        46.85714286,  46.85714286,  46.71428571,  46.71428571,\n",
       "        46.71428571,  46.71428571,  61.14285714,  61.14285714,\n",
       "        61.14285714,  61.14285714,  59.71428571,  59.71428571,\n",
       "        59.71428571,  59.71428571,  58.71428571,  58.71428571,\n",
       "        58.71428571,  57.        ,  60.57142857,  81.71428571,\n",
       "        81.71428571,  81.71428571,  81.71428571,  81.71428571,\n",
       "        81.71428571,  80.28571429,  78.        ,  78.        ,\n",
       "        78.        ,  78.        ,  78.        ,  78.        ,\n",
       "        78.        ,  78.        ,  69.57142857,  69.57142857,\n",
       "        69.57142857,  64.85714286,  64.85714286,  64.85714286,\n",
       "        64.85714286,  60.71428571,  63.57142857,  63.57142857,\n",
       "        60.71428571,  60.71428571,  60.71428571,  75.85714286,\n",
       "        75.85714286,  75.85714286,  75.57142857,  75.57142857,\n",
       "        86.71428571,  86.71428571,  86.71428571,  86.71428571,\n",
       "        86.71428571,  88.14285714,  88.14285714,  86.85714286,\n",
       "        88.57142857,  89.28571429,  89.28571429,  89.28571429,\n",
       "        89.28571429,  83.57142857,  83.57142857,  79.71428571,\n",
       "        80.57142857,  80.57142857,  80.57142857,  80.57142857,\n",
       "        79.71428571,  79.71428571,  79.71428571,  79.71428571,\n",
       "        80.57142857,  80.57142857,  82.42857143,  82.42857143,\n",
       "        76.85714286,  76.85714286,  73.        ,  73.        ,\n",
       "        73.        ,  86.14285714,  86.14285714,  83.14285714,\n",
       "        82.28571429,  82.28571429,  87.14285714,  84.85714286,\n",
       "        84.85714286,  83.71428571,  82.71428571,  82.71428571,\n",
       "        86.57142857,  86.28571429,  86.28571429,  88.        ,\n",
       "        88.        ,  84.57142857,  78.85714286,  78.85714286,\n",
       "        80.        ,  80.        ,  80.57142857,  80.57142857,\n",
       "        80.57142857,  80.57142857,  80.57142857,  82.        ,\n",
       "        82.28571429,  82.28571429,  82.28571429,  82.28571429,\n",
       "        77.        ,  77.        ,  77.        ,  77.        ,\n",
       "        78.14285714,  78.14285714,  98.14285714,  98.14285714,\n",
       "        98.14285714,  98.14285714,  98.14285714,  98.14285714,\n",
       "        98.14285714,  85.28571429,  85.28571429,  85.28571429,\n",
       "        68.14285714,  68.14285714,  70.14285714,  70.14285714,\n",
       "        70.71428571,  70.71428571,  68.14285714,  68.14285714,\n",
       "        72.71428571,  73.28571429,  79.71428571,  77.        ,\n",
       "        79.42857143,  79.42857143,  79.42857143,  80.85714286,\n",
       "        80.85714286,  72.28571429,  72.85714286,  70.85714286,\n",
       "        70.85714286,  69.85714286,  69.85714286,  69.85714286,\n",
       "        69.85714286,  69.85714286,  69.85714286,  72.14285714,\n",
       "        71.85714286,  71.85714286,  69.57142857,  70.42857143,\n",
       "        63.71428571,  64.        ,  62.71428571,  62.71428571,\n",
       "        63.14285714,  62.71428571,  62.71428571,  62.71428571,\n",
       "        65.        ,  65.        ,  62.71428571,  64.14285714,\n",
       "        64.14285714,  64.14285714,  64.14285714,  62.85714286,\n",
       "        62.85714286,  62.85714286,  64.28571429,  64.28571429,\n",
       "        65.        ,  65.        ,  66.14285714,  66.14285714,\n",
       "        62.        ,  66.14285714,  59.42857143,  59.42857143,\n",
       "        59.71428571,  59.42857143,  59.42857143,  74.71428571,\n",
       "        74.71428571,  74.71428571,  74.71428571,  76.28571429,\n",
       "        71.85714286,  72.71428571,  72.71428571,  72.71428571,\n",
       "        73.        ,  73.        ,  67.28571429,  67.28571429,\n",
       "        81.57142857,  81.57142857,  81.57142857,  82.28571429,\n",
       "        83.42857143,  79.28571429,  79.28571429,  79.28571429,\n",
       "        79.28571429,  79.28571429,  79.28571429,  79.28571429,\n",
       "        75.28571429,  75.28571429,  66.28571429,  66.28571429,\n",
       "        66.28571429,  64.85714286,  64.85714286,  64.85714286,\n",
       "        65.14285714,  65.14285714,  88.28571429,  87.57142857,\n",
       "        79.85714286,  79.85714286,  81.57142857,  81.57142857,\n",
       "        81.57142857,  77.42857143,  77.42857143,  78.        ,\n",
       "        81.14285714,  81.14285714,  81.14285714,  81.14285714,\n",
       "        83.57142857,  82.71428571,  82.71428571,  83.85714286,\n",
       "        83.85714286,  83.85714286,  83.85714286,  83.85714286,\n",
       "        82.42857143,  80.85714286,  80.85714286,  80.85714286,\n",
       "        80.85714286,  80.85714286,  80.85714286,  79.42857143,\n",
       "        83.28571429,  83.28571429,  83.28571429,  83.28571429,\n",
       "        83.28571429,  83.28571429,  83.28571429,  82.28571429,\n",
       "        81.28571429,  81.28571429,  80.71428571,  80.71428571,\n",
       "        77.71428571,  77.71428571,  80.42857143,  78.85714286,\n",
       "        78.85714286,  78.85714286,  88.14285714,  88.14285714,\n",
       "        88.14285714,  80.85714286,  80.85714286,  79.        ,\n",
       "        79.        ,  79.        ,  82.42857143,  80.42857143,\n",
       "        80.42857143,  78.85714286,  78.85714286,  78.85714286,\n",
       "        88.14285714,  88.14285714,  88.14285714,  80.85714286,\n",
       "        80.85714286,  79.        ,  79.        ,  87.57142857,\n",
       "        87.57142857,  87.57142857,  91.28571429,  91.28571429,\n",
       "        91.28571429,  91.28571429,  91.28571429,  79.85714286,\n",
       "        79.85714286,  81.42857143,  81.42857143,  81.42857143,\n",
       "        81.42857143,  86.42857143,  86.42857143,  86.42857143,\n",
       "        86.42857143,  79.57142857,  84.85714286,  84.85714286,\n",
       "        84.85714286,  84.85714286,  84.85714286,  84.85714286,\n",
       "        81.85714286,  82.71428571,  82.71428571,  82.71428571,\n",
       "        82.71428571,  82.85714286,  82.85714286,  83.57142857,\n",
       "        85.85714286,  84.28571429,  85.14285714,  85.14285714,\n",
       "        85.14285714,  85.14285714,  85.14285714,  87.85714286,\n",
       "        87.85714286,  91.42857143,  91.42857143,  90.57142857,\n",
       "        90.85714286,  95.71428571,  91.42857143,  91.42857143,\n",
       "        92.57142857,  92.57142857,  94.        ,  95.42857143,\n",
       "        94.57142857,  94.57142857,  93.14285714,  93.14285714,\n",
       "        88.28571429,  88.28571429,  92.14285714,  92.14285714,\n",
       "        92.14285714,  92.14285714,  91.85714286,  91.85714286,\n",
       "        91.85714286,  91.85714286,  90.        ,  90.        ,\n",
       "        91.42857143,  81.28571429,  81.14285714,  81.42857143,\n",
       "        81.42857143,  83.14285714,  81.71428571,  85.28571429,\n",
       "        85.28571429,  80.14285714,  80.14285714,  80.14285714,\n",
       "        80.14285714,  80.14285714,  80.14285714,  81.85714286,\n",
       "        84.        ,  84.        ,  84.14285714,  84.14285714,\n",
       "        84.14285714,  84.14285714,  84.14285714,  85.        ,\n",
       "        85.        ,  85.        ,  80.        ,  80.        ,\n",
       "        80.85714286,  80.85714286,  80.85714286,  84.28571429,\n",
       "        81.71428571,  81.71428571,  80.71428571,  80.71428571,\n",
       "        80.71428571,  81.        ,  81.        ,  81.        ,\n",
       "        81.        ,  81.        ,  81.28571429,  81.14285714,\n",
       "        81.14285714,  81.42857143,  81.42857143,  96.57142857,\n",
       "        96.57142857,  87.42857143,  94.28571429,  94.28571429,\n",
       "        95.14285714,  95.14285714,  97.        ,  97.        ,\n",
       "       103.        ,  99.57142857,  99.57142857, 100.57142857,\n",
       "       100.57142857, 100.57142857, 100.57142857, 100.57142857,\n",
       "       101.14285714,  80.57142857,  80.57142857,  80.57142857,\n",
       "        80.57142857,  80.57142857,  80.57142857,  80.57142857,\n",
       "        84.42857143,  84.42857143,  80.57142857,  80.57142857,\n",
       "        81.71428571,  89.28571429,  89.28571429,  89.28571429,\n",
       "        89.28571429,  89.28571429,  89.28571429,  89.        ,\n",
       "        89.        ,  76.42857143,  75.85714286,  75.85714286,\n",
       "        74.42857143,  74.42857143,  74.42857143,  74.42857143,\n",
       "        74.42857143,  74.42857143,  79.        ,  77.28571429,\n",
       "        86.        ,  86.        ,  86.        ,  86.        ,\n",
       "        86.        ,  88.14285714,  88.14285714,  88.14285714,\n",
       "        81.85714286,  74.14285714,  87.14285714,  87.14285714,\n",
       "        88.42857143,  88.42857143,  75.        ,  75.        ,\n",
       "        75.        ,  86.28571429,  86.28571429,  80.85714286,\n",
       "        86.28571429,  86.28571429,  86.28571429,  86.28571429,\n",
       "        86.28571429,  88.71428571,  89.        ,  89.        ,\n",
       "        88.57142857,  88.57142857,  88.57142857,  88.57142857,\n",
       "        88.57142857,  84.28571429,  84.28571429,  84.28571429,\n",
       "        84.28571429,  84.28571429,  84.28571429,  84.28571429,\n",
       "        85.57142857,  85.57142857,  85.57142857,  85.57142857,\n",
       "        74.28571429,  69.71428571,  69.71428571,  69.71428571,\n",
       "        85.57142857,  85.57142857,  72.57142857,  85.57142857,\n",
       "        87.71428571,  87.71428571,  83.14285714,  83.14285714,\n",
       "        83.14285714,  83.14285714,  83.14285714,  83.14285714,\n",
       "        83.14285714,  69.71428571,  69.71428571,  69.71428571,\n",
       "        71.14285714,  71.14285714,  71.14285714,  71.14285714,\n",
       "        71.14285714,  71.14285714,  90.42857143,  83.28571429,\n",
       "        83.28571429,  94.85714286,  94.85714286,  94.85714286,\n",
       "        92.42857143,  92.42857143,  92.42857143,  92.42857143,\n",
       "        90.14285714,  90.14285714,  90.57142857,  90.57142857,\n",
       "        90.57142857,  90.57142857,  90.57142857,  90.57142857,\n",
       "        87.14285714,  87.14285714,  87.14285714,  87.14285714,\n",
       "        87.14285714,  87.14285714,  87.14285714,  91.14285714,\n",
       "        91.14285714,  91.14285714,  91.14285714,  91.14285714,\n",
       "        68.28571429,  74.        ,  74.        ,  74.        ,\n",
       "        74.        ,  74.        ,  74.        ,  74.        ,\n",
       "        69.71428571,  69.71428571,  69.71428571,  75.42857143,\n",
       "        75.42857143,  73.42857143,  73.42857143,  71.42857143,\n",
       "        71.42857143,  69.71428571,  69.71428571,  69.71428571,\n",
       "        69.71428571,  75.42857143,  73.42857143,  73.42857143,\n",
       "        71.42857143,  71.42857143,  71.42857143,  72.14285714,\n",
       "        72.14285714,  70.85714286,  70.85714286,  70.85714286,\n",
       "        70.85714286,  70.85714286,  70.85714286,  66.85714286,\n",
       "        66.85714286,  66.85714286,  66.85714286,  66.85714286,\n",
       "        66.85714286,  70.71428571,  70.71428571,  70.71428571,\n",
       "        70.71428571,  70.71428571,  70.71428571,  70.71428571,\n",
       "        99.85714286,  99.85714286,  99.85714286,  99.85714286,\n",
       "        99.85714286,  99.85714286,  99.85714286, 100.28571429,\n",
       "        89.71428571,  89.71428571,  89.71428571,  97.14285714,\n",
       "        97.14285714,  97.42857143,  97.42857143])"
      ]
     },
     "execution_count": 8,
     "metadata": {},
     "output_type": "execute_result"
    }
   ],
   "source": [
    "model_select = Pipeline([('poly',PolynomialFeatures(degree = 2)),\n",
    "                         ('std_scaler', StandardScaler()),\n",
    "                         ('mod', config.model_info['KN']['Model'])  # 修改model\n",
    "                        ])\n",
    "\n",
    "model_select.fit(data_x, data_y.loc[:,config.Y_variable])\n",
    "\n",
    "y_predict = model_select.predict(data_x)\n",
    "y_predict"
   ]
  },
  {
   "cell_type": "code",
   "execution_count": 9,
   "id": "57c9202f",
   "metadata": {},
   "outputs": [
    {
     "name": "stdout",
     "output_type": "stream",
     "text": [
      "RMSE:14.35\n"
     ]
    }
   ],
   "source": [
    "k_fold_RMSE = -cross_val_score(model_select, \n",
    "                               data_x,\n",
    "                               data_y.loc[:,config.Y_variable], \n",
    "                               cv = 5, \n",
    "                               scoring = 'neg_root_mean_squared_error').mean()\n",
    "\n",
    "print('RMSE:' + str(round(k_fold_RMSE,2)))"
   ]
  },
  {
   "cell_type": "code",
   "execution_count": 10,
   "id": "fd383524",
   "metadata": {},
   "outputs": [
    {
     "data": {
      "image/png": "[encoded data removed]",
      "text/plain": [
       "<Figure size 648x288 with 2 Axes>"
      ]
     },
     "metadata": {
      "needs_background": "light"
     },
     "output_type": "display_data"
    }
   ],
   "source": [
    "y_predict_diff = data_y.loc[:,config.Y_variable] - y_predict\n",
    "\n",
    "model_result = pd.DataFrame({'y_predict_diff':y_predict_diff,\n",
    "                             'y_actual':data_y.loc[:,config.Y_variable],\n",
    "                             'y_predict':y_predict})\n",
    "# display(Y_predict_diff)\n",
    "\n",
    "# seaborn呈現結果\n",
    "fig, axes = plt.subplots(1, 2, figsize=(9, 4))\n",
    "\n",
    "# 預測值跟實際值分布狀況\n",
    "sns.regplot(x = 'y_actual', \n",
    "            y = 'y_predict',\n",
    "            data = model_result, \n",
    "            ax=axes[0])\n",
    "    \n",
    "    # 每筆資料的差異\n",
    "sns.scatterplot(x = model_result.index,\n",
    "                y = 'y_predict_diff',\n",
    "                data = model_result, \n",
    "                ax=axes[1])\n",
    "    \n",
    "    \n",
    "plt.tight_layout()"
   ]
  },
  {
   "cell_type": "code",
   "execution_count": null,
   "id": "13ef98bf",
   "metadata": {},
   "outputs": [],
   "source": []
  }
 ],
 "metadata": {
  "kernelspec": {
   "display_name": "Python 3",
   "language": "python",
   "name": "python3"
  },
  "language_info": {
   "codemirror_mode": {
    "name": "ipython",
    "version": 3
   },
   "file_extension": ".py",
   "mimetype": "text/x-python",
   "name": "python",
   "nbconvert_exporter": "python",
   "pygments_lexer": "ipython3",
   "version": "3.7.10"
  }
 },
 "nbformat": 4,
 "nbformat_minor": 5
}
