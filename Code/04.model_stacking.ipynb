{
 "cells": [
  {
   "cell_type": "code",
   "execution_count": 1,
   "id": "ed180e46-c836-4243-9eb1-a76149caa8b3",
   "metadata": {
    "execution": {
     "iopub.execute_input": "2022-09-13T16:33:10.676073Z",
     "iopub.status.busy": "2022-09-13T16:33:10.676073Z",
     "iopub.status.idle": "2022-09-13T16:33:12.580099Z",
     "shell.execute_reply": "2022-09-13T16:33:12.579114Z",
     "shell.execute_reply.started": "2022-09-13T16:33:10.676073Z"
    },
    "tags": []
   },
   "outputs": [],
   "source": [
    "from sklearn.datasets import load_diabetes\n",
    "from sklearn.linear_model import RidgeCV\n",
    "from sklearn.svm import LinearSVR\n",
    "from sklearn.ensemble import RandomForestRegressor\n",
    "from sklearn.ensemble import StackingRegressor\n",
    "from sklearn.linear_model import LinearRegression\n",
    "from utils.metric_utils import rmse_score\n",
    "import pandas as pd\n",
    "import numpy as np\n",
    "import pickle"
   ]
  },
  {
   "cell_type": "markdown",
   "id": "51cb025c-8e9e-47a3-8735-e9ec977e2d78",
   "metadata": {},
   "source": [
    "* Muti-output Model"
   ]
  },
  {
   "cell_type": "code",
   "execution_count": 2,
   "id": "cde66eb0-27ec-4748-b59b-9a2983c64ca9",
   "metadata": {
    "execution": {
     "iopub.execute_input": "2022-09-13T16:33:12.585099Z",
     "iopub.status.busy": "2022-09-13T16:33:12.583100Z",
     "iopub.status.idle": "2022-09-13T16:33:12.956042Z",
     "shell.execute_reply": "2022-09-13T16:33:12.955041Z",
     "shell.execute_reply.started": "2022-09-13T16:33:12.585099Z"
    },
    "tags": []
   },
   "outputs": [],
   "source": [
    "with open(f'../Model/catboost_all_20220913235830.pickle', 'rb') as f:\n",
    "    muti_output_model = pickle.load(f)"
   ]
  },
  {
   "cell_type": "markdown",
   "id": "c969d8b3-3e98-45ab-afaa-86d7c7a5fa12",
   "metadata": {},
   "source": [
    "* Single output Model"
   ]
  },
  {
   "cell_type": "code",
   "execution_count": 3,
   "id": "a82475e4-7d02-487e-ac7b-7be40d4c2289",
   "metadata": {
    "execution": {
     "iopub.execute_input": "2022-09-13T16:33:12.961042Z",
     "iopub.status.busy": "2022-09-13T16:33:12.960041Z",
     "iopub.status.idle": "2022-09-13T16:33:12.987037Z",
     "shell.execute_reply": "2022-09-13T16:33:12.986036Z",
     "shell.execute_reply.started": "2022-09-13T16:33:12.961042Z"
    },
    "tags": []
   },
   "outputs": [],
   "source": [
    "with open(f'../Model/catboost_single_20220913235830.pickle', 'rb' ) as f:\n",
    "    single_output_model_dic = pickle.load(f)"
   ]
  },
  {
   "cell_type": "markdown",
   "id": "aa01b883-056e-49d2-9f42-554c40d32746",
   "metadata": {},
   "source": [
    "## load Data"
   ]
  },
  {
   "cell_type": "code",
   "execution_count": 4,
   "id": "05693a97-7ff0-431e-8bca-15ceaa6d8ee7",
   "metadata": {
    "execution": {
     "iopub.execute_input": "2022-09-13T16:33:12.989035Z",
     "iopub.status.busy": "2022-09-13T16:33:12.989035Z",
     "iopub.status.idle": "2022-09-13T16:33:13.021033Z",
     "shell.execute_reply": "2022-09-13T16:33:13.017039Z",
     "shell.execute_reply.started": "2022-09-13T16:33:12.989035Z"
    },
    "tags": []
   },
   "outputs": [],
   "source": [
    "with open(f'../Data/meta/train_x_after_feature_engineering.pickle', 'rb') as f:\n",
    "    train_x_after_fe = pickle.load(f)"
   ]
  },
  {
   "cell_type": "code",
   "execution_count": 5,
   "id": "375d2c65-3874-4581-9ede-a5cde8fdcf7b",
   "metadata": {
    "execution": {
     "iopub.execute_input": "2022-09-13T16:33:13.027031Z",
     "iopub.status.busy": "2022-09-13T16:33:13.025031Z",
     "iopub.status.idle": "2022-09-13T16:33:13.128014Z",
     "shell.execute_reply": "2022-09-13T16:33:13.127015Z",
     "shell.execute_reply.started": "2022-09-13T16:33:13.027031Z"
    }
   },
   "outputs": [
    {
     "data": {
      "text/html": [
       "<div>\n",
       "<style scoped>\n",
       "    .dataframe tbody tr th:only-of-type {\n",
       "        vertical-align: middle;\n",
       "    }\n",
       "\n",
       "    .dataframe tbody tr th {\n",
       "        vertical-align: top;\n",
       "    }\n",
       "\n",
       "    .dataframe thead th {\n",
       "        text-align: right;\n",
       "    }\n",
       "</style>\n",
       "<table border=\"1\" class=\"dataframe\">\n",
       "  <thead>\n",
       "    <tr style=\"text-align: right;\">\n",
       "      <th></th>\n",
       "      <th>clean_pressure31</th>\n",
       "      <th>clean_pressure33</th>\n",
       "      <th>clean_pressure41</th>\n",
       "      <th>clean_pressure51</th>\n",
       "      <th>clean_pressure52</th>\n",
       "      <th>clean_pressure61</th>\n",
       "      <th>clean_pressure71</th>\n",
       "      <th>clean_pressure72</th>\n",
       "      <th>clean_pressure81</th>\n",
       "      <th>clean_pressure91</th>\n",
       "      <th>...</th>\n",
       "      <th>clean_pressure82_group</th>\n",
       "      <th>oven_pb1_group</th>\n",
       "      <th>oven_pb2_group</th>\n",
       "      <th>oven_a1_group</th>\n",
       "      <th>oven_b1_group</th>\n",
       "      <th>oven_b3_group</th>\n",
       "      <th>painting_g3_act_hvv_group</th>\n",
       "      <th>painting_g8_act_f_air_group</th>\n",
       "      <th>painting_g9_act_hvc_group</th>\n",
       "      <th>env_rpi05_temp_group</th>\n",
       "    </tr>\n",
       "  </thead>\n",
       "  <tbody>\n",
       "    <tr>\n",
       "      <th>0</th>\n",
       "      <td>-0.845269</td>\n",
       "      <td>-2.274242</td>\n",
       "      <td>2.327716</td>\n",
       "      <td>2.163639</td>\n",
       "      <td>-2.965910</td>\n",
       "      <td>1.903804</td>\n",
       "      <td>0.434963</td>\n",
       "      <td>2.902725</td>\n",
       "      <td>1.936083</td>\n",
       "      <td>-0.427078</td>\n",
       "      <td>...</td>\n",
       "      <td>5</td>\n",
       "      <td>5</td>\n",
       "      <td>3</td>\n",
       "      <td>2</td>\n",
       "      <td>2</td>\n",
       "      <td>1</td>\n",
       "      <td>3</td>\n",
       "      <td>0</td>\n",
       "      <td>4</td>\n",
       "      <td>1</td>\n",
       "    </tr>\n",
       "    <tr>\n",
       "      <th>1</th>\n",
       "      <td>-0.845888</td>\n",
       "      <td>-2.273734</td>\n",
       "      <td>2.327716</td>\n",
       "      <td>2.172853</td>\n",
       "      <td>-2.965910</td>\n",
       "      <td>1.903804</td>\n",
       "      <td>0.427070</td>\n",
       "      <td>2.906072</td>\n",
       "      <td>1.950879</td>\n",
       "      <td>-0.471062</td>\n",
       "      <td>...</td>\n",
       "      <td>5</td>\n",
       "      <td>5</td>\n",
       "      <td>3</td>\n",
       "      <td>2</td>\n",
       "      <td>2</td>\n",
       "      <td>1</td>\n",
       "      <td>3</td>\n",
       "      <td>0</td>\n",
       "      <td>4</td>\n",
       "      <td>1</td>\n",
       "    </tr>\n",
       "    <tr>\n",
       "      <th>4</th>\n",
       "      <td>-0.855656</td>\n",
       "      <td>-2.295590</td>\n",
       "      <td>2.327716</td>\n",
       "      <td>2.168243</td>\n",
       "      <td>-2.964846</td>\n",
       "      <td>1.903804</td>\n",
       "      <td>0.380329</td>\n",
       "      <td>2.902725</td>\n",
       "      <td>1.807915</td>\n",
       "      <td>-0.562123</td>\n",
       "      <td>...</td>\n",
       "      <td>5</td>\n",
       "      <td>5</td>\n",
       "      <td>3</td>\n",
       "      <td>2</td>\n",
       "      <td>2</td>\n",
       "      <td>1</td>\n",
       "      <td>3</td>\n",
       "      <td>0</td>\n",
       "      <td>1</td>\n",
       "      <td>1</td>\n",
       "    </tr>\n",
       "  </tbody>\n",
       "</table>\n",
       "<p>3 rows × 60 columns</p>\n",
       "</div>"
      ],
      "text/plain": [
       "   clean_pressure31  clean_pressure33  clean_pressure41  clean_pressure51  \\\n",
       "0         -0.845269         -2.274242          2.327716          2.163639   \n",
       "1         -0.845888         -2.273734          2.327716          2.172853   \n",
       "4         -0.855656         -2.295590          2.327716          2.168243   \n",
       "\n",
       "   clean_pressure52  clean_pressure61  clean_pressure71  clean_pressure72  \\\n",
       "0         -2.965910          1.903804          0.434963          2.902725   \n",
       "1         -2.965910          1.903804          0.427070          2.906072   \n",
       "4         -2.964846          1.903804          0.380329          2.902725   \n",
       "\n",
       "   clean_pressure81  clean_pressure91  ...  clean_pressure82_group  \\\n",
       "0          1.936083         -0.427078  ...                       5   \n",
       "1          1.950879         -0.471062  ...                       5   \n",
       "4          1.807915         -0.562123  ...                       5   \n",
       "\n",
       "   oven_pb1_group  oven_pb2_group  oven_a1_group  oven_b1_group  \\\n",
       "0               5               3              2              2   \n",
       "1               5               3              2              2   \n",
       "4               5               3              2              2   \n",
       "\n",
       "   oven_b3_group  painting_g3_act_hvv_group  painting_g8_act_f_air_group  \\\n",
       "0              1                          3                            0   \n",
       "1              1                          3                            0   \n",
       "4              1                          3                            0   \n",
       "\n",
       "   painting_g9_act_hvc_group  env_rpi05_temp_group  \n",
       "0                          4                     1  \n",
       "1                          4                     1  \n",
       "4                          1                     1  \n",
       "\n",
       "[3 rows x 60 columns]"
      ]
     },
     "execution_count": 5,
     "metadata": {},
     "output_type": "execute_result"
    }
   ],
   "source": [
    "train_x_after_fe.head(3)"
   ]
  },
  {
   "cell_type": "code",
   "execution_count": 6,
   "id": "d454364e-7a4d-495e-9467-7b34e1b4e4b1",
   "metadata": {
    "execution": {
     "iopub.execute_input": "2022-09-13T16:33:13.135015Z",
     "iopub.status.busy": "2022-09-13T16:33:13.132015Z",
     "iopub.status.idle": "2022-09-13T16:33:13.161010Z",
     "shell.execute_reply": "2022-09-13T16:33:13.159011Z",
     "shell.execute_reply.started": "2022-09-13T16:33:13.135015Z"
    },
    "tags": []
   },
   "outputs": [],
   "source": [
    "with open(f'../Data/meta/train_y_after_feature_engineering.pickle', 'rb') as f:\n",
    "    train_y_after_fe = pickle.load(f)"
   ]
  },
  {
   "cell_type": "code",
   "execution_count": 7,
   "id": "8db926f3-6989-42c2-9a79-0fb84c3db102",
   "metadata": {
    "execution": {
     "iopub.execute_input": "2022-09-13T16:33:13.164009Z",
     "iopub.status.busy": "2022-09-13T16:33:13.163009Z",
     "iopub.status.idle": "2022-09-13T16:33:13.191005Z",
     "shell.execute_reply": "2022-09-13T16:33:13.189007Z",
     "shell.execute_reply.started": "2022-09-13T16:33:13.164009Z"
    }
   },
   "outputs": [
    {
     "data": {
      "text/html": [
       "<div>\n",
       "<style scoped>\n",
       "    .dataframe tbody tr th:only-of-type {\n",
       "        vertical-align: middle;\n",
       "    }\n",
       "\n",
       "    .dataframe tbody tr th {\n",
       "        vertical-align: top;\n",
       "    }\n",
       "\n",
       "    .dataframe thead th {\n",
       "        text-align: right;\n",
       "    }\n",
       "</style>\n",
       "<table border=\"1\" class=\"dataframe\">\n",
       "  <thead>\n",
       "    <tr style=\"text-align: right;\">\n",
       "      <th></th>\n",
       "      <th>sensor_point5_i_value</th>\n",
       "      <th>sensor_point6_i_value</th>\n",
       "      <th>sensor_point7_i_value</th>\n",
       "      <th>sensor_point8_i_value</th>\n",
       "      <th>sensor_point9_i_value</th>\n",
       "      <th>sensor_point10_i_value</th>\n",
       "    </tr>\n",
       "  </thead>\n",
       "  <tbody>\n",
       "    <tr>\n",
       "      <th>0</th>\n",
       "      <td>-2.875155</td>\n",
       "      <td>-1.366112</td>\n",
       "      <td>-1.107743</td>\n",
       "      <td>-1.662985</td>\n",
       "      <td>-0.752201</td>\n",
       "      <td>-2.795963</td>\n",
       "    </tr>\n",
       "    <tr>\n",
       "      <th>1</th>\n",
       "      <td>-3.261590</td>\n",
       "      <td>-1.215837</td>\n",
       "      <td>-2.053786</td>\n",
       "      <td>-1.706093</td>\n",
       "      <td>-1.202112</td>\n",
       "      <td>-2.974941</td>\n",
       "    </tr>\n",
       "    <tr>\n",
       "      <th>4</th>\n",
       "      <td>-1.715849</td>\n",
       "      <td>-0.539601</td>\n",
       "      <td>-1.896112</td>\n",
       "      <td>-1.231903</td>\n",
       "      <td>-1.202112</td>\n",
       "      <td>-1.602776</td>\n",
       "    </tr>\n",
       "  </tbody>\n",
       "</table>\n",
       "</div>"
      ],
      "text/plain": [
       "   sensor_point5_i_value  sensor_point6_i_value  sensor_point7_i_value  \\\n",
       "0              -2.875155              -1.366112              -1.107743   \n",
       "1              -3.261590              -1.215837              -2.053786   \n",
       "4              -1.715849              -0.539601              -1.896112   \n",
       "\n",
       "   sensor_point8_i_value  sensor_point9_i_value  sensor_point10_i_value  \n",
       "0              -1.662985              -0.752201               -2.795963  \n",
       "1              -1.706093              -1.202112               -2.974941  \n",
       "4              -1.231903              -1.202112               -1.602776  "
      ]
     },
     "execution_count": 7,
     "metadata": {},
     "output_type": "execute_result"
    }
   ],
   "source": [
    "train_y_after_fe.head(3)"
   ]
  },
  {
   "cell_type": "code",
   "execution_count": 8,
   "id": "1d313594-5629-4f54-baf8-163d50e53272",
   "metadata": {
    "execution": {
     "iopub.execute_input": "2022-09-13T16:33:13.194007Z",
     "iopub.status.busy": "2022-09-13T16:33:13.193005Z",
     "iopub.status.idle": "2022-09-13T16:33:13.205005Z",
     "shell.execute_reply": "2022-09-13T16:33:13.204003Z",
     "shell.execute_reply.started": "2022-09-13T16:33:13.194007Z"
    },
    "tags": []
   },
   "outputs": [],
   "source": [
    "# You need to use original values of target variable to evaluate RMSE\n",
    "with open(f'../Data/meta/non_scaled_train_y_after_feature_engineering.pickle', 'rb') as f:\n",
    "    non_scaled_train_y = pickle.load(f)"
   ]
  },
  {
   "cell_type": "code",
   "execution_count": 9,
   "id": "46eea9cc-8025-4218-a346-14d795e93208",
   "metadata": {
    "execution": {
     "iopub.execute_input": "2022-09-13T16:33:13.210003Z",
     "iopub.status.busy": "2022-09-13T16:33:13.209007Z",
     "iopub.status.idle": "2022-09-13T16:33:13.235998Z",
     "shell.execute_reply": "2022-09-13T16:33:13.234997Z",
     "shell.execute_reply.started": "2022-09-13T16:33:13.210003Z"
    }
   },
   "outputs": [
    {
     "data": {
      "text/html": [
       "<div>\n",
       "<style scoped>\n",
       "    .dataframe tbody tr th:only-of-type {\n",
       "        vertical-align: middle;\n",
       "    }\n",
       "\n",
       "    .dataframe tbody tr th {\n",
       "        vertical-align: top;\n",
       "    }\n",
       "\n",
       "    .dataframe thead th {\n",
       "        text-align: right;\n",
       "    }\n",
       "</style>\n",
       "<table border=\"1\" class=\"dataframe\">\n",
       "  <thead>\n",
       "    <tr style=\"text-align: right;\">\n",
       "      <th></th>\n",
       "      <th>sensor_point5_i_value</th>\n",
       "      <th>sensor_point6_i_value</th>\n",
       "      <th>sensor_point7_i_value</th>\n",
       "      <th>sensor_point8_i_value</th>\n",
       "      <th>sensor_point9_i_value</th>\n",
       "      <th>sensor_point10_i_value</th>\n",
       "    </tr>\n",
       "  </thead>\n",
       "  <tbody>\n",
       "    <tr>\n",
       "      <th>0</th>\n",
       "      <td>42</td>\n",
       "      <td>56</td>\n",
       "      <td>82</td>\n",
       "      <td>41</td>\n",
       "      <td>73</td>\n",
       "      <td>45</td>\n",
       "    </tr>\n",
       "    <tr>\n",
       "      <th>1</th>\n",
       "      <td>37</td>\n",
       "      <td>60</td>\n",
       "      <td>58</td>\n",
       "      <td>40</td>\n",
       "      <td>64</td>\n",
       "      <td>42</td>\n",
       "    </tr>\n",
       "    <tr>\n",
       "      <th>4</th>\n",
       "      <td>57</td>\n",
       "      <td>78</td>\n",
       "      <td>62</td>\n",
       "      <td>51</td>\n",
       "      <td>64</td>\n",
       "      <td>65</td>\n",
       "    </tr>\n",
       "  </tbody>\n",
       "</table>\n",
       "</div>"
      ],
      "text/plain": [
       "   sensor_point5_i_value  sensor_point6_i_value  sensor_point7_i_value  \\\n",
       "0                     42                     56                     82   \n",
       "1                     37                     60                     58   \n",
       "4                     57                     78                     62   \n",
       "\n",
       "   sensor_point8_i_value  sensor_point9_i_value  sensor_point10_i_value  \n",
       "0                     41                     73                      45  \n",
       "1                     40                     64                      42  \n",
       "4                     51                     64                      65  "
      ]
     },
     "execution_count": 9,
     "metadata": {},
     "output_type": "execute_result"
    }
   ],
   "source": [
    "non_scaled_train_y.head(3)"
   ]
  },
  {
   "cell_type": "code",
   "execution_count": 10,
   "id": "d75eabff-be51-42d6-be37-ad069119dd97",
   "metadata": {
    "execution": {
     "iopub.execute_input": "2022-09-13T16:33:13.239997Z",
     "iopub.status.busy": "2022-09-13T16:33:13.237998Z",
     "iopub.status.idle": "2022-09-13T16:33:13.253998Z",
     "shell.execute_reply": "2022-09-13T16:33:13.250996Z",
     "shell.execute_reply.started": "2022-09-13T16:33:13.239997Z"
    }
   },
   "outputs": [],
   "source": [
    "# RandomForestRegressor(n_estimators=10, random_state=42)"
   ]
  },
  {
   "cell_type": "code",
   "execution_count": 11,
   "id": "d5b05b0a-edc4-4d47-a9ce-153ddde447da",
   "metadata": {
    "execution": {
     "iopub.execute_input": "2022-09-13T16:33:13.262996Z",
     "iopub.status.busy": "2022-09-13T16:33:13.260994Z",
     "iopub.status.idle": "2022-09-13T16:34:55.387029Z",
     "shell.execute_reply": "2022-09-13T16:34:55.386042Z",
     "shell.execute_reply.started": "2022-09-13T16:33:13.262996Z"
    },
    "tags": []
   },
   "outputs": [],
   "source": [
    "stack_model_dic = {}\n",
    "for col in train_y_after_fe.columns:\n",
    "    estimators = [\n",
    "        (f'{col}_model_1', single_output_model_dic[col]['model']),\n",
    "        (f'{col}_model_2', single_output_model_dic[col]['model'])\n",
    "    ]\n",
    "    reg = StackingRegressor(\n",
    "        estimators=estimators,\n",
    "        final_estimator=LinearRegression()\n",
    "    )\n",
    "\n",
    "    reg.fit(train_x_after_fe, train_y_after_fe['sensor_point5_i_value'])\n",
    "    stack_model_dic[col] = {'model': reg}"
   ]
  },
  {
   "cell_type": "code",
   "execution_count": 12,
   "id": "1fe24104-ba74-41c8-93e4-b272b5e9c716",
   "metadata": {
    "execution": {
     "iopub.execute_input": "2022-09-13T16:34:55.392038Z",
     "iopub.status.busy": "2022-09-13T16:34:55.391036Z",
     "iopub.status.idle": "2022-09-13T16:34:55.419030Z",
     "shell.execute_reply": "2022-09-13T16:34:55.418032Z",
     "shell.execute_reply.started": "2022-09-13T16:34:55.392038Z"
    },
    "tags": []
   },
   "outputs": [
    {
     "data": {
      "text/html": [
       "<style>#sk-container-id-1 {color: black;background-color: white;}#sk-container-id-1 pre{padding: 0;}#sk-container-id-1 div.sk-toggleable {background-color: white;}#sk-container-id-1 label.sk-toggleable__label {cursor: pointer;display: block;width: 100%;margin-bottom: 0;padding: 0.3em;box-sizing: border-box;text-align: center;}#sk-container-id-1 label.sk-toggleable__label-arrow:before {content: \"▸\";float: left;margin-right: 0.25em;color: #696969;}#sk-container-id-1 label.sk-toggleable__label-arrow:hover:before {color: black;}#sk-container-id-1 div.sk-estimator:hover label.sk-toggleable__label-arrow:before {color: black;}#sk-container-id-1 div.sk-toggleable__content {max-height: 0;max-width: 0;overflow: hidden;text-align: left;background-color: #f0f8ff;}#sk-container-id-1 div.sk-toggleable__content pre {margin: 0.2em;color: black;border-radius: 0.25em;background-color: #f0f8ff;}#sk-container-id-1 input.sk-toggleable__control:checked~div.sk-toggleable__content {max-height: 200px;max-width: 100%;overflow: auto;}#sk-container-id-1 input.sk-toggleable__control:checked~label.sk-toggleable__label-arrow:before {content: \"▾\";}#sk-container-id-1 div.sk-estimator input.sk-toggleable__control:checked~label.sk-toggleable__label {background-color: #d4ebff;}#sk-container-id-1 div.sk-label input.sk-toggleable__control:checked~label.sk-toggleable__label {background-color: #d4ebff;}#sk-container-id-1 input.sk-hidden--visually {border: 0;clip: rect(1px 1px 1px 1px);clip: rect(1px, 1px, 1px, 1px);height: 1px;margin: -1px;overflow: hidden;padding: 0;position: absolute;width: 1px;}#sk-container-id-1 div.sk-estimator {font-family: monospace;background-color: #f0f8ff;border: 1px dotted black;border-radius: 0.25em;box-sizing: border-box;margin-bottom: 0.5em;}#sk-container-id-1 div.sk-estimator:hover {background-color: #d4ebff;}#sk-container-id-1 div.sk-parallel-item::after {content: \"\";width: 100%;border-bottom: 1px solid gray;flex-grow: 1;}#sk-container-id-1 div.sk-label:hover label.sk-toggleable__label {background-color: #d4ebff;}#sk-container-id-1 div.sk-serial::before {content: \"\";position: absolute;border-left: 1px solid gray;box-sizing: border-box;top: 0;bottom: 0;left: 50%;z-index: 0;}#sk-container-id-1 div.sk-serial {display: flex;flex-direction: column;align-items: center;background-color: white;padding-right: 0.2em;padding-left: 0.2em;position: relative;}#sk-container-id-1 div.sk-item {position: relative;z-index: 1;}#sk-container-id-1 div.sk-parallel {display: flex;align-items: stretch;justify-content: center;background-color: white;position: relative;}#sk-container-id-1 div.sk-item::before, #sk-container-id-1 div.sk-parallel-item::before {content: \"\";position: absolute;border-left: 1px solid gray;box-sizing: border-box;top: 0;bottom: 0;left: 50%;z-index: -1;}#sk-container-id-1 div.sk-parallel-item {display: flex;flex-direction: column;z-index: 1;position: relative;background-color: white;}#sk-container-id-1 div.sk-parallel-item:first-child::after {align-self: flex-end;width: 50%;}#sk-container-id-1 div.sk-parallel-item:last-child::after {align-self: flex-start;width: 50%;}#sk-container-id-1 div.sk-parallel-item:only-child::after {width: 0;}#sk-container-id-1 div.sk-dashed-wrapped {border: 1px dashed gray;margin: 0 0.4em 0.5em 0.4em;box-sizing: border-box;padding-bottom: 0.4em;background-color: white;}#sk-container-id-1 div.sk-label label {font-family: monospace;font-weight: bold;display: inline-block;line-height: 1.2em;}#sk-container-id-1 div.sk-label-container {text-align: center;}#sk-container-id-1 div.sk-container {/* jupyter's `normalize.less` sets `[hidden] { display: none; }` but bootstrap.min.css set `[hidden] { display: none !important; }` so we also need the `!important` here to be able to override the default hidden behavior on the sphinx rendered scikit-learn.org. See: https://github.com/scikit-learn/scikit-learn/issues/21755 */display: inline-block !important;position: relative;}#sk-container-id-1 div.sk-text-repr-fallback {display: none;}</style><div id=\"sk-container-id-1\" class=\"sk-top-container\"><div class=\"sk-text-repr-fallback\"><pre>StackingRegressor(estimators=[(&#x27;sensor_point10_i_value_model_1&#x27;,\n",
       "                               &lt;catboost.core.CatBoostRegressor object at 0x0000010F10F99F70&gt;),\n",
       "                              (&#x27;sensor_point10_i_value_model_2&#x27;,\n",
       "                               &lt;catboost.core.CatBoostRegressor object at 0x0000010F10F99F70&gt;)],\n",
       "                  final_estimator=LinearRegression())</pre><b>In a Jupyter environment, please rerun this cell to show the HTML representation or trust the notebook. <br />On GitHub, the HTML representation is unable to render, please try loading this page with nbviewer.org.</b></div><div class=\"sk-container\" hidden><div class=\"sk-item sk-dashed-wrapped\"><div class=\"sk-label-container\"><div class=\"sk-label sk-toggleable\"><input class=\"sk-toggleable__control sk-hidden--visually\" id=\"sk-estimator-id-1\" type=\"checkbox\" ><label for=\"sk-estimator-id-1\" class=\"sk-toggleable__label sk-toggleable__label-arrow\">StackingRegressor</label><div class=\"sk-toggleable__content\"><pre>StackingRegressor(estimators=[(&#x27;sensor_point10_i_value_model_1&#x27;,\n",
       "                               &lt;catboost.core.CatBoostRegressor object at 0x0000010F10F99F70&gt;),\n",
       "                              (&#x27;sensor_point10_i_value_model_2&#x27;,\n",
       "                               &lt;catboost.core.CatBoostRegressor object at 0x0000010F10F99F70&gt;)],\n",
       "                  final_estimator=LinearRegression())</pre></div></div></div><div class=\"sk-serial\"><div class=\"sk-item\"><div class=\"sk-parallel\"><div class=\"sk-parallel-item\"><div class=\"sk-item\"><div class=\"sk-label-container\"><div class=\"sk-label sk-toggleable\"><label>sensor_point10_i_value_model_1</label></div></div><div class=\"sk-serial\"><div class=\"sk-item\"><div class=\"sk-estimator sk-toggleable\"><input class=\"sk-toggleable__control sk-hidden--visually\" id=\"sk-estimator-id-2\" type=\"checkbox\" ><label for=\"sk-estimator-id-2\" class=\"sk-toggleable__label sk-toggleable__label-arrow\">CatBoostRegressor</label><div class=\"sk-toggleable__content\"><pre>&lt;catboost.core.CatBoostRegressor object at 0x0000010F10F99F70&gt;</pre></div></div></div></div></div></div><div class=\"sk-parallel-item\"><div class=\"sk-item\"><div class=\"sk-label-container\"><div class=\"sk-label sk-toggleable\"><label>sensor_point10_i_value_model_2</label></div></div><div class=\"sk-serial\"><div class=\"sk-item\"><div class=\"sk-estimator sk-toggleable\"><input class=\"sk-toggleable__control sk-hidden--visually\" id=\"sk-estimator-id-3\" type=\"checkbox\" ><label for=\"sk-estimator-id-3\" class=\"sk-toggleable__label sk-toggleable__label-arrow\">CatBoostRegressor</label><div class=\"sk-toggleable__content\"><pre>&lt;catboost.core.CatBoostRegressor object at 0x0000010F10F99F70&gt;</pre></div></div></div></div></div></div></div></div><div class=\"sk-item\"><div class=\"sk-parallel\"><div class=\"sk-parallel-item\"><div class=\"sk-item\"><div class=\"sk-label-container\"><div class=\"sk-label sk-toggleable\"><label>final_estimator</label></div></div><div class=\"sk-serial\"><div class=\"sk-item\"><div class=\"sk-estimator sk-toggleable\"><input class=\"sk-toggleable__control sk-hidden--visually\" id=\"sk-estimator-id-4\" type=\"checkbox\" ><label for=\"sk-estimator-id-4\" class=\"sk-toggleable__label sk-toggleable__label-arrow\">LinearRegression</label><div class=\"sk-toggleable__content\"><pre>LinearRegression()</pre></div></div></div></div></div></div></div></div></div></div></div></div>"
      ],
      "text/plain": [
       "StackingRegressor(estimators=[('sensor_point10_i_value_model_1',\n",
       "                               <catboost.core.CatBoostRegressor object at 0x0000010F10F99F70>),\n",
       "                              ('sensor_point10_i_value_model_2',\n",
       "                               <catboost.core.CatBoostRegressor object at 0x0000010F10F99F70>)],\n",
       "                  final_estimator=LinearRegression())"
      ]
     },
     "execution_count": 12,
     "metadata": {},
     "output_type": "execute_result"
    }
   ],
   "source": [
    "stack_model_dic[col]['model']"
   ]
  },
  {
   "cell_type": "code",
   "execution_count": 13,
   "id": "516fc187-d97a-496b-88df-86723b51842a",
   "metadata": {
    "execution": {
     "iopub.execute_input": "2022-09-13T16:34:55.422029Z",
     "iopub.status.busy": "2022-09-13T16:34:55.421028Z",
     "iopub.status.idle": "2022-09-13T16:34:55.641002Z",
     "shell.execute_reply": "2022-09-13T16:34:55.638995Z",
     "shell.execute_reply.started": "2022-09-13T16:34:55.422029Z"
    },
    "tags": []
   },
   "outputs": [],
   "source": [
    "with open(f'../Model/target_col_list.pickle', 'rb' ) as f:\n",
    "    col_y_li = pickle.load(f)\n",
    "array_li= [ stack_model_dic[col_y]['model'].predict(train_x_after_fe).reshape(-1,1) for col_y in col_y_li ]\n",
    "all_res = np.concatenate(array_li, axis=1)"
   ]
  },
  {
   "cell_type": "code",
   "execution_count": 14,
   "id": "bad8f550-b016-4906-8e11-fb34e86c4843",
   "metadata": {
    "execution": {
     "iopub.execute_input": "2022-09-13T16:34:55.648997Z",
     "iopub.status.busy": "2022-09-13T16:34:55.646993Z",
     "iopub.status.idle": "2022-09-13T16:34:55.672991Z",
     "shell.execute_reply": "2022-09-13T16:34:55.669990Z",
     "shell.execute_reply.started": "2022-09-13T16:34:55.648997Z"
    }
   },
   "outputs": [],
   "source": [
    "# Load y-scaler model\n",
    "with open(f'../Model/standard_scaler_y.pickle', 'rb') as f:\n",
    "    scaler_y = pickle.load(f)"
   ]
  },
  {
   "cell_type": "code",
   "execution_count": 15,
   "id": "f8b17853-def2-4146-ba01-390e07ccb82f",
   "metadata": {
    "execution": {
     "iopub.execute_input": "2022-09-13T16:34:55.684991Z",
     "iopub.status.busy": "2022-09-13T16:34:55.682989Z",
     "iopub.status.idle": "2022-09-13T16:34:55.717982Z",
     "shell.execute_reply": "2022-09-13T16:34:55.716989Z",
     "shell.execute_reply.started": "2022-09-13T16:34:55.684991Z"
    },
    "tags": []
   },
   "outputs": [
    {
     "name": "stdout",
     "output_type": "stream",
     "text": [
      "sensor_point5_i_value      7.303188\n",
      "sensor_point6_i_value     27.196275\n",
      "sensor_point7_i_value     27.113154\n",
      "sensor_point8_i_value     25.253559\n",
      "sensor_point9_i_value     19.648987\n",
      "sensor_point10_i_value    16.154748\n",
      "dtype: float64\n"
     ]
    }
   ],
   "source": [
    "predictions = scaler_y.inverse_transform(all_res)\n",
    "targets = non_scaled_train_y\n",
    "print(rmse_score(predictions, targets))"
   ]
  }
 ],
 "metadata": {
  "kernelspec": {
   "display_name": "Python 3 (ipykernel)",
   "language": "python",
   "name": "python3"
  },
  "language_info": {
   "codemirror_mode": {
    "name": "ipython",
    "version": 3
   },
   "file_extension": ".py",
   "mimetype": "text/x-python",
   "name": "python",
   "nbconvert_exporter": "python",
   "pygments_lexer": "ipython3",
   "version": "3.9.12"
  }
 },
 "nbformat": 4,
 "nbformat_minor": 5
}
