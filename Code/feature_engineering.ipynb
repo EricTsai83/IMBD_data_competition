{
 "cells": [
  {
   "cell_type": "markdown",
   "id": "db58b56b-f3a8-481d-86ab-12f41f788f1f",
   "metadata": {},
   "source": [
    "# feature engineering"
   ]
  },
  {
   "cell_type": "markdown",
   "id": "c12f473f-e707-4eea-b121-734886c32bb4",
   "metadata": {},
   "source": [
    "### Generate polynomial and interaction features."
   ]
  },
  {
   "cell_type": "code",
   "execution_count": null,
   "id": "ade2830e-7433-4004-b54f-5e6b51c4fbb6",
   "metadata": {},
   "outputs": [],
   "source": [
    "from sklearn.preprocessing import PolynomialFeatures\n",
    "pf = PolynomialFeatures(degree=2, interaction_only=False,  \n",
    "                        include_bias=False)\n",
    "res = pf.fit_transform(atk_def)\n",
    "res"
   ]
  }
 ],
 "metadata": {
  "kernelspec": {
   "display_name": "Python 3 (ipykernel)",
   "language": "python",
   "name": "python3"
  },
  "language_info": {
   "codemirror_mode": {
    "name": "ipython",
    "version": 3
   },
   "file_extension": ".py",
   "mimetype": "text/x-python",
   "name": "python",
   "nbconvert_exporter": "python",
   "pygments_lexer": "ipython3",
   "version": "3.9.12"
  }
 },
 "nbformat": 4,
 "nbformat_minor": 5
}
