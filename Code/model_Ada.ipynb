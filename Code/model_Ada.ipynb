{
 "cells": [
  {
   "cell_type": "code",
   "execution_count": 1,
   "id": "923c6d7e",
   "metadata": {},
   "outputs": [],
   "source": [
    "import config\n",
    "import ast\n",
    "\n",
    "import pandas as pd\n",
    "from sklearn.pipeline import Pipeline\n",
    "import matplotlib.pyplot as plt\n",
    "import seaborn as sns\n",
    "import numpy as np\n",
    "import pickle\n",
    "import statistics\n",
    "\n",
    "from utils.pandas_dataframe import grid_display\n",
    "from sklearn.preprocessing import MinMaxScaler\n",
    "from sklearn.preprocessing import StandardScaler\n",
    "from sklearn.preprocessing import LabelEncoder, OneHotEncoder\n",
    "from itertools import permutations\n",
    "import gc\n",
    "\n",
    "# validation\n",
    "from sklearn.model_selection import train_test_split\n",
    "from sklearn.model_selection import cross_val_score\n",
    "from sklearn.model_selection import RepeatedKFold\n",
    "from sklearn.metrics import mean_squared_error\n",
    "from sklearn.metrics import r2_score\n",
    "\n",
    "# model\n",
    "from sklearn.preprocessing import PolynomialFeatures\n",
    "from sklearn.linear_model import LinearRegression\n",
    "from sklearn.linear_model import Lasso\n",
    "from sklearn.linear_model import Ridge\n",
    "import xgboost as xgb\n",
    "from sklearn.ensemble import GradientBoostingRegressor\n",
    "from sklearn.ensemble import AdaBoostRegressor\n",
    "from sklearn.neighbors import KNeighborsRegressor\n",
    "from morfist import MixedRandomForest\n",
    "\n",
    "# grid search\n",
    "from sklearn.linear_model import RidgeCV\n",
    "from sklearn.linear_model import LassoCV\n",
    "from sklearn.linear_model import MultiTaskLassoCV\n",
    "from sklearn.model_selection import GridSearchCV\n",
    "\n",
    "\n",
    "from sklearn.multioutput import RegressorChain\n",
    "from sklearn.multioutput import MultiOutputRegressor\n",
    "\n",
    "from IPython.display import display\n",
    "\n",
    "\n",
    "%matplotlib inline"
   ]
  },
  {
   "cell_type": "code",
   "execution_count": 2,
   "id": "a7ba4e7f",
   "metadata": {},
   "outputs": [],
   "source": [
    "import warnings\n",
    "warnings.filterwarnings('ignore')\n",
    "pd.set_option('display.float_format',lambda x: '%.2f' % x)\n",
    "# pd.set_option('display.max_rows', 5)\n",
    "pd.set_option('display.max_rows', None)"
   ]
  },
  {
   "cell_type": "code",
   "execution_count": 3,
   "id": "811b0ac5",
   "metadata": {},
   "outputs": [],
   "source": [
    "data = pd.read_excel('../Data/2022-train-v2.xlsx')"
   ]
  },
  {
   "cell_type": "code",
   "execution_count": 4,
   "id": "d8f6e8d1",
   "metadata": {},
   "outputs": [],
   "source": [
    "data_y = data[['sensor_point5_i_value', 'sensor_point6_i_value',\\\n",
    "               'sensor_point7_i_value', 'sensor_point8_i_value',\\\n",
    "               'sensor_point9_i_value', 'sensor_point10_i_value']]\n",
    "data_x = data.drop(['sensor_point5_i_value', 'sensor_point6_i_value',\\\n",
    "                    'sensor_point7_i_value', 'sensor_point8_i_value',\\\n",
    "                    'sensor_point9_i_value', 'sensor_point10_i_value'], axis=1)"
   ]
  },
  {
   "cell_type": "code",
   "execution_count": 5,
   "id": "2c7a377d",
   "metadata": {},
   "outputs": [],
   "source": [
    "data_x = data_x.fillna(0)"
   ]
  },
  {
   "cell_type": "code",
   "execution_count": 6,
   "id": "490f3c53",
   "metadata": {},
   "outputs": [],
   "source": [
    "# X變數標準化\n",
    "scaler = StandardScaler().fit(data_x)\n",
    "data_x_S = scaler.transform(data_x)"
   ]
  },
  {
   "cell_type": "code",
   "execution_count": 7,
   "id": "47c35fc6",
   "metadata": {},
   "outputs": [
    {
     "data": {
      "text/plain": [
       "{'learning_rate': 0.5, 'n_estimators': 50, 'random_state': 1}"
      ]
     },
     "execution_count": 7,
     "metadata": {},
     "output_type": "execute_result"
    }
   ],
   "source": [
    "config.grid_search_Ada.fit(data_x_S, data_y.loc[:,config.Y_variable])\n",
    "config.grid_search_Ada.best_params_"
   ]
  },
  {
   "cell_type": "code",
   "execution_count": 8,
   "id": "82743a14",
   "metadata": {},
   "outputs": [
    {
     "data": {
      "text/plain": [
       "array([ 65.56521739,  65.56521739,  65.56521739,  65.56521739,\n",
       "        65.56521739,  65.56521739,  65.56521739,  65.56521739,\n",
       "        65.56521739,  65.56521739,  65.56521739,  65.56521739,\n",
       "        65.56521739,  65.56521739,  79.72413793,  79.72413793,\n",
       "        79.72413793,  79.72413793,  79.72413793,  79.72413793,\n",
       "        79.72413793,  79.72413793,  79.72413793,  79.72413793,\n",
       "        79.72413793,  79.72413793,  79.72413793,  62.51724138,\n",
       "        62.51724138,  62.51724138,  62.51724138,  62.51724138,\n",
       "        62.51724138,  62.18604651,  62.18604651,  62.18604651,\n",
       "        62.18604651,  62.18604651,  62.18604651,  62.18604651,\n",
       "        62.18604651,  62.18604651,  65.28735632,  65.28735632,\n",
       "        65.28735632,  62.18604651,  62.18604651,  62.18604651,\n",
       "        62.51724138,  62.18604651,  62.18604651,  62.18604651,\n",
       "        62.18604651,  62.18604651,  62.18604651,  62.18604651,\n",
       "        62.18604651,  62.18604651,  62.18604651,  62.18604651,\n",
       "        70.97014925,  70.97014925,  70.97014925,  70.97014925,\n",
       "        70.97014925,  70.97014925,  70.97014925,  70.97014925,\n",
       "        72.69398907,  74.5       ,  74.5       ,  74.5       ,\n",
       "        74.5       ,  70.97014925,  70.97014925,  75.64705882,\n",
       "        75.64705882,  75.64705882,  75.64705882,  75.64705882,\n",
       "        70.97014925,  70.97014925,  70.97014925,  70.97014925,\n",
       "        70.97014925,  70.97014925,  70.97014925,  70.97014925,\n",
       "        86.39166667,  86.39166667,  82.33333333,  82.33333333,\n",
       "        82.33333333,  80.62142857,  80.62142857,  83.2654321 ,\n",
       "        84.03553299,  84.03553299,  81.46268657,  80.62142857,\n",
       "        80.62142857,  80.62142857,  79.72413793,  79.72413793,\n",
       "        79.72413793,  79.72413793,  79.72413793,  79.72413793,\n",
       "        80.62142857,  82.43902439,  83.2654321 ,  83.2654321 ,\n",
       "        83.2654321 ,  83.2654321 ,  83.2654321 ,  83.2654321 ,\n",
       "        83.2654321 ,  83.2654321 ,  83.2654321 ,  83.2654321 ,\n",
       "        83.2654321 ,  83.2654321 ,  83.2654321 ,  83.2654321 ,\n",
       "        83.73394495,  83.73394495,  83.73394495,  83.73394495,\n",
       "        84.03553299,  84.03553299,  84.52857143,  84.52857143,\n",
       "        82.43902439,  82.43902439,  82.43902439,  82.43902439,\n",
       "        82.43902439,  84.03553299,  84.03553299,  84.03553299,\n",
       "        83.2654321 ,  83.2654321 ,  83.2654321 ,  83.2654321 ,\n",
       "        83.2654321 ,  83.2654321 ,  83.2654321 ,  83.2654321 ,\n",
       "        83.2654321 ,  83.2654321 ,  83.2654321 ,  83.2654321 ,\n",
       "        82.60655738,  82.60655738,  82.60655738,  86.16666667,\n",
       "        86.16666667, 124.04824561, 124.04824561, 124.04824561,\n",
       "       124.04824561, 133.596875  , 133.596875  , 133.596875  ,\n",
       "       133.596875  , 133.596875  , 133.596875  , 123.46919431,\n",
       "       123.46919431, 123.46919431, 123.46919431, 123.46919431,\n",
       "       113.79245283, 115.73224044, 118.14551084, 118.14551084,\n",
       "       118.14551084, 115.73224044, 115.73224044, 115.73224044,\n",
       "       115.73224044, 115.73224044, 115.73224044, 115.73224044,\n",
       "       115.73224044, 115.73224044, 115.73224044, 115.73224044,\n",
       "       115.73224044, 115.73224044, 115.73224044, 115.73224044,\n",
       "       115.73224044, 115.73224044, 115.73224044, 115.73224044,\n",
       "       111.95945946, 113.79245283, 107.22826087, 107.22826087,\n",
       "       107.22826087, 108.82534247, 108.82534247, 117.76470588,\n",
       "       117.76470588, 117.76470588, 117.76470588, 117.76470588,\n",
       "       117.76470588, 124.        , 124.        , 123.46919431,\n",
       "       123.46919431, 123.46919431, 113.05128205, 113.05128205,\n",
       "       123.46919431, 123.46919431, 123.46919431, 124.04824561,\n",
       "       123.46919431, 123.46919431, 123.46919431, 123.46919431,\n",
       "       123.46919431, 123.46919431, 123.46919431, 123.46919431,\n",
       "        84.03553299,  84.03553299,  84.03553299,  84.03553299,\n",
       "        84.03553299,  84.03553299,  84.03553299,  84.03553299,\n",
       "        86.39166667,  86.39166667, 118.14551084, 124.04824561,\n",
       "       124.04824561, 124.04824561, 124.04824561, 124.04824561,\n",
       "       124.04824561, 124.04824561, 124.04824561, 124.04824561,\n",
       "       124.04824561, 124.04824561, 124.04824561, 124.04824561,\n",
       "       124.04824561, 124.04824561, 124.04824561, 124.04824561,\n",
       "       124.04824561, 124.04824561, 124.04824561, 124.04824561,\n",
       "       124.04824561, 124.04824561, 124.04824561, 124.04824561,\n",
       "       124.04824561, 124.04824561, 124.04824561, 124.04824561,\n",
       "       124.04824561, 124.04824561, 124.04824561, 124.04824561,\n",
       "       124.04824561, 124.04824561, 124.04824561, 124.04824561,\n",
       "       124.04824561, 124.04824561, 124.04824561, 124.04824561,\n",
       "       124.04824561, 124.04824561, 125.00840336, 125.00840336,\n",
       "       125.00840336, 125.00840336, 124.04824561, 124.04824561,\n",
       "       124.04824561, 124.04824561, 124.04824561, 124.04824561,\n",
       "       124.04824561, 124.04824561, 124.04824561, 125.00840336,\n",
       "       125.00840336, 125.00840336, 125.00840336, 125.00840336,\n",
       "       124.04824561, 124.04824561, 124.04824561, 124.04824561,\n",
       "       124.04824561, 124.04824561, 124.04824561, 124.04824561,\n",
       "       124.04824561, 124.04824561, 124.04824561, 124.04824561,\n",
       "       124.04824561, 124.04824561, 124.04824561, 124.04824561,\n",
       "       124.04824561, 123.46919431, 123.46919431, 123.46919431,\n",
       "       123.46919431, 123.46919431, 123.46919431, 123.46919431,\n",
       "       123.46919431, 123.46919431,  84.03225806,  84.03225806,\n",
       "        84.03225806,  84.03225806,  84.03225806,  84.03225806,\n",
       "        84.03225806,  84.03225806,  84.03225806,  84.03225806,\n",
       "        84.03225806,  84.03225806,  84.03225806,  84.03225806,\n",
       "        83.73394495,  83.73394495,  83.73394495,  83.73394495,\n",
       "        83.73394495,  83.73394495,  83.73394495,  86.39166667,\n",
       "        86.39166667, 102.63636364, 102.63636364, 101.6       ,\n",
       "       101.6       , 125.00840336, 124.04824561, 124.04824561,\n",
       "       125.00840336, 125.00840336, 125.47019868, 125.00840336,\n",
       "       125.47019868, 125.47019868, 125.47019868, 125.47019868,\n",
       "       125.00840336, 125.00840336, 128.23026316, 128.23026316,\n",
       "       128.23026316, 128.23026316, 128.23026316, 128.23026316,\n",
       "       128.23026316, 128.23026316, 125.47019868, 125.47019868,\n",
       "       124.04824561,  83.82352941,  83.64      ,  83.82352941,\n",
       "        83.82352941, 105.128     , 106.64814815, 101.6       ,\n",
       "        88.15053763,  86.39166667,  86.39166667,  86.39166667,\n",
       "        86.39166667,  86.08333333,  86.08333333,  86.08333333,\n",
       "        86.08333333,  86.08333333,  86.08333333,  86.08333333,\n",
       "        86.08333333,  86.08333333,  86.08333333,  86.08333333,\n",
       "        86.08333333,  86.08333333,  84.03553299,  84.03553299,\n",
       "        86.39166667,  86.39166667,  86.39166667,  86.39166667,\n",
       "        82.43902439,  82.43902439,  82.43902439,  82.43902439,\n",
       "        82.43902439,  82.43902439,  82.43902439,  82.43902439,\n",
       "        82.43902439,  82.43902439,  83.82352941,  83.64      ,\n",
       "        83.64      ,  83.82352941,  83.82352941,  83.82352941,\n",
       "        83.82352941,  83.82352941,  83.82352941,  83.82352941,\n",
       "       124.04824561, 124.04824561, 124.04824561, 124.04824561,\n",
       "       125.00840336, 128.37096774, 128.37096774, 134.34299517,\n",
       "       134.34299517, 134.34299517, 134.34299517, 134.34299517,\n",
       "       128.37096774, 115.73224044, 115.73224044, 115.73224044,\n",
       "       115.73224044, 115.73224044, 108.82534247, 108.82534247,\n",
       "       108.82534247, 108.82534247, 100.76515152, 100.76515152,\n",
       "       100.76515152,  86.39166667,  86.39166667,  86.39166667,\n",
       "        86.39166667, 100.76515152, 100.76515152, 134.34299517,\n",
       "       134.34299517,  74.5       ,  73.5       ,  73.5       ,\n",
       "        79.49655172,  79.49655172,  79.49655172,  79.49655172,\n",
       "        79.49655172,  79.49655172,  79.49655172,  63.82075472,\n",
       "        83.2654321 ,  83.2654321 ,  83.2654321 ,  83.2654321 ,\n",
       "        83.2654321 ,  83.2654321 ,  83.2654321 ,  83.2654321 ,\n",
       "        63.82075472,  63.82075472,  81.14285714,  81.14285714,\n",
       "        81.46268657,  79.72413793,  64.6       ,  64.6       ,\n",
       "        64.6       ,  79.72413793,  79.72413793,  80.62142857,\n",
       "        87.23076923,  87.23076923,  88.15053763,  89.66956522,\n",
       "        89.66956522,  86.39166667,  86.39166667,  86.08510638,\n",
       "        86.08510638,  86.08510638,  86.08510638,  86.08510638,\n",
       "        86.08510638,  86.08333333,  86.08333333,  86.08333333,\n",
       "        84.03225806,  84.03225806,  84.03225806,  84.03225806,\n",
       "        83.2654321 ,  83.2654321 ,  83.2654321 ,  83.2654321 ,\n",
       "        64.56363636,  63.82075472,  63.82075472,  63.82075472,\n",
       "        64.56363636,  64.56363636,  64.6       ,  81.46268657,\n",
       "        81.95714286,  81.95714286,  81.95714286,  81.95714286,\n",
       "        81.95714286,  81.95714286,  81.95714286,  81.95714286,\n",
       "        81.95714286,  63.82075472,  63.82075472,  63.82075472,\n",
       "        63.82075472,  63.82075472,  63.82075472,  63.82075472,\n",
       "        63.82075472,  63.82075472,  79.72413793,  65.58947368,\n",
       "        65.58947368,  95.83168317,  95.83168317,  95.83168317,\n",
       "       100.76515152, 100.76515152, 100.76515152, 100.76515152,\n",
       "       102.63636364, 102.63636364, 106.64814815, 106.64814815,\n",
       "       106.64814815, 106.64814815, 106.64814815, 106.64814815,\n",
       "        97.46511628,  97.46511628,  97.46511628,  97.46511628,\n",
       "        97.46511628,  97.46511628,  97.46511628,  97.46511628,\n",
       "        97.46511628,  97.46511628,  97.46511628,  97.46511628,\n",
       "        63.47959184,  63.47959184,  63.47959184,  63.47959184,\n",
       "        63.47959184,  63.47959184,  63.47959184,  63.47959184,\n",
       "        63.82075472,  63.82075472,  63.82075472,  63.47959184,\n",
       "        63.47959184,  63.47959184,  63.47959184,  63.47959184,\n",
       "        63.47959184,  63.82075472,  63.82075472,  63.82075472,\n",
       "        63.82075472,  63.47959184,  63.47959184,  63.47959184,\n",
       "        63.47959184,  63.47959184,  63.47959184,  63.82075472,\n",
       "        63.82075472,  63.82075472,  63.82075472,  63.82075472,\n",
       "        63.82075472,  63.82075472,  63.82075472,  79.41176471,\n",
       "        79.41176471,  79.41176471,  79.41176471,  79.41176471,\n",
       "        79.41176471,  84.03553299,  84.03553299,  84.03553299,\n",
       "        84.03553299,  84.03553299,  84.03553299,  84.03553299,\n",
       "       120.66055046, 120.66055046, 120.66055046, 120.66055046,\n",
       "       120.66055046, 120.66055046, 120.66055046, 268.        ,\n",
       "        92.37931034,  92.37931034,  92.37931034,  92.37931034,\n",
       "        92.37931034, 111.38427948, 111.38427948])"
      ]
     },
     "execution_count": 8,
     "metadata": {},
     "output_type": "execute_result"
    }
   ],
   "source": [
    "model_select = Pipeline([('poly',PolynomialFeatures(degree = 2)),\n",
    "                         ('std_scaler', StandardScaler()),\n",
    "                         ('mod', config.model_info['Ada']['Model'])  # 修改model\n",
    "                        ])\n",
    "\n",
    "model_select.fit(data_x, data_y.loc[:,config.Y_variable])\n",
    "\n",
    "y_predict = model_select.predict(data_x)\n",
    "y_predict"
   ]
  },
  {
   "cell_type": "code",
   "execution_count": 9,
   "id": "57c9202f",
   "metadata": {},
   "outputs": [
    {
     "name": "stdout",
     "output_type": "stream",
     "text": [
      "RMSE:26.8\n"
     ]
    }
   ],
   "source": [
    "k_fold_RMSE = -cross_val_score(model_select, \n",
    "                               data_x,\n",
    "                               data_y.loc[:,config.Y_variable], \n",
    "                               cv = 5, \n",
    "                               scoring = 'neg_root_mean_squared_error').mean()\n",
    "\n",
    "print('RMSE:' + str(round(k_fold_RMSE,2)))"
   ]
  },
  {
   "cell_type": "code",
   "execution_count": 13,
   "id": "fd383524",
   "metadata": {},
   "outputs": [
    {
     "data": {
      "image/png": "[encoded data removed]",
      "text/plain": [
       "<Figure size 648x288 with 2 Axes>"
      ]
     },
     "metadata": {
      "needs_background": "light"
     },
     "output_type": "display_data"
    }
   ],
   "source": [
    "y_predict_diff = data_y.loc[:,config.Y_variable] - y_predict\n",
    "\n",
    "model_result = pd.DataFrame({'y_predict_diff':y_predict_diff,\n",
    "                             'y_actual':data_y.loc[:,config.Y_variable],\n",
    "                             'y_predict':y_predict})\n",
    "# display(Y_predict_diff)\n",
    "\n",
    "# seaborn呈現結果\n",
    "fig, axes = plt.subplots(1, 2, figsize=(9, 4))\n",
    "\n",
    "# 預測值跟實際值分布狀況\n",
    "sns.regplot(x = 'y_actual', \n",
    "            y = 'y_predict',\n",
    "            data = model_result, \n",
    "            ax=axes[0])\n",
    "    \n",
    "    # 每筆資料的差異\n",
    "sns.scatterplot(x = model_result.index,\n",
    "                y = 'y_predict_diff',\n",
    "                data = model_result, \n",
    "                ax=axes[1])\n",
    "    \n",
    "    \n",
    "plt.tight_layout()"
   ]
  },
  {
   "cell_type": "code",
   "execution_count": null,
   "id": "c069f29f",
   "metadata": {},
   "outputs": [],
   "source": []
  }
 ],
 "metadata": {
  "kernelspec": {
   "display_name": "Python 3",
   "language": "python",
   "name": "python3"
  },
  "language_info": {
   "codemirror_mode": {
    "name": "ipython",
    "version": 3
   },
   "file_extension": ".py",
   "mimetype": "text/x-python",
   "name": "python",
   "nbconvert_exporter": "python",
   "pygments_lexer": "ipython3",
   "version": "3.7.10"
  }
 },
 "nbformat": 4,
 "nbformat_minor": 5
}
