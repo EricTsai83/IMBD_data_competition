{
 "cells": [
  {
   "cell_type": "markdown",
   "id": "53b88709",
   "metadata": {},
   "source": [
    "# Model Prediction\n",
    "---\n",
    "Description:\n",
    "\n",
    "This notebook shows the test processing. In the end of content, you can get two predictive result by different method.\n",
    "It depends on `model_predict_config.py` to lead the data flow.\n",
    "\n",
    "---\n",
    "## 1. Import Libraries"
   ]
  },
  {
   "cell_type": "code",
   "execution_count": 1,
   "id": "3fd226bb",
   "metadata": {
    "execution": {
     "iopub.execute_input": "2022-09-13T16:00:17.410628Z",
     "iopub.status.busy": "2022-09-13T16:00:17.408628Z",
     "iopub.status.idle": "2022-09-13T16:00:22.416671Z",
     "shell.execute_reply": "2022-09-13T16:00:22.415767Z",
     "shell.execute_reply.started": "2022-09-13T16:00:17.410628Z"
    },
    "tags": []
   },
   "outputs": [],
   "source": [
    "import pandas as pd\n",
    "import numpy as np\n",
    "import pickle\n",
    "\n",
    "import model_predict_config as mp_config\n",
    "import feature_engineering_config as fe_config\n",
    "\n",
    "# feature engineering\n",
    "from feature_engineering import DealWithMissingValue, VariableTransformation, OutlierDetection,\\\n",
    "FeatureSelection, CreateGroupFeatureFromEachCol, CreateGroupFeatureFromAllCol, GeneratePolynomialFeatures, ReduceDimensionPCA, Standardization"
   ]
  },
  {
   "cell_type": "markdown",
   "id": "7e67ac46",
   "metadata": {},
   "source": [
    "## 2. Read xlsx File"
   ]
  },
  {
   "cell_type": "code",
   "execution_count": 2,
   "id": "4eb18999",
   "metadata": {
    "execution": {
     "iopub.execute_input": "2022-09-13T16:00:22.418689Z",
     "iopub.status.busy": "2022-09-13T16:00:22.418689Z",
     "iopub.status.idle": "2022-09-13T16:00:23.362439Z",
     "shell.execute_reply": "2022-09-13T16:00:23.361454Z",
     "shell.execute_reply.started": "2022-09-13T16:00:22.418689Z"
    },
    "tags": []
   },
   "outputs": [],
   "source": [
    "test_x = pd.read_excel('../Data/2022-test-v1.xlsx')"
   ]
  },
  {
   "cell_type": "code",
   "execution_count": 3,
   "id": "c3e5a65f",
   "metadata": {
    "execution": {
     "iopub.execute_input": "2022-09-13T16:00:23.368436Z",
     "iopub.status.busy": "2022-09-13T16:00:23.366439Z",
     "iopub.status.idle": "2022-09-13T16:00:23.441437Z",
     "shell.execute_reply": "2022-09-13T16:00:23.440453Z",
     "shell.execute_reply.started": "2022-09-13T16:00:23.368436Z"
    },
    "tags": []
   },
   "outputs": [
    {
     "data": {
      "text/html": [
       "<div>\n",
       "<style scoped>\n",
       "    .dataframe tbody tr th:only-of-type {\n",
       "        vertical-align: middle;\n",
       "    }\n",
       "\n",
       "    .dataframe tbody tr th {\n",
       "        vertical-align: top;\n",
       "    }\n",
       "\n",
       "    .dataframe thead th {\n",
       "        text-align: right;\n",
       "    }\n",
       "</style>\n",
       "<table border=\"1\" class=\"dataframe\">\n",
       "  <thead>\n",
       "    <tr style=\"text-align: right;\">\n",
       "      <th></th>\n",
       "      <th>clean_temp</th>\n",
       "      <th>clean_ec</th>\n",
       "      <th>clean_ph4</th>\n",
       "      <th>clean_ph5</th>\n",
       "      <th>clean_ph7</th>\n",
       "      <th>clean_ph8</th>\n",
       "      <th>clean_pressure11</th>\n",
       "      <th>clean_pressure12</th>\n",
       "      <th>clean_pressure21</th>\n",
       "      <th>clean_pressure22</th>\n",
       "      <th>...</th>\n",
       "      <th>env_rpi14_pm1</th>\n",
       "      <th>env_rpi14_pm10</th>\n",
       "      <th>env_rpi14_pm25</th>\n",
       "      <th>env_rpi14_temp</th>\n",
       "      <th>env_rpi15_hum</th>\n",
       "      <th>env_rpi15_lux</th>\n",
       "      <th>env_rpi15_pm1</th>\n",
       "      <th>env_rpi15_pm10</th>\n",
       "      <th>env_rpi15_pm25</th>\n",
       "      <th>env_rpi15_temp</th>\n",
       "    </tr>\n",
       "  </thead>\n",
       "  <tbody>\n",
       "    <tr>\n",
       "      <th>0</th>\n",
       "      <td>41.9</td>\n",
       "      <td>12.50</td>\n",
       "      <td>NaN</td>\n",
       "      <td>NaN</td>\n",
       "      <td>NaN</td>\n",
       "      <td>7.00</td>\n",
       "      <td>820.26</td>\n",
       "      <td>1266.29</td>\n",
       "      <td>882.58</td>\n",
       "      <td>630.71</td>\n",
       "      <td>...</td>\n",
       "      <td>26.87</td>\n",
       "      <td>48.62</td>\n",
       "      <td>38.00</td>\n",
       "      <td>34.57</td>\n",
       "      <td>43.95</td>\n",
       "      <td>0.50</td>\n",
       "      <td>30.37</td>\n",
       "      <td>53.00</td>\n",
       "      <td>43.37</td>\n",
       "      <td>34.91</td>\n",
       "    </tr>\n",
       "    <tr>\n",
       "      <th>1</th>\n",
       "      <td>41.1</td>\n",
       "      <td>10.67</td>\n",
       "      <td>NaN</td>\n",
       "      <td>NaN</td>\n",
       "      <td>NaN</td>\n",
       "      <td>6.75</td>\n",
       "      <td>810.20</td>\n",
       "      <td>1266.53</td>\n",
       "      <td>885.96</td>\n",
       "      <td>630.76</td>\n",
       "      <td>...</td>\n",
       "      <td>17.71</td>\n",
       "      <td>30.14</td>\n",
       "      <td>24.42</td>\n",
       "      <td>36.16</td>\n",
       "      <td>41.48</td>\n",
       "      <td>0.42</td>\n",
       "      <td>13.71</td>\n",
       "      <td>21.42</td>\n",
       "      <td>18.14</td>\n",
       "      <td>37.81</td>\n",
       "    </tr>\n",
       "    <tr>\n",
       "      <th>2</th>\n",
       "      <td>41.1</td>\n",
       "      <td>10.67</td>\n",
       "      <td>NaN</td>\n",
       "      <td>NaN</td>\n",
       "      <td>NaN</td>\n",
       "      <td>6.75</td>\n",
       "      <td>809.84</td>\n",
       "      <td>1266.31</td>\n",
       "      <td>885.65</td>\n",
       "      <td>630.65</td>\n",
       "      <td>...</td>\n",
       "      <td>17.71</td>\n",
       "      <td>30.14</td>\n",
       "      <td>24.42</td>\n",
       "      <td>36.16</td>\n",
       "      <td>41.48</td>\n",
       "      <td>0.42</td>\n",
       "      <td>13.71</td>\n",
       "      <td>21.42</td>\n",
       "      <td>18.14</td>\n",
       "      <td>37.81</td>\n",
       "    </tr>\n",
       "    <tr>\n",
       "      <th>3</th>\n",
       "      <td>50.2</td>\n",
       "      <td>12.67</td>\n",
       "      <td>8.6</td>\n",
       "      <td>7.8</td>\n",
       "      <td>7.3</td>\n",
       "      <td>7.13</td>\n",
       "      <td>848.06</td>\n",
       "      <td>1454.10</td>\n",
       "      <td>1000.42</td>\n",
       "      <td>899.14</td>\n",
       "      <td>...</td>\n",
       "      <td>26.50</td>\n",
       "      <td>49.37</td>\n",
       "      <td>39.37</td>\n",
       "      <td>34.71</td>\n",
       "      <td>48.44</td>\n",
       "      <td>1.25</td>\n",
       "      <td>27.12</td>\n",
       "      <td>45.50</td>\n",
       "      <td>38.00</td>\n",
       "      <td>34.79</td>\n",
       "    </tr>\n",
       "    <tr>\n",
       "      <th>4</th>\n",
       "      <td>50.2</td>\n",
       "      <td>12.67</td>\n",
       "      <td>8.6</td>\n",
       "      <td>7.8</td>\n",
       "      <td>7.3</td>\n",
       "      <td>7.13</td>\n",
       "      <td>848.06</td>\n",
       "      <td>1454.10</td>\n",
       "      <td>1000.42</td>\n",
       "      <td>899.14</td>\n",
       "      <td>...</td>\n",
       "      <td>26.50</td>\n",
       "      <td>49.37</td>\n",
       "      <td>39.37</td>\n",
       "      <td>34.71</td>\n",
       "      <td>48.44</td>\n",
       "      <td>1.25</td>\n",
       "      <td>27.12</td>\n",
       "      <td>45.50</td>\n",
       "      <td>38.00</td>\n",
       "      <td>34.79</td>\n",
       "    </tr>\n",
       "  </tbody>\n",
       "</table>\n",
       "<p>5 rows × 125 columns</p>\n",
       "</div>"
      ],
      "text/plain": [
       "   clean_temp  clean_ec  clean_ph4  clean_ph5  clean_ph7  clean_ph8  \\\n",
       "0        41.9     12.50        NaN        NaN        NaN       7.00   \n",
       "1        41.1     10.67        NaN        NaN        NaN       6.75   \n",
       "2        41.1     10.67        NaN        NaN        NaN       6.75   \n",
       "3        50.2     12.67        8.6        7.8        7.3       7.13   \n",
       "4        50.2     12.67        8.6        7.8        7.3       7.13   \n",
       "\n",
       "   clean_pressure11  clean_pressure12  clean_pressure21  clean_pressure22  \\\n",
       "0            820.26           1266.29            882.58            630.71   \n",
       "1            810.20           1266.53            885.96            630.76   \n",
       "2            809.84           1266.31            885.65            630.65   \n",
       "3            848.06           1454.10           1000.42            899.14   \n",
       "4            848.06           1454.10           1000.42            899.14   \n",
       "\n",
       "   ...  env_rpi14_pm1  env_rpi14_pm10  env_rpi14_pm25  env_rpi14_temp  \\\n",
       "0  ...          26.87           48.62           38.00           34.57   \n",
       "1  ...          17.71           30.14           24.42           36.16   \n",
       "2  ...          17.71           30.14           24.42           36.16   \n",
       "3  ...          26.50           49.37           39.37           34.71   \n",
       "4  ...          26.50           49.37           39.37           34.71   \n",
       "\n",
       "   env_rpi15_hum  env_rpi15_lux  env_rpi15_pm1  env_rpi15_pm10  \\\n",
       "0          43.95           0.50          30.37           53.00   \n",
       "1          41.48           0.42          13.71           21.42   \n",
       "2          41.48           0.42          13.71           21.42   \n",
       "3          48.44           1.25          27.12           45.50   \n",
       "4          48.44           1.25          27.12           45.50   \n",
       "\n",
       "   env_rpi15_pm25  env_rpi15_temp  \n",
       "0           43.37           34.91  \n",
       "1           18.14           37.81  \n",
       "2           18.14           37.81  \n",
       "3           38.00           34.79  \n",
       "4           38.00           34.79  \n",
       "\n",
       "[5 rows x 125 columns]"
      ]
     },
     "execution_count": 3,
     "metadata": {},
     "output_type": "execute_result"
    }
   ],
   "source": [
    "test_x.head()"
   ]
  },
  {
   "cell_type": "code",
   "execution_count": 4,
   "id": "dd026ac8",
   "metadata": {
    "execution": {
     "iopub.execute_input": "2022-09-13T16:00:23.444438Z",
     "iopub.status.busy": "2022-09-13T16:00:23.443436Z",
     "iopub.status.idle": "2022-09-13T16:00:23.457433Z",
     "shell.execute_reply": "2022-09-13T16:00:23.456435Z",
     "shell.execute_reply.started": "2022-09-13T16:00:23.444438Z"
    },
    "tags": []
   },
   "outputs": [
    {
     "data": {
      "text/plain": [
       "(100, 125)"
      ]
     },
     "execution_count": 4,
     "metadata": {},
     "output_type": "execute_result"
    }
   ],
   "source": [
    "test_x.shape"
   ]
  },
  {
   "cell_type": "markdown",
   "id": "879b5ead",
   "metadata": {},
   "source": [
    "## 3. Pipeline"
   ]
  },
  {
   "cell_type": "code",
   "execution_count": 5,
   "id": "b0139a8e",
   "metadata": {
    "execution": {
     "iopub.execute_input": "2022-09-13T16:00:23.460433Z",
     "iopub.status.busy": "2022-09-13T16:00:23.459433Z",
     "iopub.status.idle": "2022-09-13T16:00:23.473429Z",
     "shell.execute_reply": "2022-09-13T16:00:23.472486Z",
     "shell.execute_reply.started": "2022-09-13T16:00:23.460433Z"
    }
   },
   "outputs": [],
   "source": [
    "train_process = mp_config.train_process\n",
    "random_state = mp_config.random_state"
   ]
  },
  {
   "cell_type": "code",
   "execution_count": 6,
   "id": "df91c19f",
   "metadata": {
    "execution": {
     "iopub.execute_input": "2022-09-13T16:00:23.475431Z",
     "iopub.status.busy": "2022-09-13T16:00:23.475431Z",
     "iopub.status.idle": "2022-09-13T16:00:26.525120Z",
     "shell.execute_reply": "2022-09-13T16:00:26.524120Z",
     "shell.execute_reply.started": "2022-09-13T16:00:23.475431Z"
    },
    "tags": []
   },
   "outputs": [],
   "source": [
    "# define nan\n",
    "if mp_config.replace_zero_to_nan:\n",
    "    test_x = test_x.replace({0: np.nan})\n",
    "\n",
    "# missing values\n",
    "if mp_config.deal_with_missing_value == 'drop_na':\n",
    "    test_x = DealWithMissingValue(test_x).drop_na()\n",
    "elif mp_config.deal_with_missing_value == 'imputation':\n",
    "    test_x = DealWithMissingValue(test_x).imputation(strategy='most_frequent', train=train_process)\n",
    "elif mp_config.deal_with_missing_value == 'k_neighbors_regressor':\n",
    "    test_x = DealWithMissingValue(test_x).iterative_imputer(method='k_neighbors_regressor', train=train_process)\n",
    "else:\n",
    "    pass\n",
    "\n",
    "\n",
    "# variable transformation\n",
    "with open(f'../Model/variable_transformation.pickle', 'rb') as f:\n",
    "    large_skew_bool = pickle.load(f)\n",
    "\n",
    "for col in test_x._get_numeric_data().columns[large_skew_bool]:\n",
    "    test_x[col] = VariableTransformation(test_x, col=col).transform(method=mp_config.variable_transformation, train=train_process)\n",
    "\n",
    "    \n",
    "    \n",
    "    \n",
    "# create group feature  \n",
    "test_x['group'] = CreateGroupFeatureFromAllCol(test_x).kmeans_with_auto_k(\n",
    "    standardization=mp_config.kmeans_standardization,\n",
    "    k_range=mp_config.kmeans_k_range,\n",
    "    random_state=random_state,\n",
    "    parallel=True,\n",
    "    parallel_verbose=0,\n",
    "    train=train_process\n",
    ").astype(str)\n",
    "\n",
    "\n",
    "# convert each numeric data to category data\n",
    "for col in test_x.columns:\n",
    "    if col == 'group':\n",
    "        pass\n",
    "    else:\n",
    "        test_x[col+'_group'] = CreateGroupFeatureFromEachCol(test_x[[col]]).kmeans_with_auto_k(\n",
    "            standardization=mp_config.kmeans_standardization,\n",
    "            k_range=mp_config.kmeans_k_range,\n",
    "            random_state=random_state,\n",
    "            parallel=True,\n",
    "            parallel_verbose=0,\n",
    "            train=train_process\n",
    "        ).astype(str)\n",
    "        \n",
    "        \n",
    "# generate polynomial and interaction features\n",
    "if mp_config.generate_polynomial_features:\n",
    "    test_x = GeneratePolynomialFeatures(test_x).get_dataframe(\n",
    "        degree=mp_config.pf_degree,\n",
    "        interaction_only=mp_config.pf_interaction_only,\n",
    "        train=train_process\n",
    "    )\n",
    "    \n",
    "if mp_config.reduce_dimension:\n",
    "    test_x = ReduceDimensionPCA(test_x).pca(n_components=0.99, train=train_process)\n",
    "    \n",
    "    \n",
    "if mp_config.standardization == 'standard_scaler':\n",
    "    test_x = Standardization(test_x, prefix='x').standard_scaler(train=train_process)\n",
    "elif mp_config.standardization == 'min_max_scaler':\n",
    "    test_x = Standardization(test_x, prefix='x').min_max_scaler(train=train_process)\n",
    "\n",
    "\n",
    "    \n",
    "# Feature Selection\n",
    "test_x = test_x[mp_config.feature_select]"
   ]
  },
  {
   "cell_type": "code",
   "execution_count": 7,
   "id": "be70bf9b",
   "metadata": {
    "execution": {
     "iopub.execute_input": "2022-09-13T16:00:26.528120Z",
     "iopub.status.busy": "2022-09-13T16:00:26.528120Z",
     "iopub.status.idle": "2022-09-13T16:00:26.589111Z",
     "shell.execute_reply": "2022-09-13T16:00:26.586112Z",
     "shell.execute_reply.started": "2022-09-13T16:00:26.528120Z"
    },
    "tags": []
   },
   "outputs": [
    {
     "data": {
      "text/html": [
       "<div>\n",
       "<style scoped>\n",
       "    .dataframe tbody tr th:only-of-type {\n",
       "        vertical-align: middle;\n",
       "    }\n",
       "\n",
       "    .dataframe tbody tr th {\n",
       "        vertical-align: top;\n",
       "    }\n",
       "\n",
       "    .dataframe thead th {\n",
       "        text-align: right;\n",
       "    }\n",
       "</style>\n",
       "<table border=\"1\" class=\"dataframe\">\n",
       "  <thead>\n",
       "    <tr style=\"text-align: right;\">\n",
       "      <th></th>\n",
       "      <th>clean_pressure31</th>\n",
       "      <th>clean_pressure33</th>\n",
       "      <th>clean_pressure41</th>\n",
       "      <th>clean_pressure51</th>\n",
       "      <th>clean_pressure52</th>\n",
       "      <th>clean_pressure61</th>\n",
       "      <th>clean_pressure71</th>\n",
       "      <th>clean_pressure72</th>\n",
       "      <th>clean_pressure81</th>\n",
       "      <th>clean_pressure91</th>\n",
       "      <th>...</th>\n",
       "      <th>clean_pressure82_group</th>\n",
       "      <th>oven_pb1_group</th>\n",
       "      <th>oven_pb2_group</th>\n",
       "      <th>oven_a1_group</th>\n",
       "      <th>oven_b1_group</th>\n",
       "      <th>oven_b3_group</th>\n",
       "      <th>painting_g3_act_hvv_group</th>\n",
       "      <th>painting_g8_act_f_air_group</th>\n",
       "      <th>painting_g9_act_hvc_group</th>\n",
       "      <th>env_rpi05_temp_group</th>\n",
       "    </tr>\n",
       "  </thead>\n",
       "  <tbody>\n",
       "    <tr>\n",
       "      <th>0</th>\n",
       "      <td>-0.868736</td>\n",
       "      <td>-2.332674</td>\n",
       "      <td>2.327716</td>\n",
       "      <td>2.007752</td>\n",
       "      <td>-2.977568</td>\n",
       "      <td>1.903804</td>\n",
       "      <td>0.292734</td>\n",
       "      <td>2.852519</td>\n",
       "      <td>1.715746</td>\n",
       "      <td>-0.553109</td>\n",
       "      <td>...</td>\n",
       "      <td>4</td>\n",
       "      <td>4</td>\n",
       "      <td>4</td>\n",
       "      <td>4</td>\n",
       "      <td>4</td>\n",
       "      <td>4</td>\n",
       "      <td>4</td>\n",
       "      <td>4</td>\n",
       "      <td>4</td>\n",
       "      <td>4</td>\n",
       "    </tr>\n",
       "    <tr>\n",
       "      <th>1</th>\n",
       "      <td>-3.141820</td>\n",
       "      <td>-2.342185</td>\n",
       "      <td>2.327716</td>\n",
       "      <td>1.153487</td>\n",
       "      <td>-2.969933</td>\n",
       "      <td>0.710510</td>\n",
       "      <td>-0.118546</td>\n",
       "      <td>2.708596</td>\n",
       "      <td>1.456228</td>\n",
       "      <td>-1.027601</td>\n",
       "      <td>...</td>\n",
       "      <td>4</td>\n",
       "      <td>4</td>\n",
       "      <td>4</td>\n",
       "      <td>4</td>\n",
       "      <td>4</td>\n",
       "      <td>4</td>\n",
       "      <td>4</td>\n",
       "      <td>4</td>\n",
       "      <td>4</td>\n",
       "      <td>4</td>\n",
       "    </tr>\n",
       "    <tr>\n",
       "      <th>2</th>\n",
       "      <td>-3.175087</td>\n",
       "      <td>-2.341928</td>\n",
       "      <td>2.327716</td>\n",
       "      <td>1.076818</td>\n",
       "      <td>-2.971485</td>\n",
       "      <td>0.710510</td>\n",
       "      <td>-0.117792</td>\n",
       "      <td>2.708596</td>\n",
       "      <td>1.478729</td>\n",
       "      <td>-1.053326</td>\n",
       "      <td>...</td>\n",
       "      <td>4</td>\n",
       "      <td>4</td>\n",
       "      <td>4</td>\n",
       "      <td>4</td>\n",
       "      <td>4</td>\n",
       "      <td>4</td>\n",
       "      <td>4</td>\n",
       "      <td>4</td>\n",
       "      <td>4</td>\n",
       "      <td>4</td>\n",
       "    </tr>\n",
       "    <tr>\n",
       "      <th>3</th>\n",
       "      <td>-0.610754</td>\n",
       "      <td>0.167955</td>\n",
       "      <td>2.327716</td>\n",
       "      <td>0.701092</td>\n",
       "      <td>1.355382</td>\n",
       "      <td>1.924557</td>\n",
       "      <td>-0.958072</td>\n",
       "      <td>1.125443</td>\n",
       "      <td>1.395245</td>\n",
       "      <td>-0.496310</td>\n",
       "      <td>...</td>\n",
       "      <td>4</td>\n",
       "      <td>4</td>\n",
       "      <td>4</td>\n",
       "      <td>4</td>\n",
       "      <td>4</td>\n",
       "      <td>4</td>\n",
       "      <td>4</td>\n",
       "      <td>4</td>\n",
       "      <td>4</td>\n",
       "      <td>4</td>\n",
       "    </tr>\n",
       "    <tr>\n",
       "      <th>4</th>\n",
       "      <td>-0.610754</td>\n",
       "      <td>0.167955</td>\n",
       "      <td>2.327716</td>\n",
       "      <td>0.701092</td>\n",
       "      <td>1.355382</td>\n",
       "      <td>1.924557</td>\n",
       "      <td>-0.958072</td>\n",
       "      <td>1.125443</td>\n",
       "      <td>1.395245</td>\n",
       "      <td>-0.496310</td>\n",
       "      <td>...</td>\n",
       "      <td>4</td>\n",
       "      <td>4</td>\n",
       "      <td>4</td>\n",
       "      <td>4</td>\n",
       "      <td>4</td>\n",
       "      <td>4</td>\n",
       "      <td>4</td>\n",
       "      <td>4</td>\n",
       "      <td>4</td>\n",
       "      <td>4</td>\n",
       "    </tr>\n",
       "  </tbody>\n",
       "</table>\n",
       "<p>5 rows × 60 columns</p>\n",
       "</div>"
      ],
      "text/plain": [
       "   clean_pressure31  clean_pressure33  clean_pressure41  clean_pressure51  \\\n",
       "0         -0.868736         -2.332674          2.327716          2.007752   \n",
       "1         -3.141820         -2.342185          2.327716          1.153487   \n",
       "2         -3.175087         -2.341928          2.327716          1.076818   \n",
       "3         -0.610754          0.167955          2.327716          0.701092   \n",
       "4         -0.610754          0.167955          2.327716          0.701092   \n",
       "\n",
       "   clean_pressure52  clean_pressure61  clean_pressure71  clean_pressure72  \\\n",
       "0         -2.977568          1.903804          0.292734          2.852519   \n",
       "1         -2.969933          0.710510         -0.118546          2.708596   \n",
       "2         -2.971485          0.710510         -0.117792          2.708596   \n",
       "3          1.355382          1.924557         -0.958072          1.125443   \n",
       "4          1.355382          1.924557         -0.958072          1.125443   \n",
       "\n",
       "   clean_pressure81  clean_pressure91  ...  clean_pressure82_group  \\\n",
       "0          1.715746         -0.553109  ...                       4   \n",
       "1          1.456228         -1.027601  ...                       4   \n",
       "2          1.478729         -1.053326  ...                       4   \n",
       "3          1.395245         -0.496310  ...                       4   \n",
       "4          1.395245         -0.496310  ...                       4   \n",
       "\n",
       "   oven_pb1_group  oven_pb2_group  oven_a1_group  oven_b1_group  \\\n",
       "0               4               4              4              4   \n",
       "1               4               4              4              4   \n",
       "2               4               4              4              4   \n",
       "3               4               4              4              4   \n",
       "4               4               4              4              4   \n",
       "\n",
       "   oven_b3_group  painting_g3_act_hvv_group  painting_g8_act_f_air_group  \\\n",
       "0              4                          4                            4   \n",
       "1              4                          4                            4   \n",
       "2              4                          4                            4   \n",
       "3              4                          4                            4   \n",
       "4              4                          4                            4   \n",
       "\n",
       "   painting_g9_act_hvc_group  env_rpi05_temp_group  \n",
       "0                          4                     4  \n",
       "1                          4                     4  \n",
       "2                          4                     4  \n",
       "3                          4                     4  \n",
       "4                          4                     4  \n",
       "\n",
       "[5 rows x 60 columns]"
      ]
     },
     "execution_count": 7,
     "metadata": {},
     "output_type": "execute_result"
    }
   ],
   "source": [
    "test_x.head()"
   ]
  },
  {
   "cell_type": "markdown",
   "id": "ea5766bc",
   "metadata": {},
   "source": [
    "## 4. Save test data after feature engineering"
   ]
  },
  {
   "cell_type": "code",
   "execution_count": 8,
   "id": "f1f391e3",
   "metadata": {
    "execution": {
     "iopub.execute_input": "2022-09-13T16:00:26.596111Z",
     "iopub.status.busy": "2022-09-13T16:00:26.595111Z",
     "iopub.status.idle": "2022-09-13T16:00:26.618108Z",
     "shell.execute_reply": "2022-09-13T16:00:26.617107Z",
     "shell.execute_reply.started": "2022-09-13T16:00:26.596111Z"
    },
    "tags": []
   },
   "outputs": [],
   "source": [
    "with open(f'../Data/meta/test_x_after_feature_engineering.pickle', 'wb' ) as f:\n",
    "    pickle.dump(test_x, f)"
   ]
  },
  {
   "cell_type": "markdown",
   "id": "8cab32bd",
   "metadata": {},
   "source": [
    "## 5. Muti-output Model and Single Output Model"
   ]
  },
  {
   "cell_type": "markdown",
   "id": "c8817b3e",
   "metadata": {},
   "source": [
    "* Muti-output Model"
   ]
  },
  {
   "cell_type": "code",
   "execution_count": 10,
   "id": "fec02356",
   "metadata": {
    "execution": {
     "iopub.execute_input": "2022-09-13T16:01:44.496611Z",
     "iopub.status.busy": "2022-09-13T16:01:44.496611Z",
     "iopub.status.idle": "2022-09-13T16:01:44.768598Z",
     "shell.execute_reply": "2022-09-13T16:01:44.767606Z",
     "shell.execute_reply.started": "2022-09-13T16:01:44.496611Z"
    },
    "tags": []
   },
   "outputs": [],
   "source": [
    "with open(f'../Model/catboost_all_20220913235830.pickle', 'rb') as f:\n",
    "    muti_output_model = pickle.load(f)"
   ]
  },
  {
   "cell_type": "markdown",
   "id": "48c9db67",
   "metadata": {},
   "source": [
    "* Single output Model"
   ]
  },
  {
   "cell_type": "code",
   "execution_count": 11,
   "id": "1ef7a482",
   "metadata": {
    "execution": {
     "iopub.execute_input": "2022-09-13T16:01:45.805562Z",
     "iopub.status.busy": "2022-09-13T16:01:45.805562Z",
     "iopub.status.idle": "2022-09-13T16:01:45.830557Z",
     "shell.execute_reply": "2022-09-13T16:01:45.829580Z",
     "shell.execute_reply.started": "2022-09-13T16:01:45.805562Z"
    },
    "tags": []
   },
   "outputs": [],
   "source": [
    "with open(f'../Model/catboost_single_20220913235830.pickle', 'rb' ) as f:\n",
    "    single_output_model_dic = pickle.load(f)"
   ]
  },
  {
   "cell_type": "markdown",
   "id": "5aa61c98",
   "metadata": {},
   "source": [
    "## 6. Load y Scaler Model"
   ]
  },
  {
   "cell_type": "code",
   "execution_count": 12,
   "id": "e16fb6ce",
   "metadata": {
    "execution": {
     "iopub.execute_input": "2022-09-13T16:01:47.593619Z",
     "iopub.status.busy": "2022-09-13T16:01:47.593619Z",
     "iopub.status.idle": "2022-09-13T16:01:47.601618Z",
     "shell.execute_reply": "2022-09-13T16:01:47.600618Z",
     "shell.execute_reply.started": "2022-09-13T16:01:47.593619Z"
    },
    "tags": []
   },
   "outputs": [],
   "source": [
    "with open(f'../Model/standard_scaler_y.pickle', 'rb') as f:\n",
    "    scaler_y = pickle.load(f)"
   ]
  },
  {
   "cell_type": "markdown",
   "id": "8daf70ee",
   "metadata": {},
   "source": [
    "## 7. Prediction"
   ]
  },
  {
   "cell_type": "markdown",
   "id": "72fa5595",
   "metadata": {},
   "source": [
    "* Muti-output Model"
   ]
  },
  {
   "cell_type": "code",
   "execution_count": 13,
   "id": "b2e95e5e",
   "metadata": {
    "execution": {
     "iopub.execute_input": "2022-09-13T16:01:48.491618Z",
     "iopub.status.busy": "2022-09-13T16:01:48.491618Z",
     "iopub.status.idle": "2022-09-13T16:01:48.507616Z",
     "shell.execute_reply": "2022-09-13T16:01:48.505615Z",
     "shell.execute_reply.started": "2022-09-13T16:01:48.491618Z"
    },
    "tags": []
   },
   "outputs": [],
   "source": [
    "prediction_muti = scaler_y.inverse_transform( muti_output_model.predict(test_x) )"
   ]
  },
  {
   "cell_type": "markdown",
   "id": "5153d78d",
   "metadata": {},
   "source": [
    "* Single output Model"
   ]
  },
  {
   "cell_type": "code",
   "execution_count": 14,
   "id": "6e11da26",
   "metadata": {
    "execution": {
     "iopub.execute_input": "2022-09-13T16:01:48.976222Z",
     "iopub.status.busy": "2022-09-13T16:01:48.975223Z",
     "iopub.status.idle": "2022-09-13T16:01:49.005216Z",
     "shell.execute_reply": "2022-09-13T16:01:49.004239Z",
     "shell.execute_reply.started": "2022-09-13T16:01:48.976222Z"
    },
    "tags": []
   },
   "outputs": [],
   "source": [
    "with open(f'../Model/target_col_list.pickle', 'rb') as f:\n",
    "    test_y_col = pickle.load(f)"
   ]
  },
  {
   "cell_type": "code",
   "execution_count": 15,
   "id": "1b6969de",
   "metadata": {
    "execution": {
     "iopub.execute_input": "2022-09-13T16:01:49.155974Z",
     "iopub.status.busy": "2022-09-13T16:01:49.155974Z",
     "iopub.status.idle": "2022-09-13T16:01:49.194965Z",
     "shell.execute_reply": "2022-09-13T16:01:49.193967Z",
     "shell.execute_reply.started": "2022-09-13T16:01:49.155974Z"
    },
    "tags": []
   },
   "outputs": [],
   "source": [
    "array_li= [single_output_model_dic[col_y]['model'].predict(test_x).reshape(-1,1) for col_y in test_y_col]\n",
    "all_res = np.concatenate(array_li, axis=1)"
   ]
  },
  {
   "cell_type": "code",
   "execution_count": 16,
   "id": "13a2abbb",
   "metadata": {
    "execution": {
     "iopub.execute_input": "2022-09-13T16:01:49.337621Z",
     "iopub.status.busy": "2022-09-13T16:01:49.336621Z",
     "iopub.status.idle": "2022-09-13T16:01:49.352616Z",
     "shell.execute_reply": "2022-09-13T16:01:49.351638Z",
     "shell.execute_reply.started": "2022-09-13T16:01:49.337621Z"
    },
    "tags": []
   },
   "outputs": [],
   "source": [
    "prediction_single = scaler_y.inverse_transform(all_res)"
   ]
  },
  {
   "cell_type": "markdown",
   "id": "268f6b5b-93ad-4b61-8009-d17a117a2c49",
   "metadata": {},
   "source": [
    "## Stack of estimators with a final regressor."
   ]
  },
  {
   "cell_type": "code",
   "execution_count": null,
   "id": "36e16054",
   "metadata": {},
   "outputs": [],
   "source": [
    "muti_output_model"
   ]
  },
  {
   "cell_type": "code",
   "execution_count": null,
   "id": "bc312e0d-edb1-496b-a659-9794c12a507b",
   "metadata": {},
   "outputs": [],
   "source": []
  }
 ],
 "metadata": {
  "kernelspec": {
   "display_name": "Python 3 (ipykernel)",
   "language": "python",
   "name": "python3"
  },
  "language_info": {
   "codemirror_mode": {
    "name": "ipython",
    "version": 3
   },
   "file_extension": ".py",
   "mimetype": "text/x-python",
   "name": "python",
   "nbconvert_exporter": "python",
   "pygments_lexer": "ipython3",
   "version": "3.9.12"
  }
 },
 "nbformat": 4,
 "nbformat_minor": 5
}
