{
 "cells": [
  {
   "cell_type": "markdown",
   "id": "00d1bfb7",
   "metadata": {},
   "source": [
    "## Import Libraries"
   ]
  },
  {
   "cell_type": "code",
   "execution_count": 1,
   "id": "94616485",
   "metadata": {
    "tags": []
   },
   "outputs": [],
   "source": [
    "from sklearn.datasets import load_diabetes\n",
    "from sklearn.linear_model import RidgeCV\n",
    "from sklearn.svm import LinearSVR\n",
    "from sklearn.ensemble import RandomForestRegressor\n",
    "from xgboost import XGBRegressor\n",
    "from sklearn.ensemble import StackingRegressor\n",
    "from sklearn.linear_model import LinearRegression\n",
    "from utils.metric_utils import rmse_score\n",
    "import pandas as pd\n",
    "import numpy as np\n",
    "import pickle"
   ]
  },
  {
   "cell_type": "markdown",
   "id": "c8f077de",
   "metadata": {},
   "source": [
    "## Load Input Data"
   ]
  },
  {
   "cell_type": "code",
   "execution_count": 2,
   "id": "5150256b",
   "metadata": {
    "tags": []
   },
   "outputs": [],
   "source": [
    "with open(f'../Data/meta/catboost_single_predict_train_y.pickle', 'rb') as f:\n",
    "    catboost_single_predict_train_y = pickle.load(f)"
   ]
  },
  {
   "cell_type": "code",
   "execution_count": 3,
   "id": "9fe61528",
   "metadata": {
    "tags": []
   },
   "outputs": [],
   "source": [
    "with open(f'../Data/meta/catboost_all_predict_train_y.pickle', 'rb') as f:\n",
    "    catboost_all_predict_train_y = pickle.load(f)"
   ]
  },
  {
   "cell_type": "code",
   "execution_count": 4,
   "id": "26d1258a",
   "metadata": {},
   "outputs": [
    {
     "data": {
      "text/html": [
       "<div>\n",
       "<style scoped>\n",
       "    .dataframe tbody tr th:only-of-type {\n",
       "        vertical-align: middle;\n",
       "    }\n",
       "\n",
       "    .dataframe tbody tr th {\n",
       "        vertical-align: top;\n",
       "    }\n",
       "\n",
       "    .dataframe thead th {\n",
       "        text-align: right;\n",
       "    }\n",
       "</style>\n",
       "<table border=\"1\" class=\"dataframe\">\n",
       "  <thead>\n",
       "    <tr style=\"text-align: right;\">\n",
       "      <th></th>\n",
       "      <th>sensor_point5_i_value</th>\n",
       "      <th>sensor_point6_i_value</th>\n",
       "      <th>sensor_point7_i_value</th>\n",
       "      <th>sensor_point8_i_value</th>\n",
       "      <th>sensor_point9_i_value</th>\n",
       "      <th>sensor_point10_i_value</th>\n",
       "    </tr>\n",
       "  </thead>\n",
       "  <tbody>\n",
       "    <tr>\n",
       "      <th>0</th>\n",
       "      <td>-2.473838</td>\n",
       "      <td>-1.354527</td>\n",
       "      <td>-1.377475</td>\n",
       "      <td>-1.665377</td>\n",
       "      <td>-1.168665</td>\n",
       "      <td>-2.243439</td>\n",
       "    </tr>\n",
       "    <tr>\n",
       "      <th>1</th>\n",
       "      <td>-2.683915</td>\n",
       "      <td>-1.163297</td>\n",
       "      <td>-1.473901</td>\n",
       "      <td>-1.710264</td>\n",
       "      <td>-1.063420</td>\n",
       "      <td>-2.377334</td>\n",
       "    </tr>\n",
       "    <tr>\n",
       "      <th>2</th>\n",
       "      <td>-2.683915</td>\n",
       "      <td>-1.163297</td>\n",
       "      <td>-1.473901</td>\n",
       "      <td>-1.710264</td>\n",
       "      <td>-1.063420</td>\n",
       "      <td>-2.377334</td>\n",
       "    </tr>\n",
       "  </tbody>\n",
       "</table>\n",
       "</div>"
      ],
      "text/plain": [
       "   sensor_point5_i_value  sensor_point6_i_value  sensor_point7_i_value  \\\n",
       "0              -2.473838              -1.354527              -1.377475   \n",
       "1              -2.683915              -1.163297              -1.473901   \n",
       "2              -2.683915              -1.163297              -1.473901   \n",
       "\n",
       "   sensor_point8_i_value  sensor_point9_i_value  sensor_point10_i_value  \n",
       "0              -1.665377              -1.168665               -2.243439  \n",
       "1              -1.710264              -1.063420               -2.377334  \n",
       "2              -1.710264              -1.063420               -2.377334  "
      ]
     },
     "execution_count": 4,
     "metadata": {},
     "output_type": "execute_result"
    }
   ],
   "source": [
    "catboost_single_predict_train_y.head(3)"
   ]
  },
  {
   "cell_type": "code",
   "execution_count": 5,
   "id": "f557bbb6",
   "metadata": {},
   "outputs": [
    {
     "data": {
      "text/html": [
       "<div>\n",
       "<style scoped>\n",
       "    .dataframe tbody tr th:only-of-type {\n",
       "        vertical-align: middle;\n",
       "    }\n",
       "\n",
       "    .dataframe tbody tr th {\n",
       "        vertical-align: top;\n",
       "    }\n",
       "\n",
       "    .dataframe thead th {\n",
       "        text-align: right;\n",
       "    }\n",
       "</style>\n",
       "<table border=\"1\" class=\"dataframe\">\n",
       "  <thead>\n",
       "    <tr style=\"text-align: right;\">\n",
       "      <th></th>\n",
       "      <th>sensor_point5_i_value</th>\n",
       "      <th>sensor_point6_i_value</th>\n",
       "      <th>sensor_point7_i_value</th>\n",
       "      <th>sensor_point8_i_value</th>\n",
       "      <th>sensor_point9_i_value</th>\n",
       "      <th>sensor_point10_i_value</th>\n",
       "    </tr>\n",
       "  </thead>\n",
       "  <tbody>\n",
       "    <tr>\n",
       "      <th>0</th>\n",
       "      <td>-2.511625</td>\n",
       "      <td>-1.118764</td>\n",
       "      <td>-1.543356</td>\n",
       "      <td>-1.616733</td>\n",
       "      <td>-1.122452</td>\n",
       "      <td>-2.400809</td>\n",
       "    </tr>\n",
       "    <tr>\n",
       "      <th>1</th>\n",
       "      <td>-2.697706</td>\n",
       "      <td>-1.067591</td>\n",
       "      <td>-1.606706</td>\n",
       "      <td>-1.611239</td>\n",
       "      <td>-1.127114</td>\n",
       "      <td>-2.479767</td>\n",
       "    </tr>\n",
       "    <tr>\n",
       "      <th>2</th>\n",
       "      <td>-2.697706</td>\n",
       "      <td>-1.067591</td>\n",
       "      <td>-1.606706</td>\n",
       "      <td>-1.611239</td>\n",
       "      <td>-1.127114</td>\n",
       "      <td>-2.479767</td>\n",
       "    </tr>\n",
       "  </tbody>\n",
       "</table>\n",
       "</div>"
      ],
      "text/plain": [
       "   sensor_point5_i_value  sensor_point6_i_value  sensor_point7_i_value  \\\n",
       "0              -2.511625              -1.118764              -1.543356   \n",
       "1              -2.697706              -1.067591              -1.606706   \n",
       "2              -2.697706              -1.067591              -1.606706   \n",
       "\n",
       "   sensor_point8_i_value  sensor_point9_i_value  sensor_point10_i_value  \n",
       "0              -1.616733              -1.122452               -2.400809  \n",
       "1              -1.611239              -1.127114               -2.479767  \n",
       "2              -1.611239              -1.127114               -2.479767  "
      ]
     },
     "execution_count": 5,
     "metadata": {},
     "output_type": "execute_result"
    }
   ],
   "source": [
    "catboost_all_predict_train_y.head(3)"
   ]
  },
  {
   "cell_type": "markdown",
   "id": "b343f6a9",
   "metadata": {},
   "source": [
    "## Load ground true data"
   ]
  },
  {
   "cell_type": "code",
   "execution_count": 6,
   "id": "81f8c184",
   "metadata": {
    "tags": []
   },
   "outputs": [],
   "source": [
    "with open(f'../Data/meta/train_y_after_feature_engineering.pickle', 'rb') as f:\n",
    "    train_y_after_fe = pickle.load(f)"
   ]
  },
  {
   "cell_type": "code",
   "execution_count": 7,
   "id": "0d309860",
   "metadata": {
    "tags": []
   },
   "outputs": [],
   "source": [
    "# You need to use original values of target variable to evaluate RMSE\n",
    "with open(f'../Data/meta/non_scaled_train_y_after_feature_engineering.pickle', 'rb') as f:\n",
    "    non_scaled_train_y = pickle.load(f)"
   ]
  },
  {
   "cell_type": "markdown",
   "id": "c916e0b6",
   "metadata": {},
   "source": [
    "## Stacking"
   ]
  },
  {
   "cell_type": "code",
   "execution_count": 8,
   "id": "71dc2786",
   "metadata": {},
   "outputs": [],
   "source": [
    "with open(f'../Model/target_col_list.pickle', 'rb' ) as f:\n",
    "    col_y_li = pickle.load(f)"
   ]
  },
  {
   "cell_type": "code",
   "execution_count": 9,
   "id": "2a7dd7ef",
   "metadata": {},
   "outputs": [],
   "source": [
    "data_dic = {}\n",
    "for col in col_y_li:\n",
    "    data_dic[col] = pd.concat([catboost_single_predict_train_y[col], catboost_all_predict_train_y[col]], axis=1)"
   ]
  },
  {
   "cell_type": "code",
   "execution_count": 10,
   "id": "d7346285",
   "metadata": {},
   "outputs": [],
   "source": [
    "model_dic = {}\n",
    "for col in col_y_li:\n",
    "    lr_model = LinearRegression()\n",
    "    lr_model.fit(data_dic[col], train_y_after_fe[col])\n",
    "    model_dic[col] = lr_model"
   ]
  },
  {
   "cell_type": "code",
   "execution_count": 11,
   "id": "0cad0feb",
   "metadata": {},
   "outputs": [],
   "source": [
    "with open(f'../Model/stacking_model_dic.pickle', 'wb' ) as f:\n",
    "    pickle.dump(model_dic, f)"
   ]
  },
  {
   "cell_type": "code",
   "execution_count": 12,
   "id": "063445d5",
   "metadata": {},
   "outputs": [],
   "source": [
    "array_li= [ model_dic[col].predict(data_dic[col]).reshape(-1,1) for col in col_y_li ]\n",
    "all_res = np.concatenate(array_li, axis=1)"
   ]
  },
  {
   "cell_type": "code",
   "execution_count": 13,
   "id": "e176cd62",
   "metadata": {},
   "outputs": [],
   "source": [
    "# Load y-scaler model\n",
    "with open(f'../Model/standard_scaler_y.pickle', 'rb') as f:\n",
    "    scaler_y = pickle.load(f)"
   ]
  },
  {
   "cell_type": "code",
   "execution_count": 14,
   "id": "05e8fbd4",
   "metadata": {
    "tags": []
   },
   "outputs": [
    {
     "name": "stdout",
     "output_type": "stream",
     "text": [
      "sensor_point5_i_value      6.285572\n",
      "sensor_point6_i_value      7.733133\n",
      "sensor_point7_i_value     12.763048\n",
      "sensor_point8_i_value     10.315191\n",
      "sensor_point9_i_value      9.621170\n",
      "sensor_point10_i_value     9.119610\n",
      "dtype: float64\n"
     ]
    }
   ],
   "source": [
    "predictions = scaler_y.inverse_transform(all_res)\n",
    "targets = non_scaled_train_y\n",
    "print(rmse_score(predictions, targets))"
   ]
  }
 ],
 "metadata": {
  "kernelspec": {
   "display_name": "Python 3 (ipykernel)",
   "language": "python",
   "name": "python3"
  },
  "language_info": {
   "codemirror_mode": {
    "name": "ipython",
    "version": 3
   },
   "file_extension": ".py",
   "mimetype": "text/x-python",
   "name": "python",
   "nbconvert_exporter": "python",
   "pygments_lexer": "ipython3",
   "version": "3.9.12"
  }
 },
 "nbformat": 4,
 "nbformat_minor": 5
}
