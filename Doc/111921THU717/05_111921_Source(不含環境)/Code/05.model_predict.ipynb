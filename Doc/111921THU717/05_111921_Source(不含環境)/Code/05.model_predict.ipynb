{
 "cells": [
  {
   "cell_type": "markdown",
   "id": "e7659aa0",
   "metadata": {},
   "source": [
    "# Model Prediction\n",
    "---\n",
    "Description:\n",
    "\n",
    "This notebook shows the test processing. In the end of content, you can get two predictive result by different method.\n",
    "It depends on `model_predict_config.py` to lead the data flow.\n",
    "\n",
    "---\n",
    "## 1. Import Libraries"
   ]
  },
  {
   "cell_type": "code",
   "execution_count": 1,
   "id": "35458854",
   "metadata": {
    "tags": []
   },
   "outputs": [],
   "source": [
    "import pandas as pd\n",
    "import numpy as np\n",
    "import pickle\n",
    "\n",
    "import model_predict_config as mp_config\n",
    "import feature_engineering_config as fe_config\n",
    "import model_chains_config\n",
    "\n",
    "# feature engineering\n",
    "from feature_engineering import DealWithMissingValue, VariableTransformation, OutlierDetection,\\\n",
    "FeatureSelection, CreateGroupFeatureFromEachCol, CreateGroupFeatureFromAllCol, GeneratePolynomialFeatures, ReduceDimensionPCA, Standardization"
   ]
  },
  {
   "cell_type": "markdown",
   "id": "690eb610",
   "metadata": {},
   "source": [
    "## 2. Read xlsx File"
   ]
  },
  {
   "cell_type": "code",
   "execution_count": 2,
   "id": "2d644f59",
   "metadata": {
    "tags": []
   },
   "outputs": [],
   "source": [
    "test_x = pd.read_excel('../Data/2022-test-v1.xlsx')"
   ]
  },
  {
   "cell_type": "code",
   "execution_count": 3,
   "id": "51148d55",
   "metadata": {
    "tags": []
   },
   "outputs": [
    {
     "data": {
      "text/html": [
       "<div>\n",
       "<style scoped>\n",
       "    .dataframe tbody tr th:only-of-type {\n",
       "        vertical-align: middle;\n",
       "    }\n",
       "\n",
       "    .dataframe tbody tr th {\n",
       "        vertical-align: top;\n",
       "    }\n",
       "\n",
       "    .dataframe thead th {\n",
       "        text-align: right;\n",
       "    }\n",
       "</style>\n",
       "<table border=\"1\" class=\"dataframe\">\n",
       "  <thead>\n",
       "    <tr style=\"text-align: right;\">\n",
       "      <th></th>\n",
       "      <th>clean_temp</th>\n",
       "      <th>clean_ec</th>\n",
       "      <th>clean_ph4</th>\n",
       "      <th>clean_ph5</th>\n",
       "      <th>clean_ph7</th>\n",
       "      <th>clean_ph8</th>\n",
       "      <th>clean_pressure11</th>\n",
       "      <th>clean_pressure12</th>\n",
       "      <th>clean_pressure21</th>\n",
       "      <th>clean_pressure22</th>\n",
       "      <th>...</th>\n",
       "      <th>env_rpi14_pm1</th>\n",
       "      <th>env_rpi14_pm10</th>\n",
       "      <th>env_rpi14_pm25</th>\n",
       "      <th>env_rpi14_temp</th>\n",
       "      <th>env_rpi15_hum</th>\n",
       "      <th>env_rpi15_lux</th>\n",
       "      <th>env_rpi15_pm1</th>\n",
       "      <th>env_rpi15_pm10</th>\n",
       "      <th>env_rpi15_pm25</th>\n",
       "      <th>env_rpi15_temp</th>\n",
       "    </tr>\n",
       "  </thead>\n",
       "  <tbody>\n",
       "    <tr>\n",
       "      <th>0</th>\n",
       "      <td>41.9</td>\n",
       "      <td>12.50</td>\n",
       "      <td>NaN</td>\n",
       "      <td>NaN</td>\n",
       "      <td>NaN</td>\n",
       "      <td>7.00</td>\n",
       "      <td>820.26</td>\n",
       "      <td>1266.29</td>\n",
       "      <td>882.58</td>\n",
       "      <td>630.71</td>\n",
       "      <td>...</td>\n",
       "      <td>26.87</td>\n",
       "      <td>48.62</td>\n",
       "      <td>38.00</td>\n",
       "      <td>34.57</td>\n",
       "      <td>43.95</td>\n",
       "      <td>0.50</td>\n",
       "      <td>30.37</td>\n",
       "      <td>53.00</td>\n",
       "      <td>43.37</td>\n",
       "      <td>34.91</td>\n",
       "    </tr>\n",
       "    <tr>\n",
       "      <th>1</th>\n",
       "      <td>41.1</td>\n",
       "      <td>10.67</td>\n",
       "      <td>NaN</td>\n",
       "      <td>NaN</td>\n",
       "      <td>NaN</td>\n",
       "      <td>6.75</td>\n",
       "      <td>810.20</td>\n",
       "      <td>1266.53</td>\n",
       "      <td>885.96</td>\n",
       "      <td>630.76</td>\n",
       "      <td>...</td>\n",
       "      <td>17.71</td>\n",
       "      <td>30.14</td>\n",
       "      <td>24.42</td>\n",
       "      <td>36.16</td>\n",
       "      <td>41.48</td>\n",
       "      <td>0.42</td>\n",
       "      <td>13.71</td>\n",
       "      <td>21.42</td>\n",
       "      <td>18.14</td>\n",
       "      <td>37.81</td>\n",
       "    </tr>\n",
       "    <tr>\n",
       "      <th>2</th>\n",
       "      <td>41.1</td>\n",
       "      <td>10.67</td>\n",
       "      <td>NaN</td>\n",
       "      <td>NaN</td>\n",
       "      <td>NaN</td>\n",
       "      <td>6.75</td>\n",
       "      <td>809.84</td>\n",
       "      <td>1266.31</td>\n",
       "      <td>885.65</td>\n",
       "      <td>630.65</td>\n",
       "      <td>...</td>\n",
       "      <td>17.71</td>\n",
       "      <td>30.14</td>\n",
       "      <td>24.42</td>\n",
       "      <td>36.16</td>\n",
       "      <td>41.48</td>\n",
       "      <td>0.42</td>\n",
       "      <td>13.71</td>\n",
       "      <td>21.42</td>\n",
       "      <td>18.14</td>\n",
       "      <td>37.81</td>\n",
       "    </tr>\n",
       "    <tr>\n",
       "      <th>3</th>\n",
       "      <td>50.2</td>\n",
       "      <td>12.67</td>\n",
       "      <td>8.6</td>\n",
       "      <td>7.8</td>\n",
       "      <td>7.3</td>\n",
       "      <td>7.13</td>\n",
       "      <td>848.06</td>\n",
       "      <td>1454.10</td>\n",
       "      <td>1000.42</td>\n",
       "      <td>899.14</td>\n",
       "      <td>...</td>\n",
       "      <td>26.50</td>\n",
       "      <td>49.37</td>\n",
       "      <td>39.37</td>\n",
       "      <td>34.71</td>\n",
       "      <td>48.44</td>\n",
       "      <td>1.25</td>\n",
       "      <td>27.12</td>\n",
       "      <td>45.50</td>\n",
       "      <td>38.00</td>\n",
       "      <td>34.79</td>\n",
       "    </tr>\n",
       "    <tr>\n",
       "      <th>4</th>\n",
       "      <td>50.2</td>\n",
       "      <td>12.67</td>\n",
       "      <td>8.6</td>\n",
       "      <td>7.8</td>\n",
       "      <td>7.3</td>\n",
       "      <td>7.13</td>\n",
       "      <td>848.06</td>\n",
       "      <td>1454.10</td>\n",
       "      <td>1000.42</td>\n",
       "      <td>899.14</td>\n",
       "      <td>...</td>\n",
       "      <td>26.50</td>\n",
       "      <td>49.37</td>\n",
       "      <td>39.37</td>\n",
       "      <td>34.71</td>\n",
       "      <td>48.44</td>\n",
       "      <td>1.25</td>\n",
       "      <td>27.12</td>\n",
       "      <td>45.50</td>\n",
       "      <td>38.00</td>\n",
       "      <td>34.79</td>\n",
       "    </tr>\n",
       "  </tbody>\n",
       "</table>\n",
       "<p>5 rows × 125 columns</p>\n",
       "</div>"
      ],
      "text/plain": [
       "   clean_temp  clean_ec  clean_ph4  clean_ph5  clean_ph7  clean_ph8  \\\n",
       "0        41.9     12.50        NaN        NaN        NaN       7.00   \n",
       "1        41.1     10.67        NaN        NaN        NaN       6.75   \n",
       "2        41.1     10.67        NaN        NaN        NaN       6.75   \n",
       "3        50.2     12.67        8.6        7.8        7.3       7.13   \n",
       "4        50.2     12.67        8.6        7.8        7.3       7.13   \n",
       "\n",
       "   clean_pressure11  clean_pressure12  clean_pressure21  clean_pressure22  \\\n",
       "0            820.26           1266.29            882.58            630.71   \n",
       "1            810.20           1266.53            885.96            630.76   \n",
       "2            809.84           1266.31            885.65            630.65   \n",
       "3            848.06           1454.10           1000.42            899.14   \n",
       "4            848.06           1454.10           1000.42            899.14   \n",
       "\n",
       "   ...  env_rpi14_pm1  env_rpi14_pm10  env_rpi14_pm25  env_rpi14_temp  \\\n",
       "0  ...          26.87           48.62           38.00           34.57   \n",
       "1  ...          17.71           30.14           24.42           36.16   \n",
       "2  ...          17.71           30.14           24.42           36.16   \n",
       "3  ...          26.50           49.37           39.37           34.71   \n",
       "4  ...          26.50           49.37           39.37           34.71   \n",
       "\n",
       "   env_rpi15_hum  env_rpi15_lux  env_rpi15_pm1  env_rpi15_pm10  \\\n",
       "0          43.95           0.50          30.37           53.00   \n",
       "1          41.48           0.42          13.71           21.42   \n",
       "2          41.48           0.42          13.71           21.42   \n",
       "3          48.44           1.25          27.12           45.50   \n",
       "4          48.44           1.25          27.12           45.50   \n",
       "\n",
       "   env_rpi15_pm25  env_rpi15_temp  \n",
       "0           43.37           34.91  \n",
       "1           18.14           37.81  \n",
       "2           18.14           37.81  \n",
       "3           38.00           34.79  \n",
       "4           38.00           34.79  \n",
       "\n",
       "[5 rows x 125 columns]"
      ]
     },
     "execution_count": 3,
     "metadata": {},
     "output_type": "execute_result"
    }
   ],
   "source": [
    "test_x.head()"
   ]
  },
  {
   "cell_type": "code",
   "execution_count": 4,
   "id": "5220f629",
   "metadata": {
    "tags": []
   },
   "outputs": [
    {
     "data": {
      "text/plain": [
       "(100, 125)"
      ]
     },
     "execution_count": 4,
     "metadata": {},
     "output_type": "execute_result"
    }
   ],
   "source": [
    "test_x.shape"
   ]
  },
  {
   "cell_type": "markdown",
   "id": "c111b5f4",
   "metadata": {},
   "source": [
    "## 3. Pipeline"
   ]
  },
  {
   "cell_type": "code",
   "execution_count": 5,
   "id": "de0608ce",
   "metadata": {},
   "outputs": [],
   "source": [
    "train_process = mp_config.train_process\n",
    "random_state = mp_config.random_state"
   ]
  },
  {
   "cell_type": "code",
   "execution_count": 6,
   "id": "f84aff33",
   "metadata": {
    "tags": []
   },
   "outputs": [],
   "source": [
    "# define nan\n",
    "if mp_config.replace_zero_to_nan:\n",
    "    test_x = test_x.replace({0: np.nan})\n",
    "\n",
    "# missing values\n",
    "if mp_config.deal_with_missing_value == 'drop_na':\n",
    "    test_x = DealWithMissingValue(test_x).drop_na()\n",
    "elif mp_config.deal_with_missing_value == 'imputation':\n",
    "    test_x = DealWithMissingValue(test_x).imputation(strategy='most_frequent', train=train_process)\n",
    "elif mp_config.deal_with_missing_value == 'k_neighbors_regressor':\n",
    "    test_x = DealWithMissingValue(test_x).iterative_imputer(method='k_neighbors_regressor', train=train_process)\n",
    "else:\n",
    "    pass\n",
    "\n",
    "\n",
    "# variable transformation\n",
    "with open(f'../Model/variable_transformation.pickle', 'rb') as f:\n",
    "    large_skew_bool = pickle.load(f)\n",
    "\n",
    "for col in test_x._get_numeric_data().columns[large_skew_bool]:\n",
    "    test_x[col] = VariableTransformation(test_x, col=col).transform(method=mp_config.variable_transformation, train=train_process)\n",
    "\n",
    "    \n",
    "    \n",
    "    \n",
    "# create group feature  \n",
    "test_x['group'] = CreateGroupFeatureFromAllCol(test_x).kmeans_with_auto_k(\n",
    "    standardization=mp_config.kmeans_standardization,\n",
    "    k_range=mp_config.kmeans_k_range,\n",
    "    random_state=random_state,\n",
    "    parallel=True,\n",
    "    parallel_verbose=0,\n",
    "    train=train_process\n",
    ").astype(str)\n",
    "\n",
    "\n",
    "# convert each numeric data to category data\n",
    "for col in test_x.columns:\n",
    "    if col == 'group':\n",
    "        pass\n",
    "    else:\n",
    "        test_x[col+'_group'] = CreateGroupFeatureFromEachCol(test_x[[col]]).kmeans_with_auto_k(\n",
    "            standardization=mp_config.kmeans_standardization,\n",
    "            k_range=mp_config.kmeans_k_range,\n",
    "            random_state=random_state,\n",
    "            parallel=True,\n",
    "            parallel_verbose=0,\n",
    "            train=train_process\n",
    "        ).astype(str)\n",
    "        \n",
    "        \n",
    "# generate polynomial and interaction features\n",
    "if mp_config.generate_polynomial_features:\n",
    "    test_x = GeneratePolynomialFeatures(test_x).get_dataframe(\n",
    "        degree=mp_config.pf_degree,\n",
    "        interaction_only=mp_config.pf_interaction_only,\n",
    "        train=train_process\n",
    "    )\n",
    "    \n",
    "if mp_config.reduce_dimension:\n",
    "    test_x = ReduceDimensionPCA(test_x).pca(n_components=0.99, train=train_process)\n",
    "    \n",
    "    \n",
    "if mp_config.standardization == 'standard_scaler':\n",
    "    test_x = Standardization(test_x, prefix='x').standard_scaler(train=train_process)\n",
    "elif mp_config.standardization == 'min_max_scaler':\n",
    "    test_x = Standardization(test_x, prefix='x').min_max_scaler(train=train_process)\n",
    "\n",
    "\n",
    "    \n",
    "# Feature Selection\n",
    "test_x = test_x[mp_config.feature_select]"
   ]
  },
  {
   "cell_type": "code",
   "execution_count": 7,
   "id": "e3263054",
   "metadata": {
    "tags": []
   },
   "outputs": [
    {
     "data": {
      "text/html": [
       "<div>\n",
       "<style scoped>\n",
       "    .dataframe tbody tr th:only-of-type {\n",
       "        vertical-align: middle;\n",
       "    }\n",
       "\n",
       "    .dataframe tbody tr th {\n",
       "        vertical-align: top;\n",
       "    }\n",
       "\n",
       "    .dataframe thead th {\n",
       "        text-align: right;\n",
       "    }\n",
       "</style>\n",
       "<table border=\"1\" class=\"dataframe\">\n",
       "  <thead>\n",
       "    <tr style=\"text-align: right;\">\n",
       "      <th></th>\n",
       "      <th>clean_pressure11</th>\n",
       "      <th>clean_pressure23</th>\n",
       "      <th>clean_pressure31</th>\n",
       "      <th>clean_pressure33</th>\n",
       "      <th>clean_pressure41</th>\n",
       "      <th>clean_pressure51</th>\n",
       "      <th>clean_pressure52</th>\n",
       "      <th>clean_pressure61</th>\n",
       "      <th>clean_pressure62</th>\n",
       "      <th>clean_pressure71</th>\n",
       "      <th>...</th>\n",
       "      <th>painting_g2_act_hvc_group</th>\n",
       "      <th>painting_g4_act_a_air_group</th>\n",
       "      <th>painting_g4_act_hvv_group</th>\n",
       "      <th>painting_g8_act_f_air_group</th>\n",
       "      <th>painting_g8_act_t_air_group</th>\n",
       "      <th>painting_g10_act_t_air_group</th>\n",
       "      <th>painting_g11_act_hvc_group</th>\n",
       "      <th>env_rpi05_pm1_group</th>\n",
       "      <th>env_rpi07_pm1_group</th>\n",
       "      <th>env_rpi15_pm1_group</th>\n",
       "    </tr>\n",
       "  </thead>\n",
       "  <tbody>\n",
       "    <tr>\n",
       "      <th>0</th>\n",
       "      <td>0.997358</td>\n",
       "      <td>-2.385277</td>\n",
       "      <td>-0.867361</td>\n",
       "      <td>-2.298269</td>\n",
       "      <td>2.296172</td>\n",
       "      <td>1.970571</td>\n",
       "      <td>-2.907196</td>\n",
       "      <td>1.887560</td>\n",
       "      <td>-0.791956</td>\n",
       "      <td>0.290920</td>\n",
       "      <td>...</td>\n",
       "      <td>4</td>\n",
       "      <td>4</td>\n",
       "      <td>4</td>\n",
       "      <td>4</td>\n",
       "      <td>4</td>\n",
       "      <td>4</td>\n",
       "      <td>4</td>\n",
       "      <td>4</td>\n",
       "      <td>4</td>\n",
       "      <td>4</td>\n",
       "    </tr>\n",
       "    <tr>\n",
       "      <th>1</th>\n",
       "      <td>0.830891</td>\n",
       "      <td>-2.342936</td>\n",
       "      <td>-3.148568</td>\n",
       "      <td>-2.307606</td>\n",
       "      <td>2.325973</td>\n",
       "      <td>1.136147</td>\n",
       "      <td>-2.899703</td>\n",
       "      <td>0.707610</td>\n",
       "      <td>-0.792554</td>\n",
       "      <td>-0.121829</td>\n",
       "      <td>...</td>\n",
       "      <td>4</td>\n",
       "      <td>4</td>\n",
       "      <td>4</td>\n",
       "      <td>4</td>\n",
       "      <td>4</td>\n",
       "      <td>4</td>\n",
       "      <td>4</td>\n",
       "      <td>4</td>\n",
       "      <td>4</td>\n",
       "      <td>4</td>\n",
       "    </tr>\n",
       "    <tr>\n",
       "      <th>2</th>\n",
       "      <td>0.825015</td>\n",
       "      <td>-2.344755</td>\n",
       "      <td>-3.182049</td>\n",
       "      <td>-2.307353</td>\n",
       "      <td>2.325973</td>\n",
       "      <td>1.061082</td>\n",
       "      <td>-2.901226</td>\n",
       "      <td>0.707610</td>\n",
       "      <td>-0.792953</td>\n",
       "      <td>-0.121073</td>\n",
       "      <td>...</td>\n",
       "      <td>4</td>\n",
       "      <td>4</td>\n",
       "      <td>4</td>\n",
       "      <td>4</td>\n",
       "      <td>4</td>\n",
       "      <td>4</td>\n",
       "      <td>4</td>\n",
       "      <td>4</td>\n",
       "      <td>4</td>\n",
       "      <td>4</td>\n",
       "    </tr>\n",
       "    <tr>\n",
       "      <th>3</th>\n",
       "      <td>1.480764</td>\n",
       "      <td>-0.142724</td>\n",
       "      <td>-0.608942</td>\n",
       "      <td>0.170657</td>\n",
       "      <td>2.415376</td>\n",
       "      <td>0.692730</td>\n",
       "      <td>1.344704</td>\n",
       "      <td>1.912401</td>\n",
       "      <td>-0.754599</td>\n",
       "      <td>-0.963449</td>\n",
       "      <td>...</td>\n",
       "      <td>4</td>\n",
       "      <td>4</td>\n",
       "      <td>4</td>\n",
       "      <td>4</td>\n",
       "      <td>4</td>\n",
       "      <td>4</td>\n",
       "      <td>4</td>\n",
       "      <td>4</td>\n",
       "      <td>4</td>\n",
       "      <td>4</td>\n",
       "    </tr>\n",
       "    <tr>\n",
       "      <th>4</th>\n",
       "      <td>1.480764</td>\n",
       "      <td>-0.142724</td>\n",
       "      <td>-0.608942</td>\n",
       "      <td>0.170657</td>\n",
       "      <td>2.415376</td>\n",
       "      <td>0.692730</td>\n",
       "      <td>1.344704</td>\n",
       "      <td>1.912401</td>\n",
       "      <td>-0.754599</td>\n",
       "      <td>-0.963449</td>\n",
       "      <td>...</td>\n",
       "      <td>4</td>\n",
       "      <td>4</td>\n",
       "      <td>4</td>\n",
       "      <td>4</td>\n",
       "      <td>4</td>\n",
       "      <td>4</td>\n",
       "      <td>4</td>\n",
       "      <td>4</td>\n",
       "      <td>4</td>\n",
       "      <td>4</td>\n",
       "    </tr>\n",
       "  </tbody>\n",
       "</table>\n",
       "<p>5 rows × 97 columns</p>\n",
       "</div>"
      ],
      "text/plain": [
       "   clean_pressure11  clean_pressure23  clean_pressure31  clean_pressure33  \\\n",
       "0          0.997358         -2.385277         -0.867361         -2.298269   \n",
       "1          0.830891         -2.342936         -3.148568         -2.307606   \n",
       "2          0.825015         -2.344755         -3.182049         -2.307353   \n",
       "3          1.480764         -0.142724         -0.608942          0.170657   \n",
       "4          1.480764         -0.142724         -0.608942          0.170657   \n",
       "\n",
       "   clean_pressure41  clean_pressure51  clean_pressure52  clean_pressure61  \\\n",
       "0          2.296172          1.970571         -2.907196          1.887560   \n",
       "1          2.325973          1.136147         -2.899703          0.707610   \n",
       "2          2.325973          1.061082         -2.901226          0.707610   \n",
       "3          2.415376          0.692730          1.344704          1.912401   \n",
       "4          2.415376          0.692730          1.344704          1.912401   \n",
       "\n",
       "   clean_pressure62  clean_pressure71  ...  painting_g2_act_hvc_group  \\\n",
       "0         -0.791956          0.290920  ...                          4   \n",
       "1         -0.792554         -0.121829  ...                          4   \n",
       "2         -0.792953         -0.121073  ...                          4   \n",
       "3         -0.754599         -0.963449  ...                          4   \n",
       "4         -0.754599         -0.963449  ...                          4   \n",
       "\n",
       "   painting_g4_act_a_air_group  painting_g4_act_hvv_group  \\\n",
       "0                            4                          4   \n",
       "1                            4                          4   \n",
       "2                            4                          4   \n",
       "3                            4                          4   \n",
       "4                            4                          4   \n",
       "\n",
       "   painting_g8_act_f_air_group  painting_g8_act_t_air_group  \\\n",
       "0                            4                            4   \n",
       "1                            4                            4   \n",
       "2                            4                            4   \n",
       "3                            4                            4   \n",
       "4                            4                            4   \n",
       "\n",
       "   painting_g10_act_t_air_group  painting_g11_act_hvc_group  \\\n",
       "0                             4                           4   \n",
       "1                             4                           4   \n",
       "2                             4                           4   \n",
       "3                             4                           4   \n",
       "4                             4                           4   \n",
       "\n",
       "   env_rpi05_pm1_group  env_rpi07_pm1_group  env_rpi15_pm1_group  \n",
       "0                    4                    4                    4  \n",
       "1                    4                    4                    4  \n",
       "2                    4                    4                    4  \n",
       "3                    4                    4                    4  \n",
       "4                    4                    4                    4  \n",
       "\n",
       "[5 rows x 97 columns]"
      ]
     },
     "execution_count": 7,
     "metadata": {},
     "output_type": "execute_result"
    }
   ],
   "source": [
    "test_x.head()"
   ]
  },
  {
   "cell_type": "markdown",
   "id": "44093564",
   "metadata": {},
   "source": [
    "## 4. Save test data after feature engineering"
   ]
  },
  {
   "cell_type": "code",
   "execution_count": 8,
   "id": "f5f166b5",
   "metadata": {
    "tags": []
   },
   "outputs": [],
   "source": [
    "with open(f'../Data/meta/test_x_after_feature_engineering.pickle', 'wb' ) as f:\n",
    "    pickle.dump(test_x, f)"
   ]
  },
  {
   "cell_type": "markdown",
   "id": "6d81532d",
   "metadata": {},
   "source": [
    "## 5. Load model"
   ]
  },
  {
   "cell_type": "markdown",
   "id": "6e5216b1",
   "metadata": {},
   "source": [
    "* Muti-output Model"
   ]
  },
  {
   "cell_type": "code",
   "execution_count": 9,
   "id": "cfc715a5",
   "metadata": {
    "tags": []
   },
   "outputs": [],
   "source": [
    "with open(f'../Model/catboost_all.pickle', 'rb') as f:\n",
    "    muti_output_model = pickle.load(f)"
   ]
  },
  {
   "cell_type": "markdown",
   "id": "7ebad345",
   "metadata": {},
   "source": [
    "* Single output Model"
   ]
  },
  {
   "cell_type": "code",
   "execution_count": 10,
   "id": "7cdc3d25",
   "metadata": {
    "tags": []
   },
   "outputs": [],
   "source": [
    "with open(f'../Model/catboost_single.pickle', 'rb' ) as f:\n",
    "    single_output_model_dic = pickle.load(f)"
   ]
  },
  {
   "cell_type": "markdown",
   "id": "6503040e",
   "metadata": {},
   "source": [
    "* Stacking model"
   ]
  },
  {
   "cell_type": "code",
   "execution_count": 11,
   "id": "030842e8",
   "metadata": {},
   "outputs": [],
   "source": [
    "with open(f'../Model/stacking_model_dic.pickle', 'rb' ) as f:\n",
    "    stacking_model_dic = pickle.load(f)"
   ]
  },
  {
   "cell_type": "markdown",
   "id": "84363be6",
   "metadata": {},
   "source": [
    "## 6. Prediction"
   ]
  },
  {
   "cell_type": "code",
   "execution_count": 12,
   "id": "c547c8fe",
   "metadata": {},
   "outputs": [],
   "source": [
    "with open(f'../Model/target_col_list.pickle', 'rb') as f:\n",
    "    test_y_col = pickle.load(f)"
   ]
  },
  {
   "cell_type": "markdown",
   "id": "88638e73",
   "metadata": {},
   "source": [
    "* Muti-output Model"
   ]
  },
  {
   "cell_type": "code",
   "execution_count": 13,
   "id": "679f1cea",
   "metadata": {},
   "outputs": [],
   "source": [
    "catboost_all_res = muti_output_model.predict(test_x)\n",
    "catboost_all_res = pd.DataFrame(catboost_all_res, columns=test_y_col)"
   ]
  },
  {
   "cell_type": "markdown",
   "id": "d9d3df54",
   "metadata": {},
   "source": [
    "* Single output Model"
   ]
  },
  {
   "cell_type": "code",
   "execution_count": 14,
   "id": "fee4faf4",
   "metadata": {
    "tags": []
   },
   "outputs": [],
   "source": [
    "array_li= [single_output_model_dic[col_y]['model'].predict(test_x).reshape(-1,1) for col_y in test_y_col]\n",
    "catboost_single_res= np.concatenate(array_li, axis=1)\n",
    "catboost_single_res = pd.DataFrame(catboost_single_res, columns=test_y_col)"
   ]
  },
  {
   "cell_type": "markdown",
   "id": "11bdb1f6",
   "metadata": {},
   "source": [
    "* Stacking Model"
   ]
  },
  {
   "cell_type": "code",
   "execution_count": 15,
   "id": "8d4a54c8",
   "metadata": {},
   "outputs": [],
   "source": [
    "data_dic = {}\n",
    "for col in test_y_col:\n",
    "    data_dic[col] = pd.concat([catboost_all_res[col], catboost_single_res[col]], axis=1)"
   ]
  },
  {
   "cell_type": "code",
   "execution_count": 16,
   "id": "8e4c1d72",
   "metadata": {},
   "outputs": [],
   "source": [
    "array_li= [ stacking_model_dic[col].predict(data_dic[col]).reshape(-1,1) for col in test_y_col ]\n",
    "all_res = np.concatenate(array_li, axis=1)"
   ]
  },
  {
   "cell_type": "code",
   "execution_count": 17,
   "id": "244975b6",
   "metadata": {},
   "outputs": [],
   "source": [
    "all_res = pd.DataFrame(all_res, columns=test_y_col)"
   ]
  },
  {
   "cell_type": "code",
   "execution_count": 18,
   "id": "93a8d7f7",
   "metadata": {},
   "outputs": [],
   "source": [
    "# Load y-scaler model\n",
    "with open(f'../Model/standard_scaler_y.pickle', 'rb') as f:\n",
    "    scaler_y = pickle.load(f)"
   ]
  },
  {
   "cell_type": "markdown",
   "id": "af71179e",
   "metadata": {},
   "source": [
    "## 6. Load y Scaler Model"
   ]
  },
  {
   "cell_type": "code",
   "execution_count": 19,
   "id": "387f130e",
   "metadata": {
    "tags": []
   },
   "outputs": [],
   "source": [
    "with open(f'../Model/standard_scaler_y.pickle', 'rb') as f:\n",
    "    scaler_y = pickle.load(f)"
   ]
  },
  {
   "cell_type": "code",
   "execution_count": 20,
   "id": "f8df339e",
   "metadata": {},
   "outputs": [],
   "source": [
    "all_res = scaler_y.inverse_transform(all_res)"
   ]
  },
  {
   "cell_type": "code",
   "execution_count": 21,
   "id": "e5279626",
   "metadata": {},
   "outputs": [],
   "source": [
    "final_df = pd.DataFrame(all_res, columns=test_y_col)"
   ]
  },
  {
   "cell_type": "code",
   "execution_count": 22,
   "id": "2501463d",
   "metadata": {},
   "outputs": [
    {
     "data": {
      "text/html": [
       "<div>\n",
       "<style scoped>\n",
       "    .dataframe tbody tr th:only-of-type {\n",
       "        vertical-align: middle;\n",
       "    }\n",
       "\n",
       "    .dataframe tbody tr th {\n",
       "        vertical-align: top;\n",
       "    }\n",
       "\n",
       "    .dataframe thead th {\n",
       "        text-align: right;\n",
       "    }\n",
       "</style>\n",
       "<table border=\"1\" class=\"dataframe\">\n",
       "  <thead>\n",
       "    <tr style=\"text-align: right;\">\n",
       "      <th></th>\n",
       "      <th>sensor_point5_i_value</th>\n",
       "      <th>sensor_point6_i_value</th>\n",
       "      <th>sensor_point7_i_value</th>\n",
       "      <th>sensor_point8_i_value</th>\n",
       "      <th>sensor_point9_i_value</th>\n",
       "      <th>sensor_point10_i_value</th>\n",
       "    </tr>\n",
       "  </thead>\n",
       "  <tbody>\n",
       "    <tr>\n",
       "      <th>0</th>\n",
       "      <td>52.482104</td>\n",
       "      <td>64.815545</td>\n",
       "      <td>70.583181</td>\n",
       "      <td>39.072280</td>\n",
       "      <td>66.467202</td>\n",
       "      <td>52.721369</td>\n",
       "    </tr>\n",
       "    <tr>\n",
       "      <th>1</th>\n",
       "      <td>62.085257</td>\n",
       "      <td>72.999919</td>\n",
       "      <td>84.187556</td>\n",
       "      <td>46.904472</td>\n",
       "      <td>77.165029</td>\n",
       "      <td>76.860826</td>\n",
       "    </tr>\n",
       "    <tr>\n",
       "      <th>2</th>\n",
       "      <td>64.436642</td>\n",
       "      <td>72.878844</td>\n",
       "      <td>84.805577</td>\n",
       "      <td>46.600791</td>\n",
       "      <td>77.343892</td>\n",
       "      <td>73.924505</td>\n",
       "    </tr>\n",
       "    <tr>\n",
       "      <th>3</th>\n",
       "      <td>79.722943</td>\n",
       "      <td>55.185696</td>\n",
       "      <td>77.335506</td>\n",
       "      <td>42.439285</td>\n",
       "      <td>62.808584</td>\n",
       "      <td>66.322310</td>\n",
       "    </tr>\n",
       "    <tr>\n",
       "      <th>4</th>\n",
       "      <td>79.722943</td>\n",
       "      <td>55.185696</td>\n",
       "      <td>77.335506</td>\n",
       "      <td>42.439285</td>\n",
       "      <td>62.808584</td>\n",
       "      <td>66.322310</td>\n",
       "    </tr>\n",
       "  </tbody>\n",
       "</table>\n",
       "</div>"
      ],
      "text/plain": [
       "   sensor_point5_i_value  sensor_point6_i_value  sensor_point7_i_value  \\\n",
       "0              52.482104              64.815545              70.583181   \n",
       "1              62.085257              72.999919              84.187556   \n",
       "2              64.436642              72.878844              84.805577   \n",
       "3              79.722943              55.185696              77.335506   \n",
       "4              79.722943              55.185696              77.335506   \n",
       "\n",
       "   sensor_point8_i_value  sensor_point9_i_value  sensor_point10_i_value  \n",
       "0              39.072280              66.467202               52.721369  \n",
       "1              46.904472              77.165029               76.860826  \n",
       "2              46.600791              77.343892               73.924505  \n",
       "3              42.439285              62.808584               66.322310  \n",
       "4              42.439285              62.808584               66.322310  "
      ]
     },
     "execution_count": 22,
     "metadata": {},
     "output_type": "execute_result"
    }
   ],
   "source": [
    "final_df.head()"
   ]
  },
  {
   "cell_type": "code",
   "execution_count": 23,
   "id": "445eea9d",
   "metadata": {},
   "outputs": [
    {
     "data": {
      "text/plain": [
       "(100, 6)"
      ]
     },
     "execution_count": 23,
     "metadata": {},
     "output_type": "execute_result"
    }
   ],
   "source": [
    "final_df.shape"
   ]
  },
  {
   "cell_type": "code",
   "execution_count": 24,
   "id": "c6195f14",
   "metadata": {},
   "outputs": [],
   "source": [
    "final_df.insert(0, 'No', list( range(1, 101, 1) ))"
   ]
  },
  {
   "cell_type": "code",
   "execution_count": 25,
   "id": "b7e9bcf3",
   "metadata": {},
   "outputs": [],
   "source": [
    "final_df.to_excel('../Output/111921_TestResult.xlsx', index=False)"
   ]
  }
 ],
 "metadata": {
  "kernelspec": {
   "display_name": "Python 3 (ipykernel)",
   "language": "python",
   "name": "python3"
  },
  "language_info": {
   "codemirror_mode": {
    "name": "ipython",
    "version": 3
   },
   "file_extension": ".py",
   "mimetype": "text/x-python",
   "name": "python",
   "nbconvert_exporter": "python",
   "pygments_lexer": "ipython3",
   "version": "3.10.0"
  }
 },
 "nbformat": 4,
 "nbformat_minor": 5
}
