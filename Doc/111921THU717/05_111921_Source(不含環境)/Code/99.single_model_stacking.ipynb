{
 "cells": [
  {
   "cell_type": "markdown",
   "id": "25390e0f",
   "metadata": {},
   "source": [
    "## Import Libraries"
   ]
  },
  {
   "cell_type": "code",
   "execution_count": 1,
   "id": "50433589",
   "metadata": {
    "tags": []
   },
   "outputs": [],
   "source": [
    "from sklearn.datasets import load_diabetes\n",
    "from sklearn.linear_model import RidgeCV\n",
    "from sklearn.svm import LinearSVR\n",
    "from sklearn.ensemble import RandomForestRegressor\n",
    "from xgboost import XGBRegressor\n",
    "from sklearn.ensemble import StackingRegressor\n",
    "from sklearn.linear_model import LinearRegression\n",
    "from utils.metric_utils import rmse_score\n",
    "import pandas as pd\n",
    "import numpy as np\n",
    "import pickle"
   ]
  },
  {
   "cell_type": "markdown",
   "id": "321a684e",
   "metadata": {},
   "source": [
    "## Load model"
   ]
  },
  {
   "cell_type": "markdown",
   "id": "b525927c",
   "metadata": {},
   "source": [
    "* Muti-output Model"
   ]
  },
  {
   "cell_type": "code",
   "execution_count": 2,
   "id": "8cedeed0",
   "metadata": {
    "tags": []
   },
   "outputs": [],
   "source": [
    "with open(f'../Model/catboost_all.pickle', 'rb') as f:\n",
    "    model_muti_output = pickle.load(f)"
   ]
  },
  {
   "cell_type": "markdown",
   "id": "04bfb612",
   "metadata": {},
   "source": [
    "* Single output Model"
   ]
  },
  {
   "cell_type": "code",
   "execution_count": 3,
   "id": "0d75a3bd",
   "metadata": {
    "tags": []
   },
   "outputs": [],
   "source": [
    "with open(f'../Model/catboost_single.pickle', 'rb' ) as f:\n",
    "    single_output_model_dic = pickle.load(f)"
   ]
  },
  {
   "cell_type": "markdown",
   "id": "3ae57ef3",
   "metadata": {},
   "source": [
    "* Chain model"
   ]
  },
  {
   "cell_type": "code",
   "execution_count": 4,
   "id": "46cfc0fc",
   "metadata": {},
   "outputs": [],
   "source": [
    "with open('../model/chain_model_dic.pickle', 'rb') as f:\n",
    "    chain_model_dic = pickle.load(f)"
   ]
  },
  {
   "cell_type": "markdown",
   "id": "71aaf8fd",
   "metadata": {},
   "source": [
    "## load Data"
   ]
  },
  {
   "cell_type": "code",
   "execution_count": 5,
   "id": "d524a40e",
   "metadata": {
    "tags": []
   },
   "outputs": [],
   "source": [
    "with open(f'../Data/meta/train_x_after_feature_engineering.pickle', 'rb') as f:\n",
    "    train_x_after_fe = pickle.load(f)"
   ]
  },
  {
   "cell_type": "code",
   "execution_count": 6,
   "id": "6b806f46",
   "metadata": {
    "tags": []
   },
   "outputs": [],
   "source": [
    "with open(f'../Data/meta/train_y_after_feature_engineering.pickle', 'rb') as f:\n",
    "    train_y_after_fe = pickle.load(f)"
   ]
  },
  {
   "cell_type": "code",
   "execution_count": 7,
   "id": "b753da60",
   "metadata": {
    "tags": []
   },
   "outputs": [],
   "source": [
    "# You need to use original values of target variable to evaluate RMSE\n",
    "with open(f'../Data/meta/non_scaled_train_y_after_feature_engineering.pickle', 'rb') as f:\n",
    "    non_scaled_train_y = pickle.load(f)"
   ]
  },
  {
   "cell_type": "code",
   "execution_count": 8,
   "id": "c389a209",
   "metadata": {},
   "outputs": [
    {
     "data": {
      "text/html": [
       "<div>\n",
       "<style scoped>\n",
       "    .dataframe tbody tr th:only-of-type {\n",
       "        vertical-align: middle;\n",
       "    }\n",
       "\n",
       "    .dataframe tbody tr th {\n",
       "        vertical-align: top;\n",
       "    }\n",
       "\n",
       "    .dataframe thead th {\n",
       "        text-align: right;\n",
       "    }\n",
       "</style>\n",
       "<table border=\"1\" class=\"dataframe\">\n",
       "  <thead>\n",
       "    <tr style=\"text-align: right;\">\n",
       "      <th></th>\n",
       "      <th>clean_pressure11</th>\n",
       "      <th>clean_pressure23</th>\n",
       "      <th>clean_pressure31</th>\n",
       "      <th>clean_pressure41</th>\n",
       "      <th>clean_pressure51</th>\n",
       "      <th>clean_pressure52</th>\n",
       "      <th>clean_pressure61</th>\n",
       "      <th>clean_pressure62</th>\n",
       "      <th>clean_pressure72</th>\n",
       "      <th>clean_pressure81</th>\n",
       "      <th>...</th>\n",
       "      <th>oven_a1_group</th>\n",
       "      <th>oven_b3_group</th>\n",
       "      <th>painting_g2_act_f_air_group</th>\n",
       "      <th>painting_g4_act_hvc_group</th>\n",
       "      <th>painting_g10_act_hvc_group</th>\n",
       "      <th>painting_g11_act_hvc_group</th>\n",
       "      <th>env_rpi05_temp_group</th>\n",
       "      <th>env_rpi07_pm25_group</th>\n",
       "      <th>env_rpi14_pm1_group</th>\n",
       "      <th>env_rpi15_pm1_group</th>\n",
       "    </tr>\n",
       "  </thead>\n",
       "  <tbody>\n",
       "    <tr>\n",
       "      <th>0</th>\n",
       "      <td>0.998661</td>\n",
       "      <td>-2.48405</td>\n",
       "      <td>-0.843686</td>\n",
       "      <td>2.359976</td>\n",
       "      <td>2.173607</td>\n",
       "      <td>-2.979055</td>\n",
       "      <td>1.913111</td>\n",
       "      <td>-0.765725</td>\n",
       "      <td>2.945531</td>\n",
       "      <td>1.949731</td>\n",
       "      <td>...</td>\n",
       "      <td>3</td>\n",
       "      <td>1</td>\n",
       "      <td>1</td>\n",
       "      <td>1</td>\n",
       "      <td>2</td>\n",
       "      <td>1</td>\n",
       "      <td>1</td>\n",
       "      <td>0</td>\n",
       "      <td>2</td>\n",
       "      <td>3</td>\n",
       "    </tr>\n",
       "    <tr>\n",
       "      <th>4</th>\n",
       "      <td>1.007741</td>\n",
       "      <td>-2.48645</td>\n",
       "      <td>-0.854122</td>\n",
       "      <td>2.359976</td>\n",
       "      <td>2.178187</td>\n",
       "      <td>-2.977987</td>\n",
       "      <td>1.913111</td>\n",
       "      <td>-0.774750</td>\n",
       "      <td>2.942140</td>\n",
       "      <td>1.821748</td>\n",
       "      <td>...</td>\n",
       "      <td>3</td>\n",
       "      <td>1</td>\n",
       "      <td>1</td>\n",
       "      <td>1</td>\n",
       "      <td>2</td>\n",
       "      <td>1</td>\n",
       "      <td>1</td>\n",
       "      <td>3</td>\n",
       "      <td>2</td>\n",
       "      <td>3</td>\n",
       "    </tr>\n",
       "    <tr>\n",
       "      <th>5</th>\n",
       "      <td>1.007741</td>\n",
       "      <td>-2.48645</td>\n",
       "      <td>-0.854122</td>\n",
       "      <td>2.359976</td>\n",
       "      <td>2.178187</td>\n",
       "      <td>-2.977987</td>\n",
       "      <td>1.913111</td>\n",
       "      <td>-0.774750</td>\n",
       "      <td>2.942140</td>\n",
       "      <td>1.821748</td>\n",
       "      <td>...</td>\n",
       "      <td>3</td>\n",
       "      <td>1</td>\n",
       "      <td>1</td>\n",
       "      <td>1</td>\n",
       "      <td>2</td>\n",
       "      <td>1</td>\n",
       "      <td>1</td>\n",
       "      <td>3</td>\n",
       "      <td>2</td>\n",
       "      <td>3</td>\n",
       "    </tr>\n",
       "  </tbody>\n",
       "</table>\n",
       "<p>3 rows × 76 columns</p>\n",
       "</div>"
      ],
      "text/plain": [
       "   clean_pressure11  clean_pressure23  clean_pressure31  clean_pressure41  \\\n",
       "0          0.998661          -2.48405         -0.843686          2.359976   \n",
       "4          1.007741          -2.48645         -0.854122          2.359976   \n",
       "5          1.007741          -2.48645         -0.854122          2.359976   \n",
       "\n",
       "   clean_pressure51  clean_pressure52  clean_pressure61  clean_pressure62  \\\n",
       "0          2.173607         -2.979055          1.913111         -0.765725   \n",
       "4          2.178187         -2.977987          1.913111         -0.774750   \n",
       "5          2.178187         -2.977987          1.913111         -0.774750   \n",
       "\n",
       "   clean_pressure72  clean_pressure81  ...  oven_a1_group  oven_b3_group  \\\n",
       "0          2.945531          1.949731  ...              3              1   \n",
       "4          2.942140          1.821748  ...              3              1   \n",
       "5          2.942140          1.821748  ...              3              1   \n",
       "\n",
       "   painting_g2_act_f_air_group  painting_g4_act_hvc_group  \\\n",
       "0                            1                          1   \n",
       "4                            1                          1   \n",
       "5                            1                          1   \n",
       "\n",
       "   painting_g10_act_hvc_group  painting_g11_act_hvc_group  \\\n",
       "0                           2                           1   \n",
       "4                           2                           1   \n",
       "5                           2                           1   \n",
       "\n",
       "   env_rpi05_temp_group  env_rpi07_pm25_group  env_rpi14_pm1_group  \\\n",
       "0                     1                     0                    2   \n",
       "4                     1                     3                    2   \n",
       "5                     1                     3                    2   \n",
       "\n",
       "   env_rpi15_pm1_group  \n",
       "0                    3  \n",
       "4                    3  \n",
       "5                    3  \n",
       "\n",
       "[3 rows x 76 columns]"
      ]
     },
     "execution_count": 8,
     "metadata": {},
     "output_type": "execute_result"
    }
   ],
   "source": [
    "train_x_after_fe.head(3)"
   ]
  },
  {
   "cell_type": "code",
   "execution_count": 9,
   "id": "a157879b",
   "metadata": {},
   "outputs": [
    {
     "data": {
      "text/html": [
       "<div>\n",
       "<style scoped>\n",
       "    .dataframe tbody tr th:only-of-type {\n",
       "        vertical-align: middle;\n",
       "    }\n",
       "\n",
       "    .dataframe tbody tr th {\n",
       "        vertical-align: top;\n",
       "    }\n",
       "\n",
       "    .dataframe thead th {\n",
       "        text-align: right;\n",
       "    }\n",
       "</style>\n",
       "<table border=\"1\" class=\"dataframe\">\n",
       "  <thead>\n",
       "    <tr style=\"text-align: right;\">\n",
       "      <th></th>\n",
       "      <th>sensor_point5_i_value</th>\n",
       "      <th>sensor_point6_i_value</th>\n",
       "      <th>sensor_point7_i_value</th>\n",
       "      <th>sensor_point8_i_value</th>\n",
       "      <th>sensor_point9_i_value</th>\n",
       "      <th>sensor_point10_i_value</th>\n",
       "    </tr>\n",
       "  </thead>\n",
       "  <tbody>\n",
       "    <tr>\n",
       "      <th>0</th>\n",
       "      <td>-2.915553</td>\n",
       "      <td>-1.350983</td>\n",
       "      <td>-1.118309</td>\n",
       "      <td>-1.719137</td>\n",
       "      <td>-0.755270</td>\n",
       "      <td>-2.842387</td>\n",
       "    </tr>\n",
       "    <tr>\n",
       "      <th>4</th>\n",
       "      <td>-1.744669</td>\n",
       "      <td>-0.546567</td>\n",
       "      <td>-1.910943</td>\n",
       "      <td>-1.270337</td>\n",
       "      <td>-1.206139</td>\n",
       "      <td>-1.632568</td>\n",
       "    </tr>\n",
       "    <tr>\n",
       "      <th>5</th>\n",
       "      <td>-2.915553</td>\n",
       "      <td>-0.765953</td>\n",
       "      <td>-1.039045</td>\n",
       "      <td>-1.135697</td>\n",
       "      <td>-1.606911</td>\n",
       "      <td>-1.693059</td>\n",
       "    </tr>\n",
       "  </tbody>\n",
       "</table>\n",
       "</div>"
      ],
      "text/plain": [
       "   sensor_point5_i_value  sensor_point6_i_value  sensor_point7_i_value  \\\n",
       "0              -2.915553              -1.350983              -1.118309   \n",
       "4              -1.744669              -0.546567              -1.910943   \n",
       "5              -2.915553              -0.765953              -1.039045   \n",
       "\n",
       "   sensor_point8_i_value  sensor_point9_i_value  sensor_point10_i_value  \n",
       "0              -1.719137              -0.755270               -2.842387  \n",
       "4              -1.270337              -1.206139               -1.632568  \n",
       "5              -1.135697              -1.606911               -1.693059  "
      ]
     },
     "execution_count": 9,
     "metadata": {},
     "output_type": "execute_result"
    }
   ],
   "source": [
    "train_y_after_fe.head(3)"
   ]
  },
  {
   "cell_type": "code",
   "execution_count": 10,
   "id": "ca5e32ca",
   "metadata": {},
   "outputs": [
    {
     "data": {
      "text/html": [
       "<div>\n",
       "<style scoped>\n",
       "    .dataframe tbody tr th:only-of-type {\n",
       "        vertical-align: middle;\n",
       "    }\n",
       "\n",
       "    .dataframe tbody tr th {\n",
       "        vertical-align: top;\n",
       "    }\n",
       "\n",
       "    .dataframe thead th {\n",
       "        text-align: right;\n",
       "    }\n",
       "</style>\n",
       "<table border=\"1\" class=\"dataframe\">\n",
       "  <thead>\n",
       "    <tr style=\"text-align: right;\">\n",
       "      <th></th>\n",
       "      <th>sensor_point5_i_value</th>\n",
       "      <th>sensor_point6_i_value</th>\n",
       "      <th>sensor_point7_i_value</th>\n",
       "      <th>sensor_point8_i_value</th>\n",
       "      <th>sensor_point9_i_value</th>\n",
       "      <th>sensor_point10_i_value</th>\n",
       "    </tr>\n",
       "  </thead>\n",
       "  <tbody>\n",
       "    <tr>\n",
       "      <th>0</th>\n",
       "      <td>42</td>\n",
       "      <td>56</td>\n",
       "      <td>82</td>\n",
       "      <td>41</td>\n",
       "      <td>73</td>\n",
       "      <td>45</td>\n",
       "    </tr>\n",
       "    <tr>\n",
       "      <th>4</th>\n",
       "      <td>57</td>\n",
       "      <td>78</td>\n",
       "      <td>62</td>\n",
       "      <td>51</td>\n",
       "      <td>64</td>\n",
       "      <td>65</td>\n",
       "    </tr>\n",
       "    <tr>\n",
       "      <th>5</th>\n",
       "      <td>42</td>\n",
       "      <td>72</td>\n",
       "      <td>84</td>\n",
       "      <td>54</td>\n",
       "      <td>56</td>\n",
       "      <td>64</td>\n",
       "    </tr>\n",
       "  </tbody>\n",
       "</table>\n",
       "</div>"
      ],
      "text/plain": [
       "   sensor_point5_i_value  sensor_point6_i_value  sensor_point7_i_value  \\\n",
       "0                     42                     56                     82   \n",
       "4                     57                     78                     62   \n",
       "5                     42                     72                     84   \n",
       "\n",
       "   sensor_point8_i_value  sensor_point9_i_value  sensor_point10_i_value  \n",
       "0                     41                     73                      45  \n",
       "4                     51                     64                      65  \n",
       "5                     54                     56                      64  "
      ]
     },
     "execution_count": 10,
     "metadata": {},
     "output_type": "execute_result"
    }
   ],
   "source": [
    "non_scaled_train_y.head(3)"
   ]
  },
  {
   "cell_type": "code",
   "execution_count": 11,
   "id": "8d91ddb0",
   "metadata": {},
   "outputs": [],
   "source": [
    "# RandomForestRegressor(n_estimators=10, random_state=42)"
   ]
  },
  {
   "cell_type": "code",
   "execution_count": 12,
   "id": "e7a585cb",
   "metadata": {
    "tags": []
   },
   "outputs": [],
   "source": [
    "stack_model_dic = {}\n",
    "for col in train_y_after_fe.columns:\n",
    "    estimators = [\n",
    "        (f'{col}_model_1', single_output_model_dic[col]['model'])\n",
    "    ]\n",
    "    reg = StackingRegressor(\n",
    "        estimators=estimators,\n",
    "        final_estimator=XGBRegressor(n_estimators=10, random_state=42),\n",
    "        n_jobs=2\n",
    "    )\n",
    "\n",
    "    reg.fit(train_x_after_fe, train_y_after_fe[col])\n",
    "    stack_model_dic[col] = {'model': reg}"
   ]
  },
  {
   "cell_type": "code",
   "execution_count": 13,
   "id": "65bfa82b",
   "metadata": {
    "tags": []
   },
   "outputs": [
    {
     "data": {
      "text/html": [
       "<style>#sk-container-id-1 {color: black;background-color: white;}#sk-container-id-1 pre{padding: 0;}#sk-container-id-1 div.sk-toggleable {background-color: white;}#sk-container-id-1 label.sk-toggleable__label {cursor: pointer;display: block;width: 100%;margin-bottom: 0;padding: 0.3em;box-sizing: border-box;text-align: center;}#sk-container-id-1 label.sk-toggleable__label-arrow:before {content: \"▸\";float: left;margin-right: 0.25em;color: #696969;}#sk-container-id-1 label.sk-toggleable__label-arrow:hover:before {color: black;}#sk-container-id-1 div.sk-estimator:hover label.sk-toggleable__label-arrow:before {color: black;}#sk-container-id-1 div.sk-toggleable__content {max-height: 0;max-width: 0;overflow: hidden;text-align: left;background-color: #f0f8ff;}#sk-container-id-1 div.sk-toggleable__content pre {margin: 0.2em;color: black;border-radius: 0.25em;background-color: #f0f8ff;}#sk-container-id-1 input.sk-toggleable__control:checked~div.sk-toggleable__content {max-height: 200px;max-width: 100%;overflow: auto;}#sk-container-id-1 input.sk-toggleable__control:checked~label.sk-toggleable__label-arrow:before {content: \"▾\";}#sk-container-id-1 div.sk-estimator input.sk-toggleable__control:checked~label.sk-toggleable__label {background-color: #d4ebff;}#sk-container-id-1 div.sk-label input.sk-toggleable__control:checked~label.sk-toggleable__label {background-color: #d4ebff;}#sk-container-id-1 input.sk-hidden--visually {border: 0;clip: rect(1px 1px 1px 1px);clip: rect(1px, 1px, 1px, 1px);height: 1px;margin: -1px;overflow: hidden;padding: 0;position: absolute;width: 1px;}#sk-container-id-1 div.sk-estimator {font-family: monospace;background-color: #f0f8ff;border: 1px dotted black;border-radius: 0.25em;box-sizing: border-box;margin-bottom: 0.5em;}#sk-container-id-1 div.sk-estimator:hover {background-color: #d4ebff;}#sk-container-id-1 div.sk-parallel-item::after {content: \"\";width: 100%;border-bottom: 1px solid gray;flex-grow: 1;}#sk-container-id-1 div.sk-label:hover label.sk-toggleable__label {background-color: #d4ebff;}#sk-container-id-1 div.sk-serial::before {content: \"\";position: absolute;border-left: 1px solid gray;box-sizing: border-box;top: 0;bottom: 0;left: 50%;z-index: 0;}#sk-container-id-1 div.sk-serial {display: flex;flex-direction: column;align-items: center;background-color: white;padding-right: 0.2em;padding-left: 0.2em;position: relative;}#sk-container-id-1 div.sk-item {position: relative;z-index: 1;}#sk-container-id-1 div.sk-parallel {display: flex;align-items: stretch;justify-content: center;background-color: white;position: relative;}#sk-container-id-1 div.sk-item::before, #sk-container-id-1 div.sk-parallel-item::before {content: \"\";position: absolute;border-left: 1px solid gray;box-sizing: border-box;top: 0;bottom: 0;left: 50%;z-index: -1;}#sk-container-id-1 div.sk-parallel-item {display: flex;flex-direction: column;z-index: 1;position: relative;background-color: white;}#sk-container-id-1 div.sk-parallel-item:first-child::after {align-self: flex-end;width: 50%;}#sk-container-id-1 div.sk-parallel-item:last-child::after {align-self: flex-start;width: 50%;}#sk-container-id-1 div.sk-parallel-item:only-child::after {width: 0;}#sk-container-id-1 div.sk-dashed-wrapped {border: 1px dashed gray;margin: 0 0.4em 0.5em 0.4em;box-sizing: border-box;padding-bottom: 0.4em;background-color: white;}#sk-container-id-1 div.sk-label label {font-family: monospace;font-weight: bold;display: inline-block;line-height: 1.2em;}#sk-container-id-1 div.sk-label-container {text-align: center;}#sk-container-id-1 div.sk-container {/* jupyter's `normalize.less` sets `[hidden] { display: none; }` but bootstrap.min.css set `[hidden] { display: none !important; }` so we also need the `!important` here to be able to override the default hidden behavior on the sphinx rendered scikit-learn.org. See: https://github.com/scikit-learn/scikit-learn/issues/21755 */display: inline-block !important;position: relative;}#sk-container-id-1 div.sk-text-repr-fallback {display: none;}</style><div id=\"sk-container-id-1\" class=\"sk-top-container\"><div class=\"sk-text-repr-fallback\"><pre>StackingRegressor(estimators=[(&#x27;sensor_point10_i_value_model_1&#x27;,\n",
       "                               &lt;catboost.core.CatBoostRegressor object at 0x147a42500&gt;)],\n",
       "                  final_estimator=XGBRegressor(base_score=None, booster=None,\n",
       "                                               callbacks=None,\n",
       "                                               colsample_bylevel=None,\n",
       "                                               colsample_bynode=None,\n",
       "                                               colsample_bytree=None,\n",
       "                                               early_stopping_rounds=None,\n",
       "                                               enable_categorical=False,\n",
       "                                               eval_metric=None, gamma=None,\n",
       "                                               gpu_id=None...y=None,\n",
       "                                               importance_type=None,\n",
       "                                               interaction_constraints=None,\n",
       "                                               learning_rate=None, max_bin=None,\n",
       "                                               max_cat_to_onehot=None,\n",
       "                                               max_delta_step=None,\n",
       "                                               max_depth=None, max_leaves=None,\n",
       "                                               min_child_weight=None,\n",
       "                                               missing=nan,\n",
       "                                               monotone_constraints=None,\n",
       "                                               n_estimators=10, n_jobs=None,\n",
       "                                               num_parallel_tree=None,\n",
       "                                               predictor=None, random_state=42,\n",
       "                                               reg_alpha=None, reg_lambda=None, ...),\n",
       "                  n_jobs=2)</pre><b>In a Jupyter environment, please rerun this cell to show the HTML representation or trust the notebook. <br />On GitHub, the HTML representation is unable to render, please try loading this page with nbviewer.org.</b></div><div class=\"sk-container\" hidden><div class=\"sk-item sk-dashed-wrapped\"><div class=\"sk-label-container\"><div class=\"sk-label sk-toggleable\"><input class=\"sk-toggleable__control sk-hidden--visually\" id=\"sk-estimator-id-1\" type=\"checkbox\" ><label for=\"sk-estimator-id-1\" class=\"sk-toggleable__label sk-toggleable__label-arrow\">StackingRegressor</label><div class=\"sk-toggleable__content\"><pre>StackingRegressor(estimators=[(&#x27;sensor_point10_i_value_model_1&#x27;,\n",
       "                               &lt;catboost.core.CatBoostRegressor object at 0x147a42500&gt;)],\n",
       "                  final_estimator=XGBRegressor(base_score=None, booster=None,\n",
       "                                               callbacks=None,\n",
       "                                               colsample_bylevel=None,\n",
       "                                               colsample_bynode=None,\n",
       "                                               colsample_bytree=None,\n",
       "                                               early_stopping_rounds=None,\n",
       "                                               enable_categorical=False,\n",
       "                                               eval_metric=None, gamma=None,\n",
       "                                               gpu_id=None...y=None,\n",
       "                                               importance_type=None,\n",
       "                                               interaction_constraints=None,\n",
       "                                               learning_rate=None, max_bin=None,\n",
       "                                               max_cat_to_onehot=None,\n",
       "                                               max_delta_step=None,\n",
       "                                               max_depth=None, max_leaves=None,\n",
       "                                               min_child_weight=None,\n",
       "                                               missing=nan,\n",
       "                                               monotone_constraints=None,\n",
       "                                               n_estimators=10, n_jobs=None,\n",
       "                                               num_parallel_tree=None,\n",
       "                                               predictor=None, random_state=42,\n",
       "                                               reg_alpha=None, reg_lambda=None, ...),\n",
       "                  n_jobs=2)</pre></div></div></div><div class=\"sk-serial\"><div class=\"sk-item\"><div class=\"sk-parallel\"><div class=\"sk-parallel-item\"><div class=\"sk-item\"><div class=\"sk-label-container\"><div class=\"sk-label sk-toggleable\"><label>sensor_point10_i_value_model_1</label></div></div><div class=\"sk-serial\"><div class=\"sk-item\"><div class=\"sk-estimator sk-toggleable\"><input class=\"sk-toggleable__control sk-hidden--visually\" id=\"sk-estimator-id-2\" type=\"checkbox\" ><label for=\"sk-estimator-id-2\" class=\"sk-toggleable__label sk-toggleable__label-arrow\">CatBoostRegressor</label><div class=\"sk-toggleable__content\"><pre>&lt;catboost.core.CatBoostRegressor object at 0x147a42500&gt;</pre></div></div></div></div></div></div></div></div><div class=\"sk-item\"><div class=\"sk-parallel\"><div class=\"sk-parallel-item\"><div class=\"sk-item\"><div class=\"sk-label-container\"><div class=\"sk-label sk-toggleable\"><label>final_estimator</label></div></div><div class=\"sk-serial\"><div class=\"sk-item\"><div class=\"sk-estimator sk-toggleable\"><input class=\"sk-toggleable__control sk-hidden--visually\" id=\"sk-estimator-id-3\" type=\"checkbox\" ><label for=\"sk-estimator-id-3\" class=\"sk-toggleable__label sk-toggleable__label-arrow\">XGBRegressor</label><div class=\"sk-toggleable__content\"><pre>XGBRegressor(base_score=None, booster=None, callbacks=None,\n",
       "             colsample_bylevel=None, colsample_bynode=None,\n",
       "             colsample_bytree=None, early_stopping_rounds=None,\n",
       "             enable_categorical=False, eval_metric=None, gamma=None,\n",
       "             gpu_id=None, grow_policy=None, importance_type=None,\n",
       "             interaction_constraints=None, learning_rate=None, max_bin=None,\n",
       "             max_cat_to_onehot=None, max_delta_step=None, max_depth=None,\n",
       "             max_leaves=None, min_child_weight=None, missing=nan,\n",
       "             monotone_constraints=None, n_estimators=10, n_jobs=None,\n",
       "             num_parallel_tree=None, predictor=None, random_state=42,\n",
       "             reg_alpha=None, reg_lambda=None, ...)</pre></div></div></div></div></div></div></div></div></div></div></div></div>"
      ],
      "text/plain": [
       "StackingRegressor(estimators=[('sensor_point10_i_value_model_1',\n",
       "                               <catboost.core.CatBoostRegressor object at 0x147a42500>)],\n",
       "                  final_estimator=XGBRegressor(base_score=None, booster=None,\n",
       "                                               callbacks=None,\n",
       "                                               colsample_bylevel=None,\n",
       "                                               colsample_bynode=None,\n",
       "                                               colsample_bytree=None,\n",
       "                                               early_stopping_rounds=None,\n",
       "                                               enable_categorical=False,\n",
       "                                               eval_metric=None, gamma=None,\n",
       "                                               gpu_id=None...y=None,\n",
       "                                               importance_type=None,\n",
       "                                               interaction_constraints=None,\n",
       "                                               learning_rate=None, max_bin=None,\n",
       "                                               max_cat_to_onehot=None,\n",
       "                                               max_delta_step=None,\n",
       "                                               max_depth=None, max_leaves=None,\n",
       "                                               min_child_weight=None,\n",
       "                                               missing=nan,\n",
       "                                               monotone_constraints=None,\n",
       "                                               n_estimators=10, n_jobs=None,\n",
       "                                               num_parallel_tree=None,\n",
       "                                               predictor=None, random_state=42,\n",
       "                                               reg_alpha=None, reg_lambda=None, ...),\n",
       "                  n_jobs=2)"
      ]
     },
     "execution_count": 13,
     "metadata": {},
     "output_type": "execute_result"
    }
   ],
   "source": [
    "stack_model_dic[col]['model']"
   ]
  },
  {
   "cell_type": "code",
   "execution_count": 14,
   "id": "b655ce5e",
   "metadata": {
    "tags": []
   },
   "outputs": [],
   "source": [
    "with open(f'../Model/target_col_list.pickle', 'rb' ) as f:\n",
    "    col_y_li = pickle.load(f)\n",
    "    \n",
    "array_li= [ stack_model_dic[col_y]['model'].predict(train_x_after_fe).reshape(-1,1) for col_y in col_y_li ]\n",
    "all_res = np.concatenate(array_li, axis=1)"
   ]
  },
  {
   "cell_type": "code",
   "execution_count": 15,
   "id": "b9328686",
   "metadata": {},
   "outputs": [],
   "source": [
    "# Load y-scaler model\n",
    "with open(f'../Model/standard_scaler_y.pickle', 'rb') as f:\n",
    "    scaler_y = pickle.load(f)"
   ]
  },
  {
   "cell_type": "code",
   "execution_count": 16,
   "id": "4faaef98",
   "metadata": {
    "tags": []
   },
   "outputs": [
    {
     "name": "stdout",
     "output_type": "stream",
     "text": [
      "sensor_point5_i_value     14.158172\n",
      "sensor_point6_i_value     16.781120\n",
      "sensor_point7_i_value     21.478309\n",
      "sensor_point8_i_value     23.243289\n",
      "sensor_point9_i_value     28.291124\n",
      "sensor_point10_i_value    17.785837\n",
      "dtype: float64\n"
     ]
    }
   ],
   "source": [
    "predictions = scaler_y.inverse_transform(all_res)\n",
    "targets = non_scaled_train_y\n",
    "print(rmse_score(predictions, targets))"
   ]
  }
 ],
 "metadata": {
  "kernelspec": {
   "display_name": "Python 3 (ipykernel)",
   "language": "python",
   "name": "python3"
  },
  "language_info": {
   "codemirror_mode": {
    "name": "ipython",
    "version": 3
   },
   "file_extension": ".py",
   "mimetype": "text/x-python",
   "name": "python",
   "nbconvert_exporter": "python",
   "pygments_lexer": "ipython3",
   "version": "3.10.0"
  }
 },
 "nbformat": 4,
 "nbformat_minor": 5
}
